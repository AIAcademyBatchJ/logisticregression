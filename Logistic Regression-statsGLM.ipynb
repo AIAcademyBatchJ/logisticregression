{
 "cells": [
  {
   "cell_type": "code",
   "execution_count": 1,
   "metadata": {},
   "outputs": [],
   "source": [
    "import pandas as pd\n",
    "import numpy as np\n",
    "import os\n",
    "import matplotlib.pyplot as plt\n",
    "%matplotlib inline\n",
    "# data_dir=\"C:\\\\Users\\\\VK\\\\Documents\\\\Poojastuff\\\\dono\\\\Logistic Regression\\\\Logistic Regression\"\n",
    "# os.chdir(data_dir)"
   ]
  },
  {
   "cell_type": "code",
   "execution_count": 2,
   "metadata": {},
   "outputs": [],
   "source": [
    "data=pd.read_csv(\"dm.csv\",na_values=[\"\",\" \",\"NA\",\"N/A\"])"
   ]
  },
  {
   "cell_type": "code",
   "execution_count": 3,
   "metadata": {},
   "outputs": [
    {
     "data": {
      "text/html": [
       "<div>\n",
       "<style scoped>\n",
       "    .dataframe tbody tr th:only-of-type {\n",
       "        vertical-align: middle;\n",
       "    }\n",
       "\n",
       "    .dataframe tbody tr th {\n",
       "        vertical-align: top;\n",
       "    }\n",
       "\n",
       "    .dataframe thead th {\n",
       "        text-align: right;\n",
       "    }\n",
       "</style>\n",
       "<table border=\"1\" class=\"dataframe\">\n",
       "  <thead>\n",
       "    <tr style=\"text-align: right;\">\n",
       "      <th></th>\n",
       "      <th>Age</th>\n",
       "      <th>Gender</th>\n",
       "      <th>OwnHome</th>\n",
       "      <th>Married</th>\n",
       "      <th>Location</th>\n",
       "      <th>Salary</th>\n",
       "      <th>Children</th>\n",
       "      <th>History</th>\n",
       "      <th>Catalogs</th>\n",
       "      <th>AmountSpent</th>\n",
       "      <th>Cust_Id</th>\n",
       "    </tr>\n",
       "  </thead>\n",
       "  <tbody>\n",
       "    <tr>\n",
       "      <th>0</th>\n",
       "      <td>Old</td>\n",
       "      <td>Female</td>\n",
       "      <td>Own</td>\n",
       "      <td>Single</td>\n",
       "      <td>Far</td>\n",
       "      <td>47500</td>\n",
       "      <td>0</td>\n",
       "      <td>High</td>\n",
       "      <td>6</td>\n",
       "      <td>755</td>\n",
       "      <td>247</td>\n",
       "    </tr>\n",
       "    <tr>\n",
       "      <th>1</th>\n",
       "      <td>Middle</td>\n",
       "      <td>Male</td>\n",
       "      <td>Rent</td>\n",
       "      <td>Single</td>\n",
       "      <td>Close</td>\n",
       "      <td>63600</td>\n",
       "      <td>0</td>\n",
       "      <td>High</td>\n",
       "      <td>6</td>\n",
       "      <td>1318</td>\n",
       "      <td>127</td>\n",
       "    </tr>\n",
       "    <tr>\n",
       "      <th>2</th>\n",
       "      <td>Young</td>\n",
       "      <td>Female</td>\n",
       "      <td>Rent</td>\n",
       "      <td>Single</td>\n",
       "      <td>Close</td>\n",
       "      <td>13500</td>\n",
       "      <td>0</td>\n",
       "      <td>Low</td>\n",
       "      <td>18</td>\n",
       "      <td>296</td>\n",
       "      <td>479</td>\n",
       "    </tr>\n",
       "    <tr>\n",
       "      <th>3</th>\n",
       "      <td>Middle</td>\n",
       "      <td>Male</td>\n",
       "      <td>Own</td>\n",
       "      <td>Married</td>\n",
       "      <td>Close</td>\n",
       "      <td>85600</td>\n",
       "      <td>1</td>\n",
       "      <td>High</td>\n",
       "      <td>18</td>\n",
       "      <td>2436</td>\n",
       "      <td>475</td>\n",
       "    </tr>\n",
       "    <tr>\n",
       "      <th>4</th>\n",
       "      <td>Middle</td>\n",
       "      <td>Female</td>\n",
       "      <td>Own</td>\n",
       "      <td>Single</td>\n",
       "      <td>Close</td>\n",
       "      <td>68400</td>\n",
       "      <td>0</td>\n",
       "      <td>High</td>\n",
       "      <td>12</td>\n",
       "      <td>1304</td>\n",
       "      <td>151</td>\n",
       "    </tr>\n",
       "  </tbody>\n",
       "</table>\n",
       "</div>"
      ],
      "text/plain": [
       "      Age  Gender OwnHome  Married Location  Salary  Children History  \\\n",
       "0     Old  Female     Own   Single      Far   47500         0    High   \n",
       "1  Middle    Male    Rent   Single    Close   63600         0    High   \n",
       "2   Young  Female    Rent   Single    Close   13500         0     Low   \n",
       "3  Middle    Male     Own  Married    Close   85600         1    High   \n",
       "4  Middle  Female     Own   Single    Close   68400         0    High   \n",
       "\n",
       "   Catalogs  AmountSpent  Cust_Id  \n",
       "0         6          755      247  \n",
       "1         6         1318      127  \n",
       "2        18          296      479  \n",
       "3        18         2436      475  \n",
       "4        12         1304      151  "
      ]
     },
     "execution_count": 3,
     "metadata": {},
     "output_type": "execute_result"
    }
   ],
   "source": [
    "data.head()"
   ]
  },
  {
   "cell_type": "code",
   "execution_count": 4,
   "metadata": {},
   "outputs": [],
   "source": [
    "## Assume people who spend more than the average are good customers\n",
    "data['target']=data['AmountSpent'].map(lambda x: 1 if x>data['AmountSpent'].mean() else 0)"
   ]
  },
  {
   "cell_type": "code",
   "execution_count": 5,
   "metadata": {},
   "outputs": [],
   "source": [
    "data=data.drop(\"AmountSpent\",axis=1)"
   ]
  },
  {
   "cell_type": "code",
   "execution_count": 6,
   "metadata": {},
   "outputs": [
    {
     "data": {
      "text/html": [
       "<div>\n",
       "<style scoped>\n",
       "    .dataframe tbody tr th:only-of-type {\n",
       "        vertical-align: middle;\n",
       "    }\n",
       "\n",
       "    .dataframe tbody tr th {\n",
       "        vertical-align: top;\n",
       "    }\n",
       "\n",
       "    .dataframe thead th {\n",
       "        text-align: right;\n",
       "    }\n",
       "</style>\n",
       "<table border=\"1\" class=\"dataframe\">\n",
       "  <thead>\n",
       "    <tr style=\"text-align: right;\">\n",
       "      <th></th>\n",
       "      <th>Age</th>\n",
       "      <th>Gender</th>\n",
       "      <th>OwnHome</th>\n",
       "      <th>Married</th>\n",
       "      <th>Location</th>\n",
       "      <th>Salary</th>\n",
       "      <th>Children</th>\n",
       "      <th>History</th>\n",
       "      <th>Catalogs</th>\n",
       "      <th>Cust_Id</th>\n",
       "      <th>target</th>\n",
       "    </tr>\n",
       "  </thead>\n",
       "  <tbody>\n",
       "    <tr>\n",
       "      <th>0</th>\n",
       "      <td>Old</td>\n",
       "      <td>Female</td>\n",
       "      <td>Own</td>\n",
       "      <td>Single</td>\n",
       "      <td>Far</td>\n",
       "      <td>47500</td>\n",
       "      <td>0</td>\n",
       "      <td>High</td>\n",
       "      <td>6</td>\n",
       "      <td>247</td>\n",
       "      <td>0</td>\n",
       "    </tr>\n",
       "    <tr>\n",
       "      <th>1</th>\n",
       "      <td>Middle</td>\n",
       "      <td>Male</td>\n",
       "      <td>Rent</td>\n",
       "      <td>Single</td>\n",
       "      <td>Close</td>\n",
       "      <td>63600</td>\n",
       "      <td>0</td>\n",
       "      <td>High</td>\n",
       "      <td>6</td>\n",
       "      <td>127</td>\n",
       "      <td>1</td>\n",
       "    </tr>\n",
       "    <tr>\n",
       "      <th>2</th>\n",
       "      <td>Young</td>\n",
       "      <td>Female</td>\n",
       "      <td>Rent</td>\n",
       "      <td>Single</td>\n",
       "      <td>Close</td>\n",
       "      <td>13500</td>\n",
       "      <td>0</td>\n",
       "      <td>Low</td>\n",
       "      <td>18</td>\n",
       "      <td>479</td>\n",
       "      <td>0</td>\n",
       "    </tr>\n",
       "    <tr>\n",
       "      <th>3</th>\n",
       "      <td>Middle</td>\n",
       "      <td>Male</td>\n",
       "      <td>Own</td>\n",
       "      <td>Married</td>\n",
       "      <td>Close</td>\n",
       "      <td>85600</td>\n",
       "      <td>1</td>\n",
       "      <td>High</td>\n",
       "      <td>18</td>\n",
       "      <td>475</td>\n",
       "      <td>1</td>\n",
       "    </tr>\n",
       "    <tr>\n",
       "      <th>4</th>\n",
       "      <td>Middle</td>\n",
       "      <td>Female</td>\n",
       "      <td>Own</td>\n",
       "      <td>Single</td>\n",
       "      <td>Close</td>\n",
       "      <td>68400</td>\n",
       "      <td>0</td>\n",
       "      <td>High</td>\n",
       "      <td>12</td>\n",
       "      <td>151</td>\n",
       "      <td>1</td>\n",
       "    </tr>\n",
       "  </tbody>\n",
       "</table>\n",
       "</div>"
      ],
      "text/plain": [
       "      Age  Gender OwnHome  Married Location  Salary  Children History  \\\n",
       "0     Old  Female     Own   Single      Far   47500         0    High   \n",
       "1  Middle    Male    Rent   Single    Close   63600         0    High   \n",
       "2   Young  Female    Rent   Single    Close   13500         0     Low   \n",
       "3  Middle    Male     Own  Married    Close   85600         1    High   \n",
       "4  Middle  Female     Own   Single    Close   68400         0    High   \n",
       "\n",
       "   Catalogs  Cust_Id  target  \n",
       "0         6      247       0  \n",
       "1         6      127       1  \n",
       "2        18      479       0  \n",
       "3        18      475       1  \n",
       "4        12      151       1  "
      ]
     },
     "execution_count": 6,
     "metadata": {},
     "output_type": "execute_result"
    }
   ],
   "source": [
    "data.head()"
   ]
  },
  {
   "cell_type": "code",
   "execution_count": 7,
   "metadata": {},
   "outputs": [
    {
     "data": {
      "text/plain": [
       "High      255\n",
       "Low       230\n",
       "Medium    212\n",
       "Name: History, dtype: int64"
      ]
     },
     "execution_count": 7,
     "metadata": {},
     "output_type": "execute_result"
    }
   ],
   "source": [
    "data['History'].value_counts()"
   ]
  },
  {
   "cell_type": "code",
   "execution_count": 8,
   "metadata": {},
   "outputs": [
    {
     "data": {
      "text/plain": [
       "303"
      ]
     },
     "execution_count": 8,
     "metadata": {},
     "output_type": "execute_result"
    }
   ],
   "source": [
    "data['History'].isnull().sum()"
   ]
  },
  {
   "cell_type": "code",
   "execution_count": 9,
   "metadata": {},
   "outputs": [],
   "source": [
    "## Minimal Data Prep\n",
    "data['History']=data['History'].fillna(\"NewCust\")"
   ]
  },
  {
   "cell_type": "code",
   "execution_count": 10,
   "metadata": {},
   "outputs": [
    {
     "data": {
      "text/html": [
       "<div>\n",
       "<style scoped>\n",
       "    .dataframe tbody tr th:only-of-type {\n",
       "        vertical-align: middle;\n",
       "    }\n",
       "\n",
       "    .dataframe tbody tr th {\n",
       "        vertical-align: top;\n",
       "    }\n",
       "\n",
       "    .dataframe thead th {\n",
       "        text-align: right;\n",
       "    }\n",
       "</style>\n",
       "<table border=\"1\" class=\"dataframe\">\n",
       "  <thead>\n",
       "    <tr style=\"text-align: right;\">\n",
       "      <th></th>\n",
       "      <th>Age</th>\n",
       "      <th>Gender</th>\n",
       "      <th>OwnHome</th>\n",
       "      <th>Married</th>\n",
       "      <th>Location</th>\n",
       "      <th>Salary</th>\n",
       "      <th>Children</th>\n",
       "      <th>History</th>\n",
       "      <th>Catalogs</th>\n",
       "      <th>Cust_Id</th>\n",
       "      <th>target</th>\n",
       "    </tr>\n",
       "  </thead>\n",
       "  <tbody>\n",
       "    <tr>\n",
       "      <th>0</th>\n",
       "      <td>Old</td>\n",
       "      <td>Female</td>\n",
       "      <td>Own</td>\n",
       "      <td>Single</td>\n",
       "      <td>Far</td>\n",
       "      <td>47500</td>\n",
       "      <td>0</td>\n",
       "      <td>High</td>\n",
       "      <td>6</td>\n",
       "      <td>247</td>\n",
       "      <td>0</td>\n",
       "    </tr>\n",
       "    <tr>\n",
       "      <th>1</th>\n",
       "      <td>Middle</td>\n",
       "      <td>Male</td>\n",
       "      <td>Rent</td>\n",
       "      <td>Single</td>\n",
       "      <td>Close</td>\n",
       "      <td>63600</td>\n",
       "      <td>0</td>\n",
       "      <td>High</td>\n",
       "      <td>6</td>\n",
       "      <td>127</td>\n",
       "      <td>1</td>\n",
       "    </tr>\n",
       "    <tr>\n",
       "      <th>2</th>\n",
       "      <td>Young</td>\n",
       "      <td>Female</td>\n",
       "      <td>Rent</td>\n",
       "      <td>Single</td>\n",
       "      <td>Close</td>\n",
       "      <td>13500</td>\n",
       "      <td>0</td>\n",
       "      <td>Low</td>\n",
       "      <td>18</td>\n",
       "      <td>479</td>\n",
       "      <td>0</td>\n",
       "    </tr>\n",
       "    <tr>\n",
       "      <th>3</th>\n",
       "      <td>Middle</td>\n",
       "      <td>Male</td>\n",
       "      <td>Own</td>\n",
       "      <td>Married</td>\n",
       "      <td>Close</td>\n",
       "      <td>85600</td>\n",
       "      <td>1</td>\n",
       "      <td>High</td>\n",
       "      <td>18</td>\n",
       "      <td>475</td>\n",
       "      <td>1</td>\n",
       "    </tr>\n",
       "    <tr>\n",
       "      <th>4</th>\n",
       "      <td>Middle</td>\n",
       "      <td>Female</td>\n",
       "      <td>Own</td>\n",
       "      <td>Single</td>\n",
       "      <td>Close</td>\n",
       "      <td>68400</td>\n",
       "      <td>0</td>\n",
       "      <td>High</td>\n",
       "      <td>12</td>\n",
       "      <td>151</td>\n",
       "      <td>1</td>\n",
       "    </tr>\n",
       "  </tbody>\n",
       "</table>\n",
       "</div>"
      ],
      "text/plain": [
       "      Age  Gender OwnHome  Married Location  Salary  Children History  \\\n",
       "0     Old  Female     Own   Single      Far   47500         0    High   \n",
       "1  Middle    Male    Rent   Single    Close   63600         0    High   \n",
       "2   Young  Female    Rent   Single    Close   13500         0     Low   \n",
       "3  Middle    Male     Own  Married    Close   85600         1    High   \n",
       "4  Middle  Female     Own   Single    Close   68400         0    High   \n",
       "\n",
       "   Catalogs  Cust_Id  target  \n",
       "0         6      247       0  \n",
       "1         6      127       1  \n",
       "2        18      479       0  \n",
       "3        18      475       1  \n",
       "4        12      151       1  "
      ]
     },
     "execution_count": 10,
     "metadata": {},
     "output_type": "execute_result"
    }
   ],
   "source": [
    "data.head()"
   ]
  },
  {
   "cell_type": "code",
   "execution_count": 11,
   "metadata": {},
   "outputs": [
    {
     "data": {
      "text/plain": [
       "NewCust    303\n",
       "High       255\n",
       "Low        230\n",
       "Medium     212\n",
       "Name: History, dtype: int64"
      ]
     },
     "execution_count": 11,
     "metadata": {},
     "output_type": "execute_result"
    }
   ],
   "source": [
    "data['History'].value_counts()"
   ]
  },
  {
   "cell_type": "code",
   "execution_count": 12,
   "metadata": {},
   "outputs": [
    {
     "data": {
      "text/html": [
       "<div>\n",
       "<style scoped>\n",
       "    .dataframe tbody tr th:only-of-type {\n",
       "        vertical-align: middle;\n",
       "    }\n",
       "\n",
       "    .dataframe tbody tr th {\n",
       "        vertical-align: top;\n",
       "    }\n",
       "\n",
       "    .dataframe thead th {\n",
       "        text-align: right;\n",
       "    }\n",
       "</style>\n",
       "<table border=\"1\" class=\"dataframe\">\n",
       "  <thead>\n",
       "    <tr style=\"text-align: right;\">\n",
       "      <th></th>\n",
       "      <th>Age</th>\n",
       "      <th>Gender</th>\n",
       "      <th>OwnHome</th>\n",
       "      <th>Married</th>\n",
       "      <th>Location</th>\n",
       "      <th>Salary</th>\n",
       "      <th>Children</th>\n",
       "      <th>History</th>\n",
       "      <th>Catalogs</th>\n",
       "      <th>Cust_Id</th>\n",
       "      <th>...</th>\n",
       "      <th>class_Own</th>\n",
       "      <th>class_Rent</th>\n",
       "      <th>class_Married</th>\n",
       "      <th>class_Single</th>\n",
       "      <th>class_Close</th>\n",
       "      <th>class_Far</th>\n",
       "      <th>class_High</th>\n",
       "      <th>class_Low</th>\n",
       "      <th>class_Medium</th>\n",
       "      <th>class_NewCust</th>\n",
       "    </tr>\n",
       "  </thead>\n",
       "  <tbody>\n",
       "    <tr>\n",
       "      <th>0</th>\n",
       "      <td>Old</td>\n",
       "      <td>Female</td>\n",
       "      <td>Own</td>\n",
       "      <td>Single</td>\n",
       "      <td>Far</td>\n",
       "      <td>47500</td>\n",
       "      <td>0</td>\n",
       "      <td>High</td>\n",
       "      <td>6</td>\n",
       "      <td>247</td>\n",
       "      <td>...</td>\n",
       "      <td>1</td>\n",
       "      <td>0</td>\n",
       "      <td>0</td>\n",
       "      <td>1</td>\n",
       "      <td>0</td>\n",
       "      <td>1</td>\n",
       "      <td>1</td>\n",
       "      <td>0</td>\n",
       "      <td>0</td>\n",
       "      <td>0</td>\n",
       "    </tr>\n",
       "    <tr>\n",
       "      <th>1</th>\n",
       "      <td>Middle</td>\n",
       "      <td>Male</td>\n",
       "      <td>Rent</td>\n",
       "      <td>Single</td>\n",
       "      <td>Close</td>\n",
       "      <td>63600</td>\n",
       "      <td>0</td>\n",
       "      <td>High</td>\n",
       "      <td>6</td>\n",
       "      <td>127</td>\n",
       "      <td>...</td>\n",
       "      <td>0</td>\n",
       "      <td>1</td>\n",
       "      <td>0</td>\n",
       "      <td>1</td>\n",
       "      <td>1</td>\n",
       "      <td>0</td>\n",
       "      <td>1</td>\n",
       "      <td>0</td>\n",
       "      <td>0</td>\n",
       "      <td>0</td>\n",
       "    </tr>\n",
       "    <tr>\n",
       "      <th>2</th>\n",
       "      <td>Young</td>\n",
       "      <td>Female</td>\n",
       "      <td>Rent</td>\n",
       "      <td>Single</td>\n",
       "      <td>Close</td>\n",
       "      <td>13500</td>\n",
       "      <td>0</td>\n",
       "      <td>Low</td>\n",
       "      <td>18</td>\n",
       "      <td>479</td>\n",
       "      <td>...</td>\n",
       "      <td>0</td>\n",
       "      <td>1</td>\n",
       "      <td>0</td>\n",
       "      <td>1</td>\n",
       "      <td>1</td>\n",
       "      <td>0</td>\n",
       "      <td>0</td>\n",
       "      <td>1</td>\n",
       "      <td>0</td>\n",
       "      <td>0</td>\n",
       "    </tr>\n",
       "    <tr>\n",
       "      <th>3</th>\n",
       "      <td>Middle</td>\n",
       "      <td>Male</td>\n",
       "      <td>Own</td>\n",
       "      <td>Married</td>\n",
       "      <td>Close</td>\n",
       "      <td>85600</td>\n",
       "      <td>1</td>\n",
       "      <td>High</td>\n",
       "      <td>18</td>\n",
       "      <td>475</td>\n",
       "      <td>...</td>\n",
       "      <td>1</td>\n",
       "      <td>0</td>\n",
       "      <td>1</td>\n",
       "      <td>0</td>\n",
       "      <td>1</td>\n",
       "      <td>0</td>\n",
       "      <td>1</td>\n",
       "      <td>0</td>\n",
       "      <td>0</td>\n",
       "      <td>0</td>\n",
       "    </tr>\n",
       "    <tr>\n",
       "      <th>4</th>\n",
       "      <td>Middle</td>\n",
       "      <td>Female</td>\n",
       "      <td>Own</td>\n",
       "      <td>Single</td>\n",
       "      <td>Close</td>\n",
       "      <td>68400</td>\n",
       "      <td>0</td>\n",
       "      <td>High</td>\n",
       "      <td>12</td>\n",
       "      <td>151</td>\n",
       "      <td>...</td>\n",
       "      <td>1</td>\n",
       "      <td>0</td>\n",
       "      <td>0</td>\n",
       "      <td>1</td>\n",
       "      <td>1</td>\n",
       "      <td>0</td>\n",
       "      <td>1</td>\n",
       "      <td>0</td>\n",
       "      <td>0</td>\n",
       "      <td>0</td>\n",
       "    </tr>\n",
       "  </tbody>\n",
       "</table>\n",
       "<p>5 rows × 26 columns</p>\n",
       "</div>"
      ],
      "text/plain": [
       "      Age  Gender OwnHome  Married Location  Salary  Children History  \\\n",
       "0     Old  Female     Own   Single      Far   47500         0    High   \n",
       "1  Middle    Male    Rent   Single    Close   63600         0    High   \n",
       "2   Young  Female    Rent   Single    Close   13500         0     Low   \n",
       "3  Middle    Male     Own  Married    Close   85600         1    High   \n",
       "4  Middle  Female     Own   Single    Close   68400         0    High   \n",
       "\n",
       "   Catalogs  Cust_Id  ...  class_Own  class_Rent  class_Married  class_Single  \\\n",
       "0         6      247  ...          1           0              0             1   \n",
       "1         6      127  ...          0           1              0             1   \n",
       "2        18      479  ...          0           1              0             1   \n",
       "3        18      475  ...          1           0              1             0   \n",
       "4        12      151  ...          1           0              0             1   \n",
       "\n",
       "   class_Close  class_Far  class_High  class_Low  class_Medium  class_NewCust  \n",
       "0            0          1           1          0             0              0  \n",
       "1            1          0           1          0             0              0  \n",
       "2            1          0           0          1             0              0  \n",
       "3            1          0           1          0             0              0  \n",
       "4            1          0           1          0             0              0  \n",
       "\n",
       "[5 rows x 26 columns]"
      ]
     },
     "execution_count": 12,
     "metadata": {},
     "output_type": "execute_result"
    }
   ],
   "source": [
    "## One-hot encode categorical columns\n",
    "\n",
    "AgeDummy = pd.get_dummies(data['Age'])\n",
    "GenderDummy = pd.get_dummies(data['Gender'] , prefix = 'class')\n",
    "OwnHomeDummy = pd.get_dummies(data['OwnHome'] , prefix = 'class')\n",
    "MarriedDummy = pd.get_dummies(data['Married'] , prefix = 'class')\n",
    "LocationDummy = pd.get_dummies(data['Location'] , prefix = 'class')\n",
    "HistoryDummy = pd.get_dummies(data['History'] , prefix = 'class')\n",
    "\n",
    "data = pd.concat([data,AgeDummy,GenderDummy,OwnHomeDummy,MarriedDummy,LocationDummy,HistoryDummy], axis=1)\n",
    "data.head()"
   ]
  },
  {
   "cell_type": "code",
   "execution_count": 13,
   "metadata": {},
   "outputs": [],
   "source": [
    "## Drop redundant columns to prevent multicollinearity of dummy variables\n",
    "data.drop(['Cust_Id','Age' , 'Gender' , 'OwnHome','Married' , 'Location', 'History'] , axis = 1 , inplace = True)"
   ]
  },
  {
   "cell_type": "code",
   "execution_count": 14,
   "metadata": {},
   "outputs": [
    {
     "data": {
      "text/html": [
       "<div>\n",
       "<style scoped>\n",
       "    .dataframe tbody tr th:only-of-type {\n",
       "        vertical-align: middle;\n",
       "    }\n",
       "\n",
       "    .dataframe tbody tr th {\n",
       "        vertical-align: top;\n",
       "    }\n",
       "\n",
       "    .dataframe thead th {\n",
       "        text-align: right;\n",
       "    }\n",
       "</style>\n",
       "<table border=\"1\" class=\"dataframe\">\n",
       "  <thead>\n",
       "    <tr style=\"text-align: right;\">\n",
       "      <th></th>\n",
       "      <th>Salary</th>\n",
       "      <th>Children</th>\n",
       "      <th>Catalogs</th>\n",
       "      <th>target</th>\n",
       "      <th>Middle</th>\n",
       "      <th>Old</th>\n",
       "      <th>Young</th>\n",
       "      <th>class_Female</th>\n",
       "      <th>class_Male</th>\n",
       "      <th>class_Own</th>\n",
       "      <th>class_Rent</th>\n",
       "      <th>class_Married</th>\n",
       "      <th>class_Single</th>\n",
       "      <th>class_Close</th>\n",
       "      <th>class_Far</th>\n",
       "      <th>class_High</th>\n",
       "      <th>class_Low</th>\n",
       "      <th>class_Medium</th>\n",
       "      <th>class_NewCust</th>\n",
       "    </tr>\n",
       "  </thead>\n",
       "  <tbody>\n",
       "    <tr>\n",
       "      <th>0</th>\n",
       "      <td>47500</td>\n",
       "      <td>0</td>\n",
       "      <td>6</td>\n",
       "      <td>0</td>\n",
       "      <td>0</td>\n",
       "      <td>1</td>\n",
       "      <td>0</td>\n",
       "      <td>1</td>\n",
       "      <td>0</td>\n",
       "      <td>1</td>\n",
       "      <td>0</td>\n",
       "      <td>0</td>\n",
       "      <td>1</td>\n",
       "      <td>0</td>\n",
       "      <td>1</td>\n",
       "      <td>1</td>\n",
       "      <td>0</td>\n",
       "      <td>0</td>\n",
       "      <td>0</td>\n",
       "    </tr>\n",
       "    <tr>\n",
       "      <th>1</th>\n",
       "      <td>63600</td>\n",
       "      <td>0</td>\n",
       "      <td>6</td>\n",
       "      <td>1</td>\n",
       "      <td>1</td>\n",
       "      <td>0</td>\n",
       "      <td>0</td>\n",
       "      <td>0</td>\n",
       "      <td>1</td>\n",
       "      <td>0</td>\n",
       "      <td>1</td>\n",
       "      <td>0</td>\n",
       "      <td>1</td>\n",
       "      <td>1</td>\n",
       "      <td>0</td>\n",
       "      <td>1</td>\n",
       "      <td>0</td>\n",
       "      <td>0</td>\n",
       "      <td>0</td>\n",
       "    </tr>\n",
       "    <tr>\n",
       "      <th>2</th>\n",
       "      <td>13500</td>\n",
       "      <td>0</td>\n",
       "      <td>18</td>\n",
       "      <td>0</td>\n",
       "      <td>0</td>\n",
       "      <td>0</td>\n",
       "      <td>1</td>\n",
       "      <td>1</td>\n",
       "      <td>0</td>\n",
       "      <td>0</td>\n",
       "      <td>1</td>\n",
       "      <td>0</td>\n",
       "      <td>1</td>\n",
       "      <td>1</td>\n",
       "      <td>0</td>\n",
       "      <td>0</td>\n",
       "      <td>1</td>\n",
       "      <td>0</td>\n",
       "      <td>0</td>\n",
       "    </tr>\n",
       "    <tr>\n",
       "      <th>3</th>\n",
       "      <td>85600</td>\n",
       "      <td>1</td>\n",
       "      <td>18</td>\n",
       "      <td>1</td>\n",
       "      <td>1</td>\n",
       "      <td>0</td>\n",
       "      <td>0</td>\n",
       "      <td>0</td>\n",
       "      <td>1</td>\n",
       "      <td>1</td>\n",
       "      <td>0</td>\n",
       "      <td>1</td>\n",
       "      <td>0</td>\n",
       "      <td>1</td>\n",
       "      <td>0</td>\n",
       "      <td>1</td>\n",
       "      <td>0</td>\n",
       "      <td>0</td>\n",
       "      <td>0</td>\n",
       "    </tr>\n",
       "    <tr>\n",
       "      <th>4</th>\n",
       "      <td>68400</td>\n",
       "      <td>0</td>\n",
       "      <td>12</td>\n",
       "      <td>1</td>\n",
       "      <td>1</td>\n",
       "      <td>0</td>\n",
       "      <td>0</td>\n",
       "      <td>1</td>\n",
       "      <td>0</td>\n",
       "      <td>1</td>\n",
       "      <td>0</td>\n",
       "      <td>0</td>\n",
       "      <td>1</td>\n",
       "      <td>1</td>\n",
       "      <td>0</td>\n",
       "      <td>1</td>\n",
       "      <td>0</td>\n",
       "      <td>0</td>\n",
       "      <td>0</td>\n",
       "    </tr>\n",
       "  </tbody>\n",
       "</table>\n",
       "</div>"
      ],
      "text/plain": [
       "   Salary  Children  Catalogs  target  Middle  Old  Young  class_Female  \\\n",
       "0   47500         0         6       0       0    1      0             1   \n",
       "1   63600         0         6       1       1    0      0             0   \n",
       "2   13500         0        18       0       0    0      1             1   \n",
       "3   85600         1        18       1       1    0      0             0   \n",
       "4   68400         0        12       1       1    0      0             1   \n",
       "\n",
       "   class_Male  class_Own  class_Rent  class_Married  class_Single  \\\n",
       "0           0          1           0              0             1   \n",
       "1           1          0           1              0             1   \n",
       "2           0          0           1              0             1   \n",
       "3           1          1           0              1             0   \n",
       "4           0          1           0              0             1   \n",
       "\n",
       "   class_Close  class_Far  class_High  class_Low  class_Medium  class_NewCust  \n",
       "0            0          1           1          0             0              0  \n",
       "1            1          0           1          0             0              0  \n",
       "2            1          0           0          1             0              0  \n",
       "3            1          0           1          0             0              0  \n",
       "4            1          0           1          0             0              0  "
      ]
     },
     "execution_count": 14,
     "metadata": {},
     "output_type": "execute_result"
    }
   ],
   "source": [
    "data.head()"
   ]
  },
  {
   "cell_type": "code",
   "execution_count": 15,
   "metadata": {},
   "outputs": [],
   "source": [
    "## Split the data into test and train\n",
    "from sklearn.model_selection import train_test_split\n",
    "xtrain, xtest, ytrain, ytest = train_test_split(data.drop('target', axis=1), data['target'],\\\n",
    "                                                    test_size=0.2, random_state=156)"
   ]
  },
  {
   "cell_type": "code",
   "execution_count": 16,
   "metadata": {},
   "outputs": [],
   "source": [
    "## Build Model\n",
    "import statsmodels.api as sm\n",
    "\n",
    "# Adding constant term as we are using statsmodel\n",
    "xtrain = sm.add_constant(xtrain)\n",
    "xtest = sm.add_constant(xtest)"
   ]
  },
  {
   "cell_type": "code",
   "execution_count": 17,
   "metadata": {},
   "outputs": [],
   "source": [
    "model1=sm.GLM(ytrain,xtrain,family=sm.families.Binomial()).fit()"
   ]
  },
  {
   "cell_type": "code",
   "execution_count": 18,
   "metadata": {},
   "outputs": [
    {
     "name": "stdout",
     "output_type": "stream",
     "text": [
      "                 Generalized Linear Model Regression Results                  \n",
      "==============================================================================\n",
      "Dep. Variable:                 target   No. Observations:                  800\n",
      "Model:                            GLM   Df Residuals:                      787\n",
      "Model Family:                Binomial   Df Model:                           12\n",
      "Link Function:                  logit   Scale:                          1.0000\n",
      "Method:                          IRLS   Log-Likelihood:                -192.40\n",
      "Date:                Sun, 24 Oct 2021   Deviance:                       384.80\n",
      "Time:                        19:04:35   Pearson chi2:                     478.\n",
      "No. Iterations:                    24                                         \n",
      "Covariance Type:            nonrobust                                         \n",
      "=================================================================================\n",
      "                    coef    std err          z      P>|z|      [0.025      0.975]\n",
      "---------------------------------------------------------------------------------\n",
      "const            -3.5487    905.298     -0.004      0.997   -1777.900    1770.803\n",
      "Salary         6.337e-05   1.02e-05      6.199      0.000    4.33e-05    8.34e-05\n",
      "Children         -0.6459      0.178     -3.636      0.000      -0.994      -0.298\n",
      "Catalogs          0.2215      0.025      8.946      0.000       0.173       0.270\n",
      "Middle           -0.8520    301.766     -0.003      0.998    -592.303     590.599\n",
      "Old              -0.7607    301.766     -0.003      0.998    -592.211     590.690\n",
      "Young            -1.9360    301.766     -0.006      0.995    -593.387     589.515\n",
      "class_Female     -1.7481    452.649     -0.004      0.997    -888.924     885.428\n",
      "class_Male       -1.8006    452.649     -0.004      0.997    -888.976     885.375\n",
      "class_Own        -1.7714    452.649     -0.004      0.997    -888.947     885.404\n",
      "class_Rent       -1.7773    452.649     -0.004      0.997    -888.953     885.398\n",
      "class_Married    -1.5403    452.649     -0.003      0.997    -888.716     885.636\n",
      "class_Single     -2.0084    452.649     -0.004      0.996    -889.184     885.167\n",
      "class_Close      -2.4263    452.649     -0.005      0.996    -889.602     884.750\n",
      "class_Far        -1.1224    452.649     -0.002      0.998    -888.298     886.053\n",
      "class_High        5.8035   3017.660      0.002      0.998   -5908.701    5920.308\n",
      "class_Low       -19.0007   9958.278     -0.002      0.998   -1.95e+04    1.95e+04\n",
      "class_Medium      3.7503   3017.660      0.001      0.999   -5910.755    5918.255\n",
      "class_NewCust     5.8982   3017.660      0.002      0.998   -5908.607    5920.403\n",
      "=================================================================================\n"
     ]
    }
   ],
   "source": [
    "print(model1.summary())"
   ]
  },
  {
   "cell_type": "code",
   "execution_count": 19,
   "metadata": {},
   "outputs": [
    {
     "name": "stdout",
     "output_type": "stream",
     "text": [
      "                  Results: Generalized linear model\n",
      "======================================================================\n",
      "Model:                 GLM                AIC:              410.8025  \n",
      "Link Function:         logit              BIC:              -4875.9869\n",
      "Dependent Variable:    target             Log-Likelihood:   -192.40   \n",
      "Date:                  2021-10-24 19:04   LL-Null:          -537.59   \n",
      "No. Observations:      800                Deviance:         384.80    \n",
      "Df Model:              12                 Pearson chi2:     478.      \n",
      "Df Residuals:          787                Scale:            1.0000    \n",
      "Method:                IRLS                                           \n",
      "----------------------------------------------------------------------\n",
      "               Coef.    Std.Err.    z    P>|z|     [0.025     0.975]  \n",
      "----------------------------------------------------------------------\n",
      "const          -3.5487  905.2980 -0.0039 0.9969  -1777.9002  1770.8028\n",
      "Salary          0.0001    0.0000  6.1991 0.0000      0.0000     0.0001\n",
      "Children       -0.6459    0.1776 -3.6357 0.0003     -0.9941    -0.2977\n",
      "Catalogs        0.2215    0.0248  8.9461 0.0000      0.1730     0.2700\n",
      "Middle         -0.8520  301.7661 -0.0028 0.9977   -592.3027   590.5987\n",
      "Old            -0.7607  301.7661 -0.0025 0.9980   -592.2114   590.6900\n",
      "Young          -1.9360  301.7661 -0.0064 0.9949   -593.3867   589.5148\n",
      "class_Female   -1.7481  452.6490 -0.0039 0.9969   -888.9239   885.4277\n",
      "class_Male     -1.8006  452.6490 -0.0040 0.9968   -888.9764   885.3752\n",
      "class_Own      -1.7714  452.6490 -0.0039 0.9969   -888.9472   885.4044\n",
      "class_Rent     -1.7773  452.6490 -0.0039 0.9969   -888.9531   885.3985\n",
      "class_Married  -1.5403  452.6491 -0.0034 0.9973   -888.7161   885.6356\n",
      "class_Single   -2.0084  452.6490 -0.0044 0.9965   -889.1842   885.1674\n",
      "class_Close    -2.4263  452.6490 -0.0054 0.9957   -889.6021   884.7496\n",
      "class_Far      -1.1224  452.6490 -0.0025 0.9980   -888.2982   886.0534\n",
      "class_High      5.8035 3017.6600  0.0019 0.9985  -5908.7014  5920.3084\n",
      "class_Low     -19.0007 9958.2779 -0.0019 0.9985 -19536.8667 19498.8653\n",
      "class_Medium    3.7503 3017.6600  0.0012 0.9990  -5910.7546  5918.2552\n",
      "class_NewCust   5.8982 3017.6600  0.0020 0.9984  -5908.6066  5920.4031\n",
      "======================================================================\n",
      "\n"
     ]
    }
   ],
   "source": [
    "print(model1.summary2())"
   ]
  },
  {
   "cell_type": "code",
   "execution_count": 20,
   "metadata": {},
   "outputs": [],
   "source": [
    "## Remove factors with high p-value\n",
    "xtrain.drop(['class_Medium'] , axis = 1 , inplace = True)\n",
    "xtest.drop(['class_Medium'] , axis = 1 , inplace = True)"
   ]
  },
  {
   "cell_type": "code",
   "execution_count": 21,
   "metadata": {},
   "outputs": [],
   "source": [
    "model2=sm.GLM(ytrain, xtrain, family=sm.families.Binomial()).fit()"
   ]
  },
  {
   "cell_type": "code",
   "execution_count": 22,
   "metadata": {},
   "outputs": [
    {
     "name": "stdout",
     "output_type": "stream",
     "text": [
      "                   Results: Generalized linear model\n",
      "========================================================================\n",
      "Model:                 GLM                 AIC:               410.8025  \n",
      "Link Function:         logit               BIC:               -4875.9869\n",
      "Dependent Variable:    target              Log-Likelihood:    -192.40   \n",
      "Date:                  2021-10-24 19:05    LL-Null:           -537.59   \n",
      "No. Observations:      800                 Deviance:          384.80    \n",
      "Df Model:              12                  Pearson chi2:      478.      \n",
      "Df Residuals:          787                 Scale:             1.0000    \n",
      "Method:                IRLS                                             \n",
      "------------------------------------------------------------------------\n",
      "               Coef.    Std.Err.     z     P>|z|     [0.025     0.975]  \n",
      "------------------------------------------------------------------------\n",
      "const          -2.4236     0.2419 -10.0192 0.0000     -2.8977    -1.9495\n",
      "Salary          0.0001     0.0000   6.1991 0.0000      0.0000     0.0001\n",
      "Children       -0.6459     0.1776  -3.6357 0.0003     -0.9941    -0.2977\n",
      "Catalogs        0.2215     0.0248   8.9461 0.0000      0.1730     0.2700\n",
      "Middle         -0.4770     0.2503  -1.9057 0.0567     -0.9676     0.0136\n",
      "Old            -0.3856     0.2636  -1.4632 0.1434     -0.9022     0.1309\n",
      "Young          -1.5610     0.2898  -5.3857 0.0000     -2.1290    -0.9929\n",
      "class_Female   -1.1856     0.1697  -6.9856 0.0000     -1.5182    -0.8529\n",
      "class_Male     -1.2380     0.1920  -6.4488 0.0000     -1.6143    -0.8618\n",
      "class_Own      -1.2088     0.2051  -5.8945 0.0000     -1.6108    -0.8069\n",
      "class_Rent     -1.2148     0.1748  -6.9492 0.0000     -1.5574    -0.8721\n",
      "class_Married  -0.9777     0.2366  -4.1323 0.0000     -1.4414    -0.5140\n",
      "class_Single   -1.4459     0.1789  -8.0835 0.0000     -1.7965    -1.0953\n",
      "class_Close    -1.8637     0.2250  -8.2834 0.0000     -2.3047    -1.4227\n",
      "class_Far      -0.5599     0.1862  -3.0065 0.0026     -0.9248    -0.1949\n",
      "class_High      2.0532     0.4137   4.9632 0.0000      1.2424     2.8640\n",
      "class_Low     -22.7510 12975.9380  -0.0018 0.9986 -25455.1221 25409.6201\n",
      "class_NewCust   2.1479     0.3392   6.3318 0.0000      1.4831     2.8128\n",
      "========================================================================\n",
      "\n"
     ]
    }
   ],
   "source": [
    "print(model2.summary2())"
   ]
  },
  {
   "cell_type": "code",
   "execution_count": 23,
   "metadata": {},
   "outputs": [],
   "source": [
    "## Remove factors with high p-value\n",
    "xtrain.drop(['class_Low'] , axis = 1 , inplace = True)\n",
    "xtest.drop(['class_Low'] , axis = 1 , inplace = True)"
   ]
  },
  {
   "cell_type": "code",
   "execution_count": 24,
   "metadata": {},
   "outputs": [
    {
     "name": "stdout",
     "output_type": "stream",
     "text": [
      "               Results: Generalized linear model\n",
      "===============================================================\n",
      "Model:              GLM              AIC:            423.9361  \n",
      "Link Function:      logit            BIC:            -4867.5379\n",
      "Dependent Variable: target           Log-Likelihood: -199.97   \n",
      "Date:               2021-10-24 19:05 LL-Null:        -537.59   \n",
      "No. Observations:   800              Deviance:       399.94    \n",
      "Df Model:           11               Pearson chi2:   559.      \n",
      "Df Residuals:       788              Scale:          1.0000    \n",
      "Method:             IRLS                                       \n",
      "---------------------------------------------------------------\n",
      "                Coef.  Std.Err.    z     P>|z|   [0.025  0.975]\n",
      "---------------------------------------------------------------\n",
      "const          -2.4776   0.2315 -10.7037 0.0000 -2.9313 -2.0239\n",
      "Salary          0.0001   0.0000   6.5321 0.0000  0.0000  0.0001\n",
      "Children       -0.8041   0.1734  -4.6379 0.0000 -1.1439 -0.4643\n",
      "Catalogs        0.2228   0.0245   9.1063 0.0000  0.1748  0.2707\n",
      "Middle         -0.3736   0.2436  -1.5338 0.1251 -0.8511  0.1038\n",
      "Old            -0.4596   0.2582  -1.7798 0.0751 -0.9658  0.0465\n",
      "Young          -1.6443   0.2856  -5.7578 0.0000 -2.2040 -1.0846\n",
      "class_Female   -1.2247   0.1660  -7.3756 0.0000 -1.5501 -0.8992\n",
      "class_Male     -1.2529   0.1872  -6.6937 0.0000 -1.6198 -0.8861\n",
      "class_Own      -1.2366   0.2006  -6.1648 0.0000 -1.6298 -0.8435\n",
      "class_Rent     -1.2410   0.1708  -7.2676 0.0000 -1.5756 -0.9063\n",
      "class_Married  -0.9495   0.2306  -4.1179 0.0000 -1.4015 -0.4976\n",
      "class_Single   -1.5281   0.1760  -8.6837 0.0000 -1.8730 -1.1832\n",
      "class_Close    -1.9577   0.2203  -8.8845 0.0000 -2.3895 -1.5258\n",
      "class_Far      -0.5199   0.1849  -2.8114 0.0049 -0.8824 -0.1575\n",
      "class_High      2.1946   0.4161   5.2746 0.0000  1.3791  3.0100\n",
      "class_NewCust   2.4227   0.3321   7.2963 0.0000  1.7719  3.0735\n",
      "===============================================================\n",
      "\n"
     ]
    }
   ],
   "source": [
    "model3=sm.GLM(ytrain, xtrain, family=sm.families.Binomial()).fit()\n",
    "print(model3.summary2())"
   ]
  },
  {
   "cell_type": "code",
   "execution_count": 25,
   "metadata": {},
   "outputs": [],
   "source": [
    "## Remove factors with high p-value\n",
    "xtrain.drop(['Middle'] , axis = 1 , inplace = True)\n",
    "xtest.drop(['Middle'] , axis = 1 , inplace = True)"
   ]
  },
  {
   "cell_type": "code",
   "execution_count": 26,
   "metadata": {},
   "outputs": [
    {
     "name": "stdout",
     "output_type": "stream",
     "text": [
      "               Results: Generalized linear model\n",
      "===============================================================\n",
      "Model:              GLM              AIC:            423.9361  \n",
      "Link Function:      logit            BIC:            -4867.5379\n",
      "Dependent Variable: target           Log-Likelihood: -199.97   \n",
      "Date:               2021-10-24 19:05 LL-Null:        -537.59   \n",
      "No. Observations:   800              Deviance:       399.94    \n",
      "Df Model:           11               Pearson chi2:   559.      \n",
      "Df Residuals:       788              Scale:          1.0000    \n",
      "Method:             IRLS                                       \n",
      "---------------------------------------------------------------\n",
      "                 Coef.  Std.Err.    z    P>|z|   [0.025  0.975]\n",
      "---------------------------------------------------------------\n",
      "const           -2.6021   0.2772 -9.3878 0.0000 -3.1454 -2.0589\n",
      "Salary           0.0001   0.0000  6.5321 0.0000  0.0000  0.0001\n",
      "Children        -0.8041   0.1734 -4.6379 0.0000 -1.1439 -0.4643\n",
      "Catalogs         0.2228   0.0245  9.1063 0.0000  0.1748  0.2707\n",
      "Old             -0.0860   0.3956 -0.2174 0.8279 -0.8613  0.6893\n",
      "Young           -1.2707   0.4233 -3.0019 0.0027 -2.1003 -0.4410\n",
      "class_Female    -1.2869   0.1826 -7.0495 0.0000 -1.6448 -0.9291\n",
      "class_Male      -1.3152   0.2022 -6.5029 0.0000 -1.7116 -0.9188\n",
      "class_Own       -1.2989   0.2171 -5.9839 0.0000 -1.7243 -0.8735\n",
      "class_Rent      -1.3032   0.1841 -7.0778 0.0000 -1.6641 -0.9424\n",
      "class_Married   -1.0118   0.2548 -3.9703 0.0001 -1.5113 -0.5123\n",
      "class_Single    -1.5903   0.1755 -9.0595 0.0000 -1.9344 -1.2463\n",
      "class_Close     -2.0199   0.2325 -8.6886 0.0000 -2.4756 -1.5643\n",
      "class_Far       -0.5822   0.2008 -2.8990 0.0037 -0.9758 -0.1886\n",
      "class_High       2.1946   0.4161  5.2746 0.0000  1.3791  3.0100\n",
      "class_NewCust    2.4227   0.3321  7.2963 0.0000  1.7719  3.0735\n",
      "===============================================================\n",
      "\n"
     ]
    }
   ],
   "source": [
    "model4=sm.GLM(ytrain, xtrain, family=sm.families.Binomial()).fit()\n",
    "print(model4.summary2())"
   ]
  },
  {
   "cell_type": "code",
   "execution_count": 27,
   "metadata": {},
   "outputs": [],
   "source": [
    "## Remove factors with high p-value\n",
    "xtrain.drop(['Old'] , axis = 1 , inplace = True)\n",
    "xtest.drop(['Old'] , axis = 1 , inplace = True)"
   ]
  },
  {
   "cell_type": "code",
   "execution_count": 28,
   "metadata": {},
   "outputs": [
    {
     "name": "stdout",
     "output_type": "stream",
     "text": [
      "               Results: Generalized linear model\n",
      "===============================================================\n",
      "Model:              GLM              AIC:            421.9834  \n",
      "Link Function:      logit            BIC:            -4874.1753\n",
      "Dependent Variable: target           Log-Likelihood: -199.99   \n",
      "Date:               2021-10-24 19:05 LL-Null:        -537.59   \n",
      "No. Observations:   800              Deviance:       399.98    \n",
      "Df Model:           10               Pearson chi2:   556.      \n",
      "Df Residuals:       789              Scale:          1.0000    \n",
      "Method:             IRLS                                       \n",
      "---------------------------------------------------------------\n",
      "                Coef.  Std.Err.    z     P>|z|   [0.025  0.975]\n",
      "---------------------------------------------------------------\n",
      "const          -2.6250   0.2569 -10.2177 0.0000 -3.1285 -2.1215\n",
      "Salary          0.0001   0.0000   6.7986 0.0000  0.0000  0.0001\n",
      "Children       -0.7937   0.1664  -4.7704 0.0000 -1.1198 -0.4676\n",
      "Catalogs        0.2231   0.0244   9.1270 0.0000  0.1752  0.2710\n",
      "Young          -1.2427   0.4031  -3.0829 0.0020 -2.0327 -0.4526\n",
      "class_Female   -1.3003   0.1720  -7.5583 0.0000 -1.6375 -0.9631\n",
      "class_Male     -1.3247   0.1976  -6.7024 0.0000 -1.7120 -0.9373\n",
      "class_Own      -1.3170   0.2007  -6.5609 0.0000 -1.7105 -0.9236\n",
      "class_Rent     -1.3080   0.1829  -7.1525 0.0000 -1.6664 -0.9495\n",
      "class_Married  -1.0327   0.2361  -4.3750 0.0000 -1.4954 -0.5701\n",
      "class_Single   -1.5922   0.1755  -9.0751 0.0000 -1.9361 -1.2484\n",
      "class_Close    -2.0302   0.2278  -8.9123 0.0000 -2.4767 -1.5837\n",
      "class_Far      -0.5948   0.1923  -3.0934 0.0020 -0.9716 -0.2179\n",
      "class_High      2.1945   0.4159   5.2765 0.0000  1.3794  3.0097\n",
      "class_NewCust   2.4307   0.3302   7.3603 0.0000  1.7835  3.0780\n",
      "===============================================================\n",
      "\n"
     ]
    }
   ],
   "source": [
    "model5=sm.GLM(ytrain, xtrain, family=sm.families.Binomial()).fit()\n",
    "print(model5.summary2())"
   ]
  },
  {
   "cell_type": "code",
   "execution_count": 29,
   "metadata": {},
   "outputs": [],
   "source": [
    "## Let's check confusion matrix and AUC\n",
    "import sklearn.metrics as metrics\n",
    "from sklearn.metrics import confusion_matrix, classification_report"
   ]
  },
  {
   "cell_type": "code",
   "execution_count": 30,
   "metadata": {},
   "outputs": [],
   "source": [
    "predictions=model5.predict(xtest)"
   ]
  },
  {
   "cell_type": "code",
   "execution_count": 31,
   "metadata": {},
   "outputs": [
    {
     "data": {
      "text/plain": [
       "978    0.553425\n",
       "121    0.889847\n",
       "455    0.052898\n",
       "358    0.997564\n",
       "531    0.000037\n",
       "dtype: float64"
      ]
     },
     "execution_count": 31,
     "metadata": {},
     "output_type": "execute_result"
    }
   ],
   "source": [
    "predictions.head()"
   ]
  },
  {
   "cell_type": "code",
   "execution_count": 32,
   "metadata": {},
   "outputs": [],
   "source": [
    "threshold=0.5\n",
    "predicted_classes = np.where(predictions>threshold, 1, 0)"
   ]
  },
  {
   "cell_type": "code",
   "execution_count": 33,
   "metadata": {},
   "outputs": [
    {
     "data": {
      "text/plain": [
       "0.895"
      ]
     },
     "execution_count": 33,
     "metadata": {},
     "output_type": "execute_result"
    }
   ],
   "source": [
    "from sklearn.metrics import accuracy_score\n",
    "\n",
    "accuracy_score(ytest, predicted_classes)"
   ]
  },
  {
   "cell_type": "code",
   "execution_count": 34,
   "metadata": {},
   "outputs": [
    {
     "data": {
      "text/html": [
       "<div>\n",
       "<style scoped>\n",
       "    .dataframe tbody tr th:only-of-type {\n",
       "        vertical-align: middle;\n",
       "    }\n",
       "\n",
       "    .dataframe tbody tr th {\n",
       "        vertical-align: top;\n",
       "    }\n",
       "\n",
       "    .dataframe thead th {\n",
       "        text-align: right;\n",
       "    }\n",
       "</style>\n",
       "<table border=\"1\" class=\"dataframe\">\n",
       "  <thead>\n",
       "    <tr style=\"text-align: right;\">\n",
       "      <th></th>\n",
       "      <th>Predicted 0</th>\n",
       "      <th>Predicted 1</th>\n",
       "    </tr>\n",
       "  </thead>\n",
       "  <tbody>\n",
       "    <tr>\n",
       "      <th>Actual 0</th>\n",
       "      <td>108</td>\n",
       "      <td>11</td>\n",
       "    </tr>\n",
       "    <tr>\n",
       "      <th>Actual 1</th>\n",
       "      <td>10</td>\n",
       "      <td>71</td>\n",
       "    </tr>\n",
       "  </tbody>\n",
       "</table>\n",
       "</div>"
      ],
      "text/plain": [
       "          Predicted 0  Predicted 1\n",
       "Actual 0          108           11\n",
       "Actual 1           10           71"
      ]
     },
     "execution_count": 34,
     "metadata": {},
     "output_type": "execute_result"
    }
   ],
   "source": [
    "from sklearn.metrics import confusion_matrix\n",
    "\n",
    "confmat = confusion_matrix(ytest,predicted_classes)\n",
    "conf = pd.DataFrame(confmat, index=['Actual 0','Actual 1'],columns=['Predicted 0','Predicted 1'])\n",
    "conf"
   ]
  },
  {
   "cell_type": "code",
   "execution_count": 35,
   "metadata": {},
   "outputs": [
    {
     "name": "stdout",
     "output_type": "stream",
     "text": [
      "              precision    recall  f1-score   support\n",
      "\n",
      "           0       0.92      0.91      0.91       119\n",
      "           1       0.87      0.88      0.87        81\n",
      "\n",
      "    accuracy                           0.90       200\n",
      "   macro avg       0.89      0.89      0.89       200\n",
      "weighted avg       0.90      0.90      0.90       200\n",
      "\n"
     ]
    }
   ],
   "source": [
    "print(classification_report(ytest,predicted_classes))"
   ]
  },
  {
   "cell_type": "code",
   "execution_count": 36,
   "metadata": {},
   "outputs": [
    {
     "name": "stdout",
     "output_type": "stream",
     "text": [
      "ROC Score is 0.9624442369540409\n"
     ]
    }
   ],
   "source": [
    "from sklearn.metrics import roc_curve, roc_auc_score\n",
    "\n",
    "#Get roc auc score\n",
    "roc_score = roc_auc_score(ytest, predictions)\n",
    "print('ROC Score is '+str(roc_score))\n",
    "#Get false positive rate, true positive rate and threshold using roc curve\n",
    "falsePositiveRate, truePositiverate, threshold = roc_curve(ytest, predictions)"
   ]
  },
  {
   "cell_type": "code",
   "execution_count": 37,
   "metadata": {},
   "outputs": [
    {
     "data": {
      "image/png": "[encoded data removed]",
      "text/plain": [
       "<Figure size 432x288 with 1 Axes>"
      ]
     },
     "metadata": {
      "needs_background": "light"
     },
     "output_type": "display_data"
    }
   ],
   "source": [
    "# Plotting ROC curve\n",
    "\n",
    "plt.title('Receiver Operating Characteristic(ROC)')\n",
    "plt.plot(falsePositiveRate, truePositiverate, 'b', label = 'AUC = %0.2f' % roc_score)\n",
    "plt.legend(loc = 'lower right')\n",
    "plt.plot([0, 1], [0, 1],'r--')\n",
    "plt.xlim([0, 1])\n",
    "plt.ylim([0, 1])\n",
    "plt.ylabel('True Positive Rate')\n",
    "plt.xlabel('False Positive Rate')\n",
    "plt.show()"
   ]
  },
  {
   "cell_type": "code",
   "execution_count": 38,
   "metadata": {},
   "outputs": [
    {
     "name": "stdout",
     "output_type": "stream",
     "text": [
      "0.5938310439599231\n"
     ]
    }
   ],
   "source": [
    "optimal_idx = np.argmax(truePositiverate-falsePositiveRate)\n",
    "optimal_threshold = threshold[optimal_idx]\n",
    "print(optimal_threshold)"
   ]
  },
  {
   "cell_type": "code",
   "execution_count": 39,
   "metadata": {},
   "outputs": [],
   "source": [
    "predicted_classes = np.where(predictions>optimal_threshold, 1, 0)"
   ]
  },
  {
   "cell_type": "code",
   "execution_count": 40,
   "metadata": {},
   "outputs": [
    {
     "data": {
      "text/plain": [
       "0.9"
      ]
     },
     "execution_count": 40,
     "metadata": {},
     "output_type": "execute_result"
    }
   ],
   "source": [
    "accuracy_score(ytest, predicted_classes)"
   ]
  },
  {
   "cell_type": "code",
   "execution_count": 41,
   "metadata": {},
   "outputs": [
    {
     "data": {
      "text/html": [
       "<div>\n",
       "<style scoped>\n",
       "    .dataframe tbody tr th:only-of-type {\n",
       "        vertical-align: middle;\n",
       "    }\n",
       "\n",
       "    .dataframe tbody tr th {\n",
       "        vertical-align: top;\n",
       "    }\n",
       "\n",
       "    .dataframe thead th {\n",
       "        text-align: right;\n",
       "    }\n",
       "</style>\n",
       "<table border=\"1\" class=\"dataframe\">\n",
       "  <thead>\n",
       "    <tr style=\"text-align: right;\">\n",
       "      <th></th>\n",
       "      <th>Predicted 0</th>\n",
       "      <th>Predicted 1</th>\n",
       "    </tr>\n",
       "  </thead>\n",
       "  <tbody>\n",
       "    <tr>\n",
       "      <th>Actual 0</th>\n",
       "      <td>111</td>\n",
       "      <td>8</td>\n",
       "    </tr>\n",
       "    <tr>\n",
       "      <th>Actual 1</th>\n",
       "      <td>12</td>\n",
       "      <td>69</td>\n",
       "    </tr>\n",
       "  </tbody>\n",
       "</table>\n",
       "</div>"
      ],
      "text/plain": [
       "          Predicted 0  Predicted 1\n",
       "Actual 0          111            8\n",
       "Actual 1           12           69"
      ]
     },
     "execution_count": 41,
     "metadata": {},
     "output_type": "execute_result"
    }
   ],
   "source": [
    "confusion_mat = confusion_matrix(ytest,predicted_classes)\n",
    "confusion_df  = pd.DataFrame(confusion_mat,index=['Actual 0', 'Actual 1'],columns=['Predicted 0','Predicted 1'])\n",
    "confusion_df"
   ]
  },
  {
   "cell_type": "code",
   "execution_count": 42,
   "metadata": {},
   "outputs": [
    {
     "name": "stdout",
     "output_type": "stream",
     "text": [
      "              precision    recall  f1-score   support\n",
      "\n",
      "           0       0.90      0.93      0.92       119\n",
      "           1       0.90      0.85      0.87        81\n",
      "\n",
      "    accuracy                           0.90       200\n",
      "   macro avg       0.90      0.89      0.90       200\n",
      "weighted avg       0.90      0.90      0.90       200\n",
      "\n"
     ]
    }
   ],
   "source": [
    "print(classification_report(ytest,predicted_classes))"
   ]
  },
  {
   "cell_type": "code",
   "execution_count": 43,
   "metadata": {},
   "outputs": [],
   "source": [
    "## Build model using sklearn\n",
    "from sklearn.linear_model import LogisticRegression"
   ]
  },
  {
   "cell_type": "code",
   "execution_count": 44,
   "metadata": {},
   "outputs": [],
   "source": [
    "xtrain, xtest, ytrain, ytest = train_test_split(data.drop('target', axis=1), data['target'],\\\n",
    "                                                    test_size=0.2, random_state=123)"
   ]
  },
  {
   "cell_type": "code",
   "execution_count": 45,
   "metadata": {},
   "outputs": [],
   "source": [
    "xtrain.drop(['class_Medium','class_Low','Middle','Old'] , axis = 1 , inplace = True)\n",
    "xtest.drop(['class_Medium','class_Low','Middle','Old'] , axis = 1 , inplace = True)"
   ]
  },
  {
   "cell_type": "code",
   "execution_count": 46,
   "metadata": {},
   "outputs": [],
   "source": [
    "logreg_model = LogisticRegression().fit(xtrain, ytrain)"
   ]
  },
  {
   "cell_type": "code",
   "execution_count": 47,
   "metadata": {},
   "outputs": [],
   "source": [
    "logreg_pred = logreg_model.predict(xtest)"
   ]
  },
  {
   "cell_type": "code",
   "execution_count": 48,
   "metadata": {},
   "outputs": [
    {
     "data": {
      "text/plain": [
       "array([1, 1, 1, 1], dtype=int64)"
      ]
     },
     "execution_count": 48,
     "metadata": {},
     "output_type": "execute_result"
    }
   ],
   "source": [
    "logreg_pred[1:5]"
   ]
  },
  {
   "cell_type": "code",
   "execution_count": 49,
   "metadata": {},
   "outputs": [
    {
     "data": {
      "text/plain": [
       "0.82"
      ]
     },
     "execution_count": 49,
     "metadata": {},
     "output_type": "execute_result"
    }
   ],
   "source": [
    "accuracy_score(ytest, logreg_pred)"
   ]
  },
  {
   "cell_type": "code",
   "execution_count": null,
   "metadata": {},
   "outputs": [],
   "source": []
  }
 ],
 "metadata": {
  "kernelspec": {
   "display_name": "Python 3",
   "language": "python",
   "name": "python3"
  },
  "language_info": {
   "codemirror_mode": {
    "name": "ipython",
    "version": 3
   },
   "file_extension": ".py",
   "mimetype": "text/x-python",
   "name": "python",
   "nbconvert_exporter": "python",
   "pygments_lexer": "ipython3",
   "version": "3.8.8"
  }
 },
 "nbformat": 4,
 "nbformat_minor": 2
}
