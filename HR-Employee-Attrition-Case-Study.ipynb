{
 "cells": [
  {
   "cell_type": "code",
   "execution_count": 1,
   "metadata": {},
   "outputs": [],
   "source": [
    "## data source: https://www.kaggle.com/pavansubhasht/ibm-hr-analytics-attrition-dataset\n",
    "## This is a fictional dataset created by IBM Scientists. \n",
    "## Logistic Regression to predict employee attrition - \n",
    "## 1) who will attrite and who won't \n",
    "## 2) what are the factors driving attrition?\n",
    "##################################################\n",
    "## Read in the dataset\n",
    "## Target column - Attrition - map it to '1' and '0' based on 'Yes' and 'No' correspondingly\n",
    "## One-hot encode categorical columns\n",
    "## Drop the redundant columns to avoid multicollinearity\n",
    "## (you may also use drop_first=True in get_dummies to drop the first level of each categorical column if dimension is high)\n",
    "## Split data into train and test\n",
    "## Fit the GLM model. Check model summary\n",
    "## Perform stepwise backpropagation to drop all features whose p>0.05 and arrive at the final model\n",
    "## Check model accuracy, confusion matrix and classification report\n",
    "## Obtain the ROC curve and AUC score\n",
    "## Obtain the optimal threshold for cut-off\n",
    "## Update the new predictions with the optimal cut-off\n",
    "## Compare with accuracy score, confusion matrix and report - What do you observe?"
   ]
  }
 ],
 "metadata": {
  "kernelspec": {
   "display_name": "Python 3",
   "language": "python",
   "name": "python3"
  },
  "language_info": {
   "codemirror_mode": {
    "name": "ipython",
    "version": 3
   },
   "file_extension": ".py",
   "mimetype": "text/x-python",
   "name": "python",
   "nbconvert_exporter": "python",
   "pygments_lexer": "ipython3",
   "version": "3.8.8"
  }
 },
 "nbformat": 4,
 "nbformat_minor": 2
}
