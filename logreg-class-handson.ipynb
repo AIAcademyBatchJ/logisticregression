{
 "cells": [
  {
   "cell_type": "code",
   "execution_count": 2,
   "id": "94e7f346",
   "metadata": {},
   "outputs": [],
   "source": [
    "import pandas as pd\n",
    "import numpy as np\n",
    "import matplotlib.pyplot as plt\n",
    "%matplotlib inline"
   ]
  },
  {
   "cell_type": "code",
   "execution_count": 3,
   "id": "95d1cde8",
   "metadata": {},
   "outputs": [],
   "source": [
    "data = pd.read_csv('dm.csv', na_values=[\"\",\" \",\"NA\",\"N/A\",\"n/a\",\"na\"])"
   ]
  },
  {
   "cell_type": "code",
   "execution_count": 4,
   "id": "9eee575a",
   "metadata": {},
   "outputs": [
    {
     "data": {
      "text/html": [
       "<div>\n",
       "<style scoped>\n",
       "    .dataframe tbody tr th:only-of-type {\n",
       "        vertical-align: middle;\n",
       "    }\n",
       "\n",
       "    .dataframe tbody tr th {\n",
       "        vertical-align: top;\n",
       "    }\n",
       "\n",
       "    .dataframe thead th {\n",
       "        text-align: right;\n",
       "    }\n",
       "</style>\n",
       "<table border=\"1\" class=\"dataframe\">\n",
       "  <thead>\n",
       "    <tr style=\"text-align: right;\">\n",
       "      <th></th>\n",
       "      <th>Age</th>\n",
       "      <th>Gender</th>\n",
       "      <th>OwnHome</th>\n",
       "      <th>Married</th>\n",
       "      <th>Location</th>\n",
       "      <th>Salary</th>\n",
       "      <th>Children</th>\n",
       "      <th>History</th>\n",
       "      <th>Catalogs</th>\n",
       "      <th>AmountSpent</th>\n",
       "      <th>Cust_Id</th>\n",
       "    </tr>\n",
       "  </thead>\n",
       "  <tbody>\n",
       "    <tr>\n",
       "      <th>0</th>\n",
       "      <td>Old</td>\n",
       "      <td>Female</td>\n",
       "      <td>Own</td>\n",
       "      <td>Single</td>\n",
       "      <td>Far</td>\n",
       "      <td>47500</td>\n",
       "      <td>0</td>\n",
       "      <td>High</td>\n",
       "      <td>6</td>\n",
       "      <td>755</td>\n",
       "      <td>247</td>\n",
       "    </tr>\n",
       "    <tr>\n",
       "      <th>1</th>\n",
       "      <td>Middle</td>\n",
       "      <td>Male</td>\n",
       "      <td>Rent</td>\n",
       "      <td>Single</td>\n",
       "      <td>Close</td>\n",
       "      <td>63600</td>\n",
       "      <td>0</td>\n",
       "      <td>High</td>\n",
       "      <td>6</td>\n",
       "      <td>1318</td>\n",
       "      <td>127</td>\n",
       "    </tr>\n",
       "    <tr>\n",
       "      <th>2</th>\n",
       "      <td>Young</td>\n",
       "      <td>Female</td>\n",
       "      <td>Rent</td>\n",
       "      <td>Single</td>\n",
       "      <td>Close</td>\n",
       "      <td>13500</td>\n",
       "      <td>0</td>\n",
       "      <td>Low</td>\n",
       "      <td>18</td>\n",
       "      <td>296</td>\n",
       "      <td>479</td>\n",
       "    </tr>\n",
       "    <tr>\n",
       "      <th>3</th>\n",
       "      <td>Middle</td>\n",
       "      <td>Male</td>\n",
       "      <td>Own</td>\n",
       "      <td>Married</td>\n",
       "      <td>Close</td>\n",
       "      <td>85600</td>\n",
       "      <td>1</td>\n",
       "      <td>High</td>\n",
       "      <td>18</td>\n",
       "      <td>2436</td>\n",
       "      <td>475</td>\n",
       "    </tr>\n",
       "    <tr>\n",
       "      <th>4</th>\n",
       "      <td>Middle</td>\n",
       "      <td>Female</td>\n",
       "      <td>Own</td>\n",
       "      <td>Single</td>\n",
       "      <td>Close</td>\n",
       "      <td>68400</td>\n",
       "      <td>0</td>\n",
       "      <td>High</td>\n",
       "      <td>12</td>\n",
       "      <td>1304</td>\n",
       "      <td>151</td>\n",
       "    </tr>\n",
       "  </tbody>\n",
       "</table>\n",
       "</div>"
      ],
      "text/plain": [
       "      Age  Gender OwnHome  Married Location  Salary  Children History  \\\n",
       "0     Old  Female     Own   Single      Far   47500         0    High   \n",
       "1  Middle    Male    Rent   Single    Close   63600         0    High   \n",
       "2   Young  Female    Rent   Single    Close   13500         0     Low   \n",
       "3  Middle    Male     Own  Married    Close   85600         1    High   \n",
       "4  Middle  Female     Own   Single    Close   68400         0    High   \n",
       "\n",
       "   Catalogs  AmountSpent  Cust_Id  \n",
       "0         6          755      247  \n",
       "1         6         1318      127  \n",
       "2        18          296      479  \n",
       "3        18         2436      475  \n",
       "4        12         1304      151  "
      ]
     },
     "execution_count": 4,
     "metadata": {},
     "output_type": "execute_result"
    }
   ],
   "source": [
    "data.head()"
   ]
  },
  {
   "cell_type": "code",
   "execution_count": 5,
   "id": "14edc618",
   "metadata": {},
   "outputs": [],
   "source": [
    "#assume that people who spend more than average are good customers\n",
    "\n",
    "data['target'] = data['AmountSpent'].map(lambda x: 1 if x>data['AmountSpent'].mean() else 0)"
   ]
  },
  {
   "cell_type": "code",
   "execution_count": 6,
   "id": "8c882572",
   "metadata": {},
   "outputs": [
    {
     "data": {
      "text/html": [
       "<div>\n",
       "<style scoped>\n",
       "    .dataframe tbody tr th:only-of-type {\n",
       "        vertical-align: middle;\n",
       "    }\n",
       "\n",
       "    .dataframe tbody tr th {\n",
       "        vertical-align: top;\n",
       "    }\n",
       "\n",
       "    .dataframe thead th {\n",
       "        text-align: right;\n",
       "    }\n",
       "</style>\n",
       "<table border=\"1\" class=\"dataframe\">\n",
       "  <thead>\n",
       "    <tr style=\"text-align: right;\">\n",
       "      <th></th>\n",
       "      <th>Age</th>\n",
       "      <th>Gender</th>\n",
       "      <th>OwnHome</th>\n",
       "      <th>Married</th>\n",
       "      <th>Location</th>\n",
       "      <th>Salary</th>\n",
       "      <th>Children</th>\n",
       "      <th>History</th>\n",
       "      <th>Catalogs</th>\n",
       "      <th>AmountSpent</th>\n",
       "      <th>Cust_Id</th>\n",
       "      <th>target</th>\n",
       "    </tr>\n",
       "  </thead>\n",
       "  <tbody>\n",
       "    <tr>\n",
       "      <th>0</th>\n",
       "      <td>Old</td>\n",
       "      <td>Female</td>\n",
       "      <td>Own</td>\n",
       "      <td>Single</td>\n",
       "      <td>Far</td>\n",
       "      <td>47500</td>\n",
       "      <td>0</td>\n",
       "      <td>High</td>\n",
       "      <td>6</td>\n",
       "      <td>755</td>\n",
       "      <td>247</td>\n",
       "      <td>0</td>\n",
       "    </tr>\n",
       "    <tr>\n",
       "      <th>1</th>\n",
       "      <td>Middle</td>\n",
       "      <td>Male</td>\n",
       "      <td>Rent</td>\n",
       "      <td>Single</td>\n",
       "      <td>Close</td>\n",
       "      <td>63600</td>\n",
       "      <td>0</td>\n",
       "      <td>High</td>\n",
       "      <td>6</td>\n",
       "      <td>1318</td>\n",
       "      <td>127</td>\n",
       "      <td>1</td>\n",
       "    </tr>\n",
       "    <tr>\n",
       "      <th>2</th>\n",
       "      <td>Young</td>\n",
       "      <td>Female</td>\n",
       "      <td>Rent</td>\n",
       "      <td>Single</td>\n",
       "      <td>Close</td>\n",
       "      <td>13500</td>\n",
       "      <td>0</td>\n",
       "      <td>Low</td>\n",
       "      <td>18</td>\n",
       "      <td>296</td>\n",
       "      <td>479</td>\n",
       "      <td>0</td>\n",
       "    </tr>\n",
       "    <tr>\n",
       "      <th>3</th>\n",
       "      <td>Middle</td>\n",
       "      <td>Male</td>\n",
       "      <td>Own</td>\n",
       "      <td>Married</td>\n",
       "      <td>Close</td>\n",
       "      <td>85600</td>\n",
       "      <td>1</td>\n",
       "      <td>High</td>\n",
       "      <td>18</td>\n",
       "      <td>2436</td>\n",
       "      <td>475</td>\n",
       "      <td>1</td>\n",
       "    </tr>\n",
       "    <tr>\n",
       "      <th>4</th>\n",
       "      <td>Middle</td>\n",
       "      <td>Female</td>\n",
       "      <td>Own</td>\n",
       "      <td>Single</td>\n",
       "      <td>Close</td>\n",
       "      <td>68400</td>\n",
       "      <td>0</td>\n",
       "      <td>High</td>\n",
       "      <td>12</td>\n",
       "      <td>1304</td>\n",
       "      <td>151</td>\n",
       "      <td>1</td>\n",
       "    </tr>\n",
       "  </tbody>\n",
       "</table>\n",
       "</div>"
      ],
      "text/plain": [
       "      Age  Gender OwnHome  Married Location  Salary  Children History  \\\n",
       "0     Old  Female     Own   Single      Far   47500         0    High   \n",
       "1  Middle    Male    Rent   Single    Close   63600         0    High   \n",
       "2   Young  Female    Rent   Single    Close   13500         0     Low   \n",
       "3  Middle    Male     Own  Married    Close   85600         1    High   \n",
       "4  Middle  Female     Own   Single    Close   68400         0    High   \n",
       "\n",
       "   Catalogs  AmountSpent  Cust_Id  target  \n",
       "0         6          755      247       0  \n",
       "1         6         1318      127       1  \n",
       "2        18          296      479       0  \n",
       "3        18         2436      475       1  \n",
       "4        12         1304      151       1  "
      ]
     },
     "execution_count": 6,
     "metadata": {},
     "output_type": "execute_result"
    }
   ],
   "source": [
    "data.head()"
   ]
  },
  {
   "cell_type": "code",
   "execution_count": 7,
   "id": "d0f21ec5",
   "metadata": {},
   "outputs": [],
   "source": [
    "data = data.drop('AmountSpent', axis=1)"
   ]
  },
  {
   "cell_type": "code",
   "execution_count": 8,
   "id": "5484bce7",
   "metadata": {},
   "outputs": [
    {
     "data": {
      "text/html": [
       "<div>\n",
       "<style scoped>\n",
       "    .dataframe tbody tr th:only-of-type {\n",
       "        vertical-align: middle;\n",
       "    }\n",
       "\n",
       "    .dataframe tbody tr th {\n",
       "        vertical-align: top;\n",
       "    }\n",
       "\n",
       "    .dataframe thead th {\n",
       "        text-align: right;\n",
       "    }\n",
       "</style>\n",
       "<table border=\"1\" class=\"dataframe\">\n",
       "  <thead>\n",
       "    <tr style=\"text-align: right;\">\n",
       "      <th></th>\n",
       "      <th>Age</th>\n",
       "      <th>Gender</th>\n",
       "      <th>OwnHome</th>\n",
       "      <th>Married</th>\n",
       "      <th>Location</th>\n",
       "      <th>Salary</th>\n",
       "      <th>Children</th>\n",
       "      <th>History</th>\n",
       "      <th>Catalogs</th>\n",
       "      <th>Cust_Id</th>\n",
       "      <th>target</th>\n",
       "    </tr>\n",
       "  </thead>\n",
       "  <tbody>\n",
       "    <tr>\n",
       "      <th>0</th>\n",
       "      <td>Old</td>\n",
       "      <td>Female</td>\n",
       "      <td>Own</td>\n",
       "      <td>Single</td>\n",
       "      <td>Far</td>\n",
       "      <td>47500</td>\n",
       "      <td>0</td>\n",
       "      <td>High</td>\n",
       "      <td>6</td>\n",
       "      <td>247</td>\n",
       "      <td>0</td>\n",
       "    </tr>\n",
       "    <tr>\n",
       "      <th>1</th>\n",
       "      <td>Middle</td>\n",
       "      <td>Male</td>\n",
       "      <td>Rent</td>\n",
       "      <td>Single</td>\n",
       "      <td>Close</td>\n",
       "      <td>63600</td>\n",
       "      <td>0</td>\n",
       "      <td>High</td>\n",
       "      <td>6</td>\n",
       "      <td>127</td>\n",
       "      <td>1</td>\n",
       "    </tr>\n",
       "    <tr>\n",
       "      <th>2</th>\n",
       "      <td>Young</td>\n",
       "      <td>Female</td>\n",
       "      <td>Rent</td>\n",
       "      <td>Single</td>\n",
       "      <td>Close</td>\n",
       "      <td>13500</td>\n",
       "      <td>0</td>\n",
       "      <td>Low</td>\n",
       "      <td>18</td>\n",
       "      <td>479</td>\n",
       "      <td>0</td>\n",
       "    </tr>\n",
       "    <tr>\n",
       "      <th>3</th>\n",
       "      <td>Middle</td>\n",
       "      <td>Male</td>\n",
       "      <td>Own</td>\n",
       "      <td>Married</td>\n",
       "      <td>Close</td>\n",
       "      <td>85600</td>\n",
       "      <td>1</td>\n",
       "      <td>High</td>\n",
       "      <td>18</td>\n",
       "      <td>475</td>\n",
       "      <td>1</td>\n",
       "    </tr>\n",
       "    <tr>\n",
       "      <th>4</th>\n",
       "      <td>Middle</td>\n",
       "      <td>Female</td>\n",
       "      <td>Own</td>\n",
       "      <td>Single</td>\n",
       "      <td>Close</td>\n",
       "      <td>68400</td>\n",
       "      <td>0</td>\n",
       "      <td>High</td>\n",
       "      <td>12</td>\n",
       "      <td>151</td>\n",
       "      <td>1</td>\n",
       "    </tr>\n",
       "  </tbody>\n",
       "</table>\n",
       "</div>"
      ],
      "text/plain": [
       "      Age  Gender OwnHome  Married Location  Salary  Children History  \\\n",
       "0     Old  Female     Own   Single      Far   47500         0    High   \n",
       "1  Middle    Male    Rent   Single    Close   63600         0    High   \n",
       "2   Young  Female    Rent   Single    Close   13500         0     Low   \n",
       "3  Middle    Male     Own  Married    Close   85600         1    High   \n",
       "4  Middle  Female     Own   Single    Close   68400         0    High   \n",
       "\n",
       "   Catalogs  Cust_Id  target  \n",
       "0         6      247       0  \n",
       "1         6      127       1  \n",
       "2        18      479       0  \n",
       "3        18      475       1  \n",
       "4        12      151       1  "
      ]
     },
     "execution_count": 8,
     "metadata": {},
     "output_type": "execute_result"
    }
   ],
   "source": [
    "data.head()"
   ]
  },
  {
   "cell_type": "code",
   "execution_count": 9,
   "id": "add0c91a",
   "metadata": {},
   "outputs": [
    {
     "data": {
      "text/plain": [
       "(1000, 11)"
      ]
     },
     "execution_count": 9,
     "metadata": {},
     "output_type": "execute_result"
    }
   ],
   "source": [
    "data.shape"
   ]
  },
  {
   "cell_type": "code",
   "execution_count": 10,
   "id": "327c3afb",
   "metadata": {},
   "outputs": [
    {
     "data": {
      "text/plain": [
       "High      255\n",
       "Low       230\n",
       "Medium    212\n",
       "Name: History, dtype: int64"
      ]
     },
     "execution_count": 10,
     "metadata": {},
     "output_type": "execute_result"
    }
   ],
   "source": [
    "data['History'].value_counts()"
   ]
  },
  {
   "cell_type": "code",
   "execution_count": 11,
   "id": "d24c3316",
   "metadata": {},
   "outputs": [
    {
     "data": {
      "text/plain": [
       "303"
      ]
     },
     "execution_count": 11,
     "metadata": {},
     "output_type": "execute_result"
    }
   ],
   "source": [
    "data['History'].isnull().sum()"
   ]
  },
  {
   "cell_type": "code",
   "execution_count": 12,
   "id": "943f6bd5",
   "metadata": {},
   "outputs": [],
   "source": [
    "data['History'] = data['History'].fillna('NewCust')"
   ]
  },
  {
   "cell_type": "code",
   "execution_count": 13,
   "id": "8a618cef",
   "metadata": {},
   "outputs": [
    {
     "data": {
      "text/plain": [
       "NewCust    303\n",
       "High       255\n",
       "Low        230\n",
       "Medium     212\n",
       "Name: History, dtype: int64"
      ]
     },
     "execution_count": 13,
     "metadata": {},
     "output_type": "execute_result"
    }
   ],
   "source": [
    "data['History'].value_counts()"
   ]
  },
  {
   "cell_type": "code",
   "execution_count": 14,
   "id": "9f32d051",
   "metadata": {},
   "outputs": [
    {
     "data": {
      "text/plain": [
       "Index(['Age', 'Gender', 'OwnHome', 'Married', 'Location', 'Salary', 'Children',\n",
       "       'History', 'Catalogs', 'Cust_Id', 'target'],\n",
       "      dtype='object')"
      ]
     },
     "execution_count": 14,
     "metadata": {},
     "output_type": "execute_result"
    }
   ],
   "source": [
    "data.columns"
   ]
  },
  {
   "cell_type": "code",
   "execution_count": 15,
   "id": "c45bacd9",
   "metadata": {},
   "outputs": [],
   "source": [
    "data = pd.get_dummies(data, columns=['Age','Gender','OwnHome','Married','Location','History'],prefix='class')"
   ]
  },
  {
   "cell_type": "code",
   "execution_count": 16,
   "id": "2254418c",
   "metadata": {},
   "outputs": [
    {
     "data": {
      "text/html": [
       "<div>\n",
       "<style scoped>\n",
       "    .dataframe tbody tr th:only-of-type {\n",
       "        vertical-align: middle;\n",
       "    }\n",
       "\n",
       "    .dataframe tbody tr th {\n",
       "        vertical-align: top;\n",
       "    }\n",
       "\n",
       "    .dataframe thead th {\n",
       "        text-align: right;\n",
       "    }\n",
       "</style>\n",
       "<table border=\"1\" class=\"dataframe\">\n",
       "  <thead>\n",
       "    <tr style=\"text-align: right;\">\n",
       "      <th></th>\n",
       "      <th>Salary</th>\n",
       "      <th>Children</th>\n",
       "      <th>Catalogs</th>\n",
       "      <th>Cust_Id</th>\n",
       "      <th>target</th>\n",
       "      <th>class_Middle</th>\n",
       "      <th>class_Old</th>\n",
       "      <th>class_Young</th>\n",
       "      <th>class_Female</th>\n",
       "      <th>class_Male</th>\n",
       "      <th>class_Own</th>\n",
       "      <th>class_Rent</th>\n",
       "      <th>class_Married</th>\n",
       "      <th>class_Single</th>\n",
       "      <th>class_Close</th>\n",
       "      <th>class_Far</th>\n",
       "      <th>class_High</th>\n",
       "      <th>class_Low</th>\n",
       "      <th>class_Medium</th>\n",
       "      <th>class_NewCust</th>\n",
       "    </tr>\n",
       "  </thead>\n",
       "  <tbody>\n",
       "    <tr>\n",
       "      <th>0</th>\n",
       "      <td>47500</td>\n",
       "      <td>0</td>\n",
       "      <td>6</td>\n",
       "      <td>247</td>\n",
       "      <td>0</td>\n",
       "      <td>0</td>\n",
       "      <td>1</td>\n",
       "      <td>0</td>\n",
       "      <td>1</td>\n",
       "      <td>0</td>\n",
       "      <td>1</td>\n",
       "      <td>0</td>\n",
       "      <td>0</td>\n",
       "      <td>1</td>\n",
       "      <td>0</td>\n",
       "      <td>1</td>\n",
       "      <td>1</td>\n",
       "      <td>0</td>\n",
       "      <td>0</td>\n",
       "      <td>0</td>\n",
       "    </tr>\n",
       "    <tr>\n",
       "      <th>1</th>\n",
       "      <td>63600</td>\n",
       "      <td>0</td>\n",
       "      <td>6</td>\n",
       "      <td>127</td>\n",
       "      <td>1</td>\n",
       "      <td>1</td>\n",
       "      <td>0</td>\n",
       "      <td>0</td>\n",
       "      <td>0</td>\n",
       "      <td>1</td>\n",
       "      <td>0</td>\n",
       "      <td>1</td>\n",
       "      <td>0</td>\n",
       "      <td>1</td>\n",
       "      <td>1</td>\n",
       "      <td>0</td>\n",
       "      <td>1</td>\n",
       "      <td>0</td>\n",
       "      <td>0</td>\n",
       "      <td>0</td>\n",
       "    </tr>\n",
       "    <tr>\n",
       "      <th>2</th>\n",
       "      <td>13500</td>\n",
       "      <td>0</td>\n",
       "      <td>18</td>\n",
       "      <td>479</td>\n",
       "      <td>0</td>\n",
       "      <td>0</td>\n",
       "      <td>0</td>\n",
       "      <td>1</td>\n",
       "      <td>1</td>\n",
       "      <td>0</td>\n",
       "      <td>0</td>\n",
       "      <td>1</td>\n",
       "      <td>0</td>\n",
       "      <td>1</td>\n",
       "      <td>1</td>\n",
       "      <td>0</td>\n",
       "      <td>0</td>\n",
       "      <td>1</td>\n",
       "      <td>0</td>\n",
       "      <td>0</td>\n",
       "    </tr>\n",
       "    <tr>\n",
       "      <th>3</th>\n",
       "      <td>85600</td>\n",
       "      <td>1</td>\n",
       "      <td>18</td>\n",
       "      <td>475</td>\n",
       "      <td>1</td>\n",
       "      <td>1</td>\n",
       "      <td>0</td>\n",
       "      <td>0</td>\n",
       "      <td>0</td>\n",
       "      <td>1</td>\n",
       "      <td>1</td>\n",
       "      <td>0</td>\n",
       "      <td>1</td>\n",
       "      <td>0</td>\n",
       "      <td>1</td>\n",
       "      <td>0</td>\n",
       "      <td>1</td>\n",
       "      <td>0</td>\n",
       "      <td>0</td>\n",
       "      <td>0</td>\n",
       "    </tr>\n",
       "    <tr>\n",
       "      <th>4</th>\n",
       "      <td>68400</td>\n",
       "      <td>0</td>\n",
       "      <td>12</td>\n",
       "      <td>151</td>\n",
       "      <td>1</td>\n",
       "      <td>1</td>\n",
       "      <td>0</td>\n",
       "      <td>0</td>\n",
       "      <td>1</td>\n",
       "      <td>0</td>\n",
       "      <td>1</td>\n",
       "      <td>0</td>\n",
       "      <td>0</td>\n",
       "      <td>1</td>\n",
       "      <td>1</td>\n",
       "      <td>0</td>\n",
       "      <td>1</td>\n",
       "      <td>0</td>\n",
       "      <td>0</td>\n",
       "      <td>0</td>\n",
       "    </tr>\n",
       "  </tbody>\n",
       "</table>\n",
       "</div>"
      ],
      "text/plain": [
       "   Salary  Children  Catalogs  Cust_Id  target  class_Middle  class_Old  \\\n",
       "0   47500         0         6      247       0             0          1   \n",
       "1   63600         0         6      127       1             1          0   \n",
       "2   13500         0        18      479       0             0          0   \n",
       "3   85600         1        18      475       1             1          0   \n",
       "4   68400         0        12      151       1             1          0   \n",
       "\n",
       "   class_Young  class_Female  class_Male  class_Own  class_Rent  \\\n",
       "0            0             1           0          1           0   \n",
       "1            0             0           1          0           1   \n",
       "2            1             1           0          0           1   \n",
       "3            0             0           1          1           0   \n",
       "4            0             1           0          1           0   \n",
       "\n",
       "   class_Married  class_Single  class_Close  class_Far  class_High  class_Low  \\\n",
       "0              0             1            0          1           1          0   \n",
       "1              0             1            1          0           1          0   \n",
       "2              0             1            1          0           0          1   \n",
       "3              1             0            1          0           1          0   \n",
       "4              0             1            1          0           1          0   \n",
       "\n",
       "   class_Medium  class_NewCust  \n",
       "0             0              0  \n",
       "1             0              0  \n",
       "2             0              0  \n",
       "3             0              0  \n",
       "4             0              0  "
      ]
     },
     "execution_count": 16,
     "metadata": {},
     "output_type": "execute_result"
    }
   ],
   "source": [
    "data.head()"
   ]
  },
  {
   "cell_type": "code",
   "execution_count": 17,
   "id": "1e5afdd0",
   "metadata": {},
   "outputs": [],
   "source": [
    "data.drop(['Cust_Id','class_Male','class_Own','class_Single','class_Close'], axis=1, inplace=True)"
   ]
  },
  {
   "cell_type": "code",
   "execution_count": 18,
   "id": "f1cb9b90",
   "metadata": {},
   "outputs": [
    {
     "data": {
      "text/html": [
       "<div>\n",
       "<style scoped>\n",
       "    .dataframe tbody tr th:only-of-type {\n",
       "        vertical-align: middle;\n",
       "    }\n",
       "\n",
       "    .dataframe tbody tr th {\n",
       "        vertical-align: top;\n",
       "    }\n",
       "\n",
       "    .dataframe thead th {\n",
       "        text-align: right;\n",
       "    }\n",
       "</style>\n",
       "<table border=\"1\" class=\"dataframe\">\n",
       "  <thead>\n",
       "    <tr style=\"text-align: right;\">\n",
       "      <th></th>\n",
       "      <th>Salary</th>\n",
       "      <th>Children</th>\n",
       "      <th>Catalogs</th>\n",
       "      <th>target</th>\n",
       "      <th>class_Middle</th>\n",
       "      <th>class_Old</th>\n",
       "      <th>class_Young</th>\n",
       "      <th>class_Female</th>\n",
       "      <th>class_Rent</th>\n",
       "      <th>class_Married</th>\n",
       "      <th>class_Far</th>\n",
       "      <th>class_High</th>\n",
       "      <th>class_Low</th>\n",
       "      <th>class_Medium</th>\n",
       "      <th>class_NewCust</th>\n",
       "    </tr>\n",
       "  </thead>\n",
       "  <tbody>\n",
       "    <tr>\n",
       "      <th>0</th>\n",
       "      <td>47500</td>\n",
       "      <td>0</td>\n",
       "      <td>6</td>\n",
       "      <td>0</td>\n",
       "      <td>0</td>\n",
       "      <td>1</td>\n",
       "      <td>0</td>\n",
       "      <td>1</td>\n",
       "      <td>0</td>\n",
       "      <td>0</td>\n",
       "      <td>1</td>\n",
       "      <td>1</td>\n",
       "      <td>0</td>\n",
       "      <td>0</td>\n",
       "      <td>0</td>\n",
       "    </tr>\n",
       "    <tr>\n",
       "      <th>1</th>\n",
       "      <td>63600</td>\n",
       "      <td>0</td>\n",
       "      <td>6</td>\n",
       "      <td>1</td>\n",
       "      <td>1</td>\n",
       "      <td>0</td>\n",
       "      <td>0</td>\n",
       "      <td>0</td>\n",
       "      <td>1</td>\n",
       "      <td>0</td>\n",
       "      <td>0</td>\n",
       "      <td>1</td>\n",
       "      <td>0</td>\n",
       "      <td>0</td>\n",
       "      <td>0</td>\n",
       "    </tr>\n",
       "    <tr>\n",
       "      <th>2</th>\n",
       "      <td>13500</td>\n",
       "      <td>0</td>\n",
       "      <td>18</td>\n",
       "      <td>0</td>\n",
       "      <td>0</td>\n",
       "      <td>0</td>\n",
       "      <td>1</td>\n",
       "      <td>1</td>\n",
       "      <td>1</td>\n",
       "      <td>0</td>\n",
       "      <td>0</td>\n",
       "      <td>0</td>\n",
       "      <td>1</td>\n",
       "      <td>0</td>\n",
       "      <td>0</td>\n",
       "    </tr>\n",
       "    <tr>\n",
       "      <th>3</th>\n",
       "      <td>85600</td>\n",
       "      <td>1</td>\n",
       "      <td>18</td>\n",
       "      <td>1</td>\n",
       "      <td>1</td>\n",
       "      <td>0</td>\n",
       "      <td>0</td>\n",
       "      <td>0</td>\n",
       "      <td>0</td>\n",
       "      <td>1</td>\n",
       "      <td>0</td>\n",
       "      <td>1</td>\n",
       "      <td>0</td>\n",
       "      <td>0</td>\n",
       "      <td>0</td>\n",
       "    </tr>\n",
       "    <tr>\n",
       "      <th>4</th>\n",
       "      <td>68400</td>\n",
       "      <td>0</td>\n",
       "      <td>12</td>\n",
       "      <td>1</td>\n",
       "      <td>1</td>\n",
       "      <td>0</td>\n",
       "      <td>0</td>\n",
       "      <td>1</td>\n",
       "      <td>0</td>\n",
       "      <td>0</td>\n",
       "      <td>0</td>\n",
       "      <td>1</td>\n",
       "      <td>0</td>\n",
       "      <td>0</td>\n",
       "      <td>0</td>\n",
       "    </tr>\n",
       "  </tbody>\n",
       "</table>\n",
       "</div>"
      ],
      "text/plain": [
       "   Salary  Children  Catalogs  target  class_Middle  class_Old  class_Young  \\\n",
       "0   47500         0         6       0             0          1            0   \n",
       "1   63600         0         6       1             1          0            0   \n",
       "2   13500         0        18       0             0          0            1   \n",
       "3   85600         1        18       1             1          0            0   \n",
       "4   68400         0        12       1             1          0            0   \n",
       "\n",
       "   class_Female  class_Rent  class_Married  class_Far  class_High  class_Low  \\\n",
       "0             1           0              0          1           1          0   \n",
       "1             0           1              0          0           1          0   \n",
       "2             1           1              0          0           0          1   \n",
       "3             0           0              1          0           1          0   \n",
       "4             1           0              0          0           1          0   \n",
       "\n",
       "   class_Medium  class_NewCust  \n",
       "0             0              0  \n",
       "1             0              0  \n",
       "2             0              0  \n",
       "3             0              0  \n",
       "4             0              0  "
      ]
     },
     "execution_count": 18,
     "metadata": {},
     "output_type": "execute_result"
    }
   ],
   "source": [
    "data.head()"
   ]
  },
  {
   "cell_type": "code",
   "execution_count": 20,
   "id": "ba305ca0",
   "metadata": {},
   "outputs": [],
   "source": [
    "from sklearn.model_selection import train_test_split\n",
    "\n",
    "xtrain, xtest, ytrain, ytest = train_test_split(data.drop('target',axis=1), data['target'], test_size=0.2, random_state=42)"
   ]
  },
  {
   "cell_type": "code",
   "execution_count": 21,
   "id": "2c274016",
   "metadata": {},
   "outputs": [
    {
     "data": {
      "text/plain": [
       "(800, 14)"
      ]
     },
     "execution_count": 21,
     "metadata": {},
     "output_type": "execute_result"
    }
   ],
   "source": [
    "xtrain.shape"
   ]
  },
  {
   "cell_type": "code",
   "execution_count": 22,
   "id": "732194aa",
   "metadata": {},
   "outputs": [
    {
     "data": {
      "text/plain": [
       "(800,)"
      ]
     },
     "execution_count": 22,
     "metadata": {},
     "output_type": "execute_result"
    }
   ],
   "source": [
    "ytrain.shape"
   ]
  },
  {
   "cell_type": "code",
   "execution_count": 23,
   "id": "0b16cab6",
   "metadata": {},
   "outputs": [
    {
     "data": {
      "text/plain": [
       "(200, 14)"
      ]
     },
     "execution_count": 23,
     "metadata": {},
     "output_type": "execute_result"
    }
   ],
   "source": [
    "xtest.shape"
   ]
  },
  {
   "cell_type": "code",
   "execution_count": 25,
   "id": "84d6f84c",
   "metadata": {},
   "outputs": [
    {
     "data": {
      "text/plain": [
       "(200,)"
      ]
     },
     "execution_count": 25,
     "metadata": {},
     "output_type": "execute_result"
    }
   ],
   "source": [
    "ytest.shape"
   ]
  },
  {
   "cell_type": "code",
   "execution_count": 26,
   "id": "62b332db",
   "metadata": {},
   "outputs": [],
   "source": [
    "import statsmodels.api as sm"
   ]
  },
  {
   "cell_type": "code",
   "execution_count": 27,
   "id": "71251ee9",
   "metadata": {},
   "outputs": [],
   "source": [
    "xtrain = sm.add_constant(xtrain)\n",
    "xtest = sm.add_constant(xtest)"
   ]
  },
  {
   "cell_type": "code",
   "execution_count": 28,
   "id": "87262ca7",
   "metadata": {},
   "outputs": [],
   "source": [
    "model1 = sm.GLM(ytrain, xtrain, family=sm.families.Binomial()).fit()"
   ]
  },
  {
   "cell_type": "code",
   "execution_count": 29,
   "id": "47858586",
   "metadata": {},
   "outputs": [
    {
     "data": {
      "text/html": [
       "<table class=\"simpletable\">\n",
       "<caption>Generalized Linear Model Regression Results</caption>\n",
       "<tr>\n",
       "  <th>Dep. Variable:</th>        <td>target</td>      <th>  No. Observations:  </th>  <td>   800</td> \n",
       "</tr>\n",
       "<tr>\n",
       "  <th>Model:</th>                  <td>GLM</td>       <th>  Df Residuals:      </th>  <td>   787</td> \n",
       "</tr>\n",
       "<tr>\n",
       "  <th>Model Family:</th>        <td>Binomial</td>     <th>  Df Model:          </th>  <td>    12</td> \n",
       "</tr>\n",
       "<tr>\n",
       "  <th>Link Function:</th>         <td>logit</td>      <th>  Scale:             </th> <td>  1.0000</td>\n",
       "</tr>\n",
       "<tr>\n",
       "  <th>Method:</th>                <td>IRLS</td>       <th>  Log-Likelihood:    </th> <td> -193.34</td>\n",
       "</tr>\n",
       "<tr>\n",
       "  <th>Date:</th>            <td>Mon, 25 Oct 2021</td> <th>  Deviance:          </th> <td>  386.67</td>\n",
       "</tr>\n",
       "<tr>\n",
       "  <th>Time:</th>                <td>11:40:37</td>     <th>  Pearson chi2:      </th>  <td>  479.</td> \n",
       "</tr>\n",
       "<tr>\n",
       "  <th>No. Iterations:</th>         <td>24</td>        <th>                     </th>     <td> </td>   \n",
       "</tr>\n",
       "<tr>\n",
       "  <th>Covariance Type:</th>     <td>nonrobust</td>    <th>                     </th>     <td> </td>   \n",
       "</tr>\n",
       "</table>\n",
       "<table class=\"simpletable\">\n",
       "<tr>\n",
       "        <td></td>           <th>coef</th>     <th>std err</th>      <th>z</th>      <th>P>|z|</th>  <th>[0.025</th>    <th>0.975]</th>  \n",
       "</tr>\n",
       "<tr>\n",
       "  <th>const</th>         <td>   -8.3984</td> <td> 2108.820</td> <td>   -0.004</td> <td> 0.997</td> <td>-4141.609</td> <td> 4124.812</td>\n",
       "</tr>\n",
       "<tr>\n",
       "  <th>Salary</th>        <td> 6.857e-05</td> <td> 1.07e-05</td> <td>    6.401</td> <td> 0.000</td> <td> 4.76e-05</td> <td> 8.96e-05</td>\n",
       "</tr>\n",
       "<tr>\n",
       "  <th>Children</th>      <td>   -0.7417</td> <td>    0.177</td> <td>   -4.193</td> <td> 0.000</td> <td>   -1.088</td> <td>   -0.395</td>\n",
       "</tr>\n",
       "<tr>\n",
       "  <th>Catalogs</th>      <td>    0.2083</td> <td>    0.024</td> <td>    8.738</td> <td> 0.000</td> <td>    0.162</td> <td>    0.255</td>\n",
       "</tr>\n",
       "<tr>\n",
       "  <th>class_Middle</th>  <td>   -2.5174</td> <td>  702.940</td> <td>   -0.004</td> <td> 0.997</td> <td>-1380.254</td> <td> 1375.220</td>\n",
       "</tr>\n",
       "<tr>\n",
       "  <th>class_Old</th>     <td>   -2.5083</td> <td>  702.940</td> <td>   -0.004</td> <td> 0.997</td> <td>-1380.245</td> <td> 1375.229</td>\n",
       "</tr>\n",
       "<tr>\n",
       "  <th>class_Young</th>   <td>   -3.3727</td> <td>  702.940</td> <td>   -0.005</td> <td> 0.996</td> <td>-1381.110</td> <td> 1374.364</td>\n",
       "</tr>\n",
       "<tr>\n",
       "  <th>class_Female</th>  <td>   -0.3089</td> <td>    0.271</td> <td>   -1.141</td> <td> 0.254</td> <td>   -0.840</td> <td>    0.222</td>\n",
       "</tr>\n",
       "<tr>\n",
       "  <th>class_Rent</th>    <td>   -0.2163</td> <td>    0.300</td> <td>   -0.720</td> <td> 0.471</td> <td>   -0.805</td> <td>    0.372</td>\n",
       "</tr>\n",
       "<tr>\n",
       "  <th>class_Married</th> <td>    0.1562</td> <td>    0.349</td> <td>    0.447</td> <td> 0.655</td> <td>   -0.528</td> <td>    0.840</td>\n",
       "</tr>\n",
       "<tr>\n",
       "  <th>class_Far</th>     <td>    1.7830</td> <td>    0.346</td> <td>    5.148</td> <td> 0.000</td> <td>    1.104</td> <td>    2.462</td>\n",
       "</tr>\n",
       "<tr>\n",
       "  <th>class_High</th>    <td>    4.2893</td> <td> 2811.759</td> <td>    0.002</td> <td> 0.999</td> <td>-5506.658</td> <td> 5515.237</td>\n",
       "</tr>\n",
       "<tr>\n",
       "  <th>class_Low</th>     <td>  -19.9998</td> <td> 1.05e+04</td> <td>   -0.002</td> <td> 0.998</td> <td>-2.07e+04</td> <td> 2.06e+04</td>\n",
       "</tr>\n",
       "<tr>\n",
       "  <th>class_Medium</th>  <td>    2.5229</td> <td> 2811.759</td> <td>    0.001</td> <td> 0.999</td> <td>-5508.424</td> <td> 5513.470</td>\n",
       "</tr>\n",
       "<tr>\n",
       "  <th>class_NewCust</th> <td>    4.7891</td> <td> 2811.759</td> <td>    0.002</td> <td> 0.999</td> <td>-5506.158</td> <td> 5515.736</td>\n",
       "</tr>\n",
       "</table>"
      ],
      "text/plain": [
       "<class 'statsmodels.iolib.summary.Summary'>\n",
       "\"\"\"\n",
       "                 Generalized Linear Model Regression Results                  \n",
       "==============================================================================\n",
       "Dep. Variable:                 target   No. Observations:                  800\n",
       "Model:                            GLM   Df Residuals:                      787\n",
       "Model Family:                Binomial   Df Model:                           12\n",
       "Link Function:                  logit   Scale:                          1.0000\n",
       "Method:                          IRLS   Log-Likelihood:                -193.34\n",
       "Date:                Mon, 25 Oct 2021   Deviance:                       386.67\n",
       "Time:                        11:40:37   Pearson chi2:                     479.\n",
       "No. Iterations:                    24                                         \n",
       "Covariance Type:            nonrobust                                         \n",
       "=================================================================================\n",
       "                    coef    std err          z      P>|z|      [0.025      0.975]\n",
       "---------------------------------------------------------------------------------\n",
       "const            -8.3984   2108.820     -0.004      0.997   -4141.609    4124.812\n",
       "Salary         6.857e-05   1.07e-05      6.401      0.000    4.76e-05    8.96e-05\n",
       "Children         -0.7417      0.177     -4.193      0.000      -1.088      -0.395\n",
       "Catalogs          0.2083      0.024      8.738      0.000       0.162       0.255\n",
       "class_Middle     -2.5174    702.940     -0.004      0.997   -1380.254    1375.220\n",
       "class_Old        -2.5083    702.940     -0.004      0.997   -1380.245    1375.229\n",
       "class_Young      -3.3727    702.940     -0.005      0.996   -1381.110    1374.364\n",
       "class_Female     -0.3089      0.271     -1.141      0.254      -0.840       0.222\n",
       "class_Rent       -0.2163      0.300     -0.720      0.471      -0.805       0.372\n",
       "class_Married     0.1562      0.349      0.447      0.655      -0.528       0.840\n",
       "class_Far         1.7830      0.346      5.148      0.000       1.104       2.462\n",
       "class_High        4.2893   2811.759      0.002      0.999   -5506.658    5515.237\n",
       "class_Low       -19.9998   1.05e+04     -0.002      0.998   -2.07e+04    2.06e+04\n",
       "class_Medium      2.5229   2811.759      0.001      0.999   -5508.424    5513.470\n",
       "class_NewCust     4.7891   2811.759      0.002      0.999   -5506.158    5515.736\n",
       "=================================================================================\n",
       "\"\"\""
      ]
     },
     "execution_count": 29,
     "metadata": {},
     "output_type": "execute_result"
    }
   ],
   "source": [
    "model1.summary()"
   ]
  },
  {
   "cell_type": "code",
   "execution_count": 30,
   "id": "8aca3911",
   "metadata": {},
   "outputs": [
    {
     "data": {
      "text/html": [
       "<table class=\"simpletable\">\n",
       "<tr>\n",
       "        <td>Model:</td>               <td>GLM</td>            <td>AIC:</td>        <td>412.6700</td> \n",
       "</tr>\n",
       "<tr>\n",
       "    <td>Link Function:</td>          <td>logit</td>           <td>BIC:</td>       <td>-4874.1194</td>\n",
       "</tr>\n",
       "<tr>\n",
       "  <td>Dependent Variable:</td>      <td>target</td>      <td>Log-Likelihood:</td>   <td>-193.34</td> \n",
       "</tr>\n",
       "<tr>\n",
       "         <td>Date:</td>        <td>2021-10-25 11:40</td>    <td>LL-Null:</td>       <td>-542.20</td> \n",
       "</tr>\n",
       "<tr>\n",
       "   <td>No. Observations:</td>         <td>800</td>          <td>Deviance:</td>      <td>386.67</td>  \n",
       "</tr>\n",
       "<tr>\n",
       "       <td>Df Model:</td>             <td>12</td>         <td>Pearson chi2:</td>     <td>479.</td>   \n",
       "</tr>\n",
       "<tr>\n",
       "     <td>Df Residuals:</td>           <td>787</td>           <td>Scale:</td>        <td>1.0000</td>  \n",
       "</tr>\n",
       "<tr>\n",
       "        <td>Method:</td>             <td>IRLS</td>              <td></td>              <td></td>     \n",
       "</tr>\n",
       "</table>\n",
       "<table class=\"simpletable\">\n",
       "<tr>\n",
       "        <td></td>          <th>Coef.</th>   <th>Std.Err.</th>     <th>z</th>     <th>P>|z|</th>   <th>[0.025</th>      <th>0.975]</th>  \n",
       "</tr>\n",
       "<tr>\n",
       "  <th>const</th>          <td>-8.3984</td>  <td>2108.8197</td> <td>-0.0040</td> <td>0.9968</td> <td>-4141.6090</td>   <td>4124.8122</td>\n",
       "</tr>\n",
       "<tr>\n",
       "  <th>Salary</th>         <td>0.0001</td>    <td>0.0000</td>   <td>6.4011</td>  <td>0.0000</td>   <td>0.0000</td>      <td>0.0001</td>  \n",
       "</tr>\n",
       "<tr>\n",
       "  <th>Children</th>       <td>-0.7417</td>   <td>0.1769</td>   <td>-4.1930</td> <td>0.0000</td>   <td>-1.0885</td>     <td>-0.3950</td> \n",
       "</tr>\n",
       "<tr>\n",
       "  <th>Catalogs</th>       <td>0.2083</td>    <td>0.0238</td>   <td>8.7380</td>  <td>0.0000</td>   <td>0.1616</td>      <td>0.2550</td>  \n",
       "</tr>\n",
       "<tr>\n",
       "  <th>class_Middle</th>   <td>-2.5174</td>  <td>702.9399</td>  <td>-0.0036</td> <td>0.9971</td> <td>-1380.2544</td>   <td>1375.2195</td>\n",
       "</tr>\n",
       "<tr>\n",
       "  <th>class_Old</th>      <td>-2.5083</td>  <td>702.9399</td>  <td>-0.0036</td> <td>0.9972</td> <td>-1380.2452</td>   <td>1375.2287</td>\n",
       "</tr>\n",
       "<tr>\n",
       "  <th>class_Young</th>    <td>-3.3727</td>  <td>702.9399</td>  <td>-0.0048</td> <td>0.9962</td> <td>-1381.1097</td>   <td>1374.3643</td>\n",
       "</tr>\n",
       "<tr>\n",
       "  <th>class_Female</th>   <td>-0.3089</td>   <td>0.2708</td>   <td>-1.1406</td> <td>0.2541</td>   <td>-0.8397</td>     <td>0.2219</td>  \n",
       "</tr>\n",
       "<tr>\n",
       "  <th>class_Rent</th>     <td>-0.2163</td>   <td>0.3003</td>   <td>-0.7202</td> <td>0.4714</td>   <td>-0.8049</td>     <td>0.3723</td>  \n",
       "</tr>\n",
       "<tr>\n",
       "  <th>class_Married</th>  <td>0.1562</td>    <td>0.3490</td>   <td>0.4474</td>  <td>0.6546</td>   <td>-0.5279</td>     <td>0.8402</td>  \n",
       "</tr>\n",
       "<tr>\n",
       "  <th>class_Far</th>      <td>1.7830</td>    <td>0.3463</td>   <td>5.1482</td>  <td>0.0000</td>   <td>1.1042</td>      <td>2.4618</td>  \n",
       "</tr>\n",
       "<tr>\n",
       "  <th>class_High</th>     <td>4.2893</td>   <td>2811.7595</td> <td>0.0015</td>  <td>0.9988</td> <td>-5506.6580</td>   <td>5515.2367</td>\n",
       "</tr>\n",
       "<tr>\n",
       "  <th>class_Low</th>     <td>-19.9998</td> <td>10544.0980</td> <td>-0.0019</td> <td>0.9985</td> <td>-20686.0522</td> <td>20646.0526</td>\n",
       "</tr>\n",
       "<tr>\n",
       "  <th>class_Medium</th>   <td>2.5229</td>   <td>2811.7595</td> <td>0.0009</td>  <td>0.9993</td> <td>-5508.4244</td>   <td>5513.4702</td>\n",
       "</tr>\n",
       "<tr>\n",
       "  <th>class_NewCust</th>  <td>4.7891</td>   <td>2811.7595</td> <td>0.0017</td>  <td>0.9986</td> <td>-5506.1582</td>   <td>5515.7364</td>\n",
       "</tr>\n",
       "</table>"
      ],
      "text/plain": [
       "<class 'statsmodels.iolib.summary2.Summary'>\n",
       "\"\"\"\n",
       "                   Results: Generalized linear model\n",
       "=======================================================================\n",
       "Model:                  GLM                AIC:              412.6700  \n",
       "Link Function:          logit              BIC:              -4874.1194\n",
       "Dependent Variable:     target             Log-Likelihood:   -193.34   \n",
       "Date:                   2021-10-25 11:40   LL-Null:          -542.20   \n",
       "No. Observations:       800                Deviance:         386.67    \n",
       "Df Model:               12                 Pearson chi2:     479.      \n",
       "Df Residuals:           787                Scale:            1.0000    \n",
       "Method:                 IRLS                                           \n",
       "-----------------------------------------------------------------------\n",
       "               Coef.    Std.Err.     z    P>|z|     [0.025     0.975]  \n",
       "-----------------------------------------------------------------------\n",
       "const          -8.3984  2108.8197 -0.0040 0.9968  -4141.6090  4124.8122\n",
       "Salary          0.0001     0.0000  6.4011 0.0000      0.0000     0.0001\n",
       "Children       -0.7417     0.1769 -4.1930 0.0000     -1.0885    -0.3950\n",
       "Catalogs        0.2083     0.0238  8.7380 0.0000      0.1616     0.2550\n",
       "class_Middle   -2.5174   702.9399 -0.0036 0.9971  -1380.2544  1375.2195\n",
       "class_Old      -2.5083   702.9399 -0.0036 0.9972  -1380.2452  1375.2287\n",
       "class_Young    -3.3727   702.9399 -0.0048 0.9962  -1381.1097  1374.3643\n",
       "class_Female   -0.3089     0.2708 -1.1406 0.2541     -0.8397     0.2219\n",
       "class_Rent     -0.2163     0.3003 -0.7202 0.4714     -0.8049     0.3723\n",
       "class_Married   0.1562     0.3490  0.4474 0.6546     -0.5279     0.8402\n",
       "class_Far       1.7830     0.3463  5.1482 0.0000      1.1042     2.4618\n",
       "class_High      4.2893  2811.7595  0.0015 0.9988  -5506.6580  5515.2367\n",
       "class_Low     -19.9998 10544.0980 -0.0019 0.9985 -20686.0522 20646.0526\n",
       "class_Medium    2.5229  2811.7595  0.0009 0.9993  -5508.4244  5513.4702\n",
       "class_NewCust   4.7891  2811.7595  0.0017 0.9986  -5506.1582  5515.7364\n",
       "=======================================================================\n",
       "\n",
       "\"\"\""
      ]
     },
     "execution_count": 30,
     "metadata": {},
     "output_type": "execute_result"
    }
   ],
   "source": [
    "model1.summary2()"
   ]
  },
  {
   "cell_type": "code",
   "execution_count": 31,
   "id": "08a6bdd4",
   "metadata": {},
   "outputs": [],
   "source": [
    "xtrain.drop(['class_Medium'], axis=1, inplace=True)\n",
    "xtest.drop(['class_Medium'], axis=1, inplace=True)"
   ]
  },
  {
   "cell_type": "code",
   "execution_count": 32,
   "id": "b593a0e6",
   "metadata": {},
   "outputs": [
    {
     "data": {
      "text/html": [
       "<table class=\"simpletable\">\n",
       "<tr>\n",
       "        <td>Model:</td>               <td>GLM</td>            <td>AIC:</td>        <td>412.6700</td> \n",
       "</tr>\n",
       "<tr>\n",
       "    <td>Link Function:</td>          <td>logit</td>           <td>BIC:</td>       <td>-4874.1194</td>\n",
       "</tr>\n",
       "<tr>\n",
       "  <td>Dependent Variable:</td>      <td>target</td>      <td>Log-Likelihood:</td>   <td>-193.34</td> \n",
       "</tr>\n",
       "<tr>\n",
       "         <td>Date:</td>        <td>2021-10-25 11:48</td>    <td>LL-Null:</td>       <td>-542.20</td> \n",
       "</tr>\n",
       "<tr>\n",
       "   <td>No. Observations:</td>         <td>800</td>          <td>Deviance:</td>      <td>386.67</td>  \n",
       "</tr>\n",
       "<tr>\n",
       "       <td>Df Model:</td>             <td>12</td>         <td>Pearson chi2:</td>     <td>479.</td>   \n",
       "</tr>\n",
       "<tr>\n",
       "     <td>Df Residuals:</td>           <td>787</td>           <td>Scale:</td>        <td>1.0000</td>  \n",
       "</tr>\n",
       "<tr>\n",
       "        <td>Method:</td>             <td>IRLS</td>              <td></td>              <td></td>     \n",
       "</tr>\n",
       "</table>\n",
       "<table class=\"simpletable\">\n",
       "<tr>\n",
       "        <td></td>          <th>Coef.</th>   <th>Std.Err.</th>      <th>z</th>     <th>P>|z|</th>   <th>[0.025</th>      <th>0.975]</th>  \n",
       "</tr>\n",
       "<tr>\n",
       "  <th>const</th>          <td>-6.5062</td>   <td>0.6487</td>   <td>-10.0290</td> <td>0.0000</td>   <td>-7.7777</td>     <td>-5.2347</td> \n",
       "</tr>\n",
       "<tr>\n",
       "  <th>Salary</th>         <td>0.0001</td>    <td>0.0000</td>    <td>6.4011</td>  <td>0.0000</td>   <td>0.0000</td>      <td>0.0001</td>  \n",
       "</tr>\n",
       "<tr>\n",
       "  <th>Children</th>       <td>-0.7417</td>   <td>0.1769</td>    <td>-4.1930</td> <td>0.0000</td>   <td>-1.0885</td>     <td>-0.3950</td> \n",
       "</tr>\n",
       "<tr>\n",
       "  <th>Catalogs</th>       <td>0.2083</td>    <td>0.0238</td>    <td>8.7380</td>  <td>0.0000</td>   <td>0.1616</td>      <td>0.2550</td>  \n",
       "</tr>\n",
       "<tr>\n",
       "  <th>class_Middle</th>   <td>-1.8867</td>   <td>0.3285</td>    <td>-5.7442</td> <td>0.0000</td>   <td>-2.5305</td>     <td>-1.2430</td> \n",
       "</tr>\n",
       "<tr>\n",
       "  <th>class_Old</th>      <td>-1.8775</td>   <td>0.3080</td>    <td>-6.0967</td> <td>0.0000</td>   <td>-2.4811</td>     <td>-1.2740</td> \n",
       "</tr>\n",
       "<tr>\n",
       "  <th>class_Young</th>    <td>-2.7420</td>   <td>0.3639</td>    <td>-7.5350</td> <td>0.0000</td>   <td>-3.4552</td>     <td>-2.0287</td> \n",
       "</tr>\n",
       "<tr>\n",
       "  <th>class_Female</th>   <td>-0.3089</td>   <td>0.2708</td>    <td>-1.1406</td> <td>0.2541</td>   <td>-0.8397</td>     <td>0.2219</td>  \n",
       "</tr>\n",
       "<tr>\n",
       "  <th>class_Rent</th>     <td>-0.2163</td>   <td>0.3003</td>    <td>-0.7202</td> <td>0.4714</td>   <td>-0.8049</td>     <td>0.3723</td>  \n",
       "</tr>\n",
       "<tr>\n",
       "  <th>class_Married</th>  <td>0.1562</td>    <td>0.3490</td>    <td>0.4474</td>  <td>0.6546</td>   <td>-0.5279</td>     <td>0.8402</td>  \n",
       "</tr>\n",
       "<tr>\n",
       "  <th>class_Far</th>      <td>1.7830</td>    <td>0.3463</td>    <td>5.1482</td>  <td>0.0000</td>   <td>1.1042</td>      <td>2.4618</td>  \n",
       "</tr>\n",
       "<tr>\n",
       "  <th>class_High</th>     <td>1.7664</td>    <td>0.4073</td>    <td>4.3368</td>  <td>0.0000</td>   <td>0.9681</td>      <td>2.5647</td>  \n",
       "</tr>\n",
       "<tr>\n",
       "  <th>class_Low</th>     <td>-22.5227</td> <td>13355.8577</td>  <td>-0.0017</td> <td>0.9987</td> <td>-26199.5228</td> <td>26154.4774</td>\n",
       "</tr>\n",
       "<tr>\n",
       "  <th>class_NewCust</th>  <td>2.2662</td>    <td>0.3398</td>    <td>6.6690</td>  <td>0.0000</td>   <td>1.6002</td>      <td>2.9322</td>  \n",
       "</tr>\n",
       "</table>"
      ],
      "text/plain": [
       "<class 'statsmodels.iolib.summary2.Summary'>\n",
       "\"\"\"\n",
       "                   Results: Generalized linear model\n",
       "========================================================================\n",
       "Model:                 GLM                 AIC:               412.6700  \n",
       "Link Function:         logit               BIC:               -4874.1194\n",
       "Dependent Variable:    target              Log-Likelihood:    -193.34   \n",
       "Date:                  2021-10-25 11:48    LL-Null:           -542.20   \n",
       "No. Observations:      800                 Deviance:          386.67    \n",
       "Df Model:              12                  Pearson chi2:      479.      \n",
       "Df Residuals:          787                 Scale:             1.0000    \n",
       "Method:                IRLS                                             \n",
       "------------------------------------------------------------------------\n",
       "               Coef.    Std.Err.     z     P>|z|     [0.025     0.975]  \n",
       "------------------------------------------------------------------------\n",
       "const          -6.5062     0.6487 -10.0290 0.0000     -7.7777    -5.2347\n",
       "Salary          0.0001     0.0000   6.4011 0.0000      0.0000     0.0001\n",
       "Children       -0.7417     0.1769  -4.1930 0.0000     -1.0885    -0.3950\n",
       "Catalogs        0.2083     0.0238   8.7380 0.0000      0.1616     0.2550\n",
       "class_Middle   -1.8867     0.3285  -5.7442 0.0000     -2.5305    -1.2430\n",
       "class_Old      -1.8775     0.3080  -6.0967 0.0000     -2.4811    -1.2740\n",
       "class_Young    -2.7420     0.3639  -7.5350 0.0000     -3.4552    -2.0287\n",
       "class_Female   -0.3089     0.2708  -1.1406 0.2541     -0.8397     0.2219\n",
       "class_Rent     -0.2163     0.3003  -0.7202 0.4714     -0.8049     0.3723\n",
       "class_Married   0.1562     0.3490   0.4474 0.6546     -0.5279     0.8402\n",
       "class_Far       1.7830     0.3463   5.1482 0.0000      1.1042     2.4618\n",
       "class_High      1.7664     0.4073   4.3368 0.0000      0.9681     2.5647\n",
       "class_Low     -22.5227 13355.8577  -0.0017 0.9987 -26199.5228 26154.4774\n",
       "class_NewCust   2.2662     0.3398   6.6690 0.0000      1.6002     2.9322\n",
       "========================================================================\n",
       "\n",
       "\"\"\""
      ]
     },
     "execution_count": 32,
     "metadata": {},
     "output_type": "execute_result"
    }
   ],
   "source": [
    "model2 = sm.GLM(ytrain, xtrain, family=sm.families.Binomial()).fit()\n",
    "model2.summary2()"
   ]
  },
  {
   "cell_type": "code",
   "execution_count": 33,
   "id": "6c5df922",
   "metadata": {},
   "outputs": [],
   "source": [
    "xtrain.drop(['class_Low'], axis=1, inplace=True)\n",
    "xtest.drop(['class_Low'], axis=1, inplace=True)"
   ]
  },
  {
   "cell_type": "code",
   "execution_count": 34,
   "id": "16cd278f",
   "metadata": {},
   "outputs": [
    {
     "data": {
      "text/html": [
       "<table class=\"simpletable\">\n",
       "<tr>\n",
       "        <td>Model:</td>               <td>GLM</td>            <td>AIC:</td>        <td>421.9369</td> \n",
       "</tr>\n",
       "<tr>\n",
       "    <td>Link Function:</td>          <td>logit</td>           <td>BIC:</td>       <td>-4869.5371</td>\n",
       "</tr>\n",
       "<tr>\n",
       "  <td>Dependent Variable:</td>      <td>target</td>      <td>Log-Likelihood:</td>   <td>-198.97</td> \n",
       "</tr>\n",
       "<tr>\n",
       "         <td>Date:</td>        <td>2021-10-25 11:49</td>    <td>LL-Null:</td>       <td>-542.20</td> \n",
       "</tr>\n",
       "<tr>\n",
       "   <td>No. Observations:</td>         <td>800</td>          <td>Deviance:</td>      <td>397.94</td>  \n",
       "</tr>\n",
       "<tr>\n",
       "       <td>Df Model:</td>             <td>11</td>         <td>Pearson chi2:</td>     <td>537.</td>   \n",
       "</tr>\n",
       "<tr>\n",
       "     <td>Df Residuals:</td>           <td>788</td>           <td>Scale:</td>        <td>1.0000</td>  \n",
       "</tr>\n",
       "<tr>\n",
       "        <td>Method:</td>             <td>IRLS</td>              <td></td>              <td></td>     \n",
       "</tr>\n",
       "</table>\n",
       "<table class=\"simpletable\">\n",
       "<tr>\n",
       "        <td></td>         <th>Coef.</th>  <th>Std.Err.</th>     <th>z</th>     <th>P>|z|</th> <th>[0.025</th>  <th>0.975]</th> \n",
       "</tr>\n",
       "<tr>\n",
       "  <th>const</th>         <td>-6.6672</td>  <td>0.6258</td>  <td>-10.6541</td> <td>0.0000</td> <td>-7.8937</td> <td>-5.4407</td>\n",
       "</tr>\n",
       "<tr>\n",
       "  <th>Salary</th>        <td>0.0001</td>   <td>0.0000</td>   <td>6.5279</td>  <td>0.0000</td> <td>0.0000</td>  <td>0.0001</td> \n",
       "</tr>\n",
       "<tr>\n",
       "  <th>Children</th>      <td>-0.8594</td>  <td>0.1728</td>   <td>-4.9738</td> <td>0.0000</td> <td>-1.1980</td> <td>-0.5207</td>\n",
       "</tr>\n",
       "<tr>\n",
       "  <th>Catalogs</th>      <td>0.2105</td>   <td>0.0235</td>   <td>8.9641</td>  <td>0.0000</td> <td>0.1644</td>  <td>0.2565</td> \n",
       "</tr>\n",
       "<tr>\n",
       "  <th>class_Middle</th>  <td>-1.8586</td>  <td>0.3241</td>   <td>-5.7354</td> <td>0.0000</td> <td>-2.4938</td> <td>-1.2235</td>\n",
       "</tr>\n",
       "<tr>\n",
       "  <th>class_Old</th>     <td>-1.9450</td>  <td>0.3037</td>   <td>-6.4045</td> <td>0.0000</td> <td>-2.5403</td> <td>-1.3498</td>\n",
       "</tr>\n",
       "<tr>\n",
       "  <th>class_Young</th>   <td>-2.8635</td>  <td>0.3569</td>   <td>-8.0225</td> <td>0.0000</td> <td>-3.5631</td> <td>-2.1639</td>\n",
       "</tr>\n",
       "<tr>\n",
       "  <th>class_Female</th>  <td>-0.2970</td>  <td>0.2703</td>   <td>-1.0986</td> <td>0.2719</td> <td>-0.8269</td> <td>0.2329</td> \n",
       "</tr>\n",
       "<tr>\n",
       "  <th>class_Rent</th>    <td>-0.2146</td>  <td>0.2992</td>   <td>-0.7172</td> <td>0.4733</td> <td>-0.8010</td> <td>0.3719</td> \n",
       "</tr>\n",
       "<tr>\n",
       "  <th>class_Married</th> <td>0.2344</td>   <td>0.3496</td>   <td>0.6703</td>  <td>0.5027</td> <td>-0.4509</td> <td>0.9197</td> \n",
       "</tr>\n",
       "<tr>\n",
       "  <th>class_Far</th>     <td>1.8908</td>   <td>0.3455</td>   <td>5.4720</td>  <td>0.0000</td> <td>1.2135</td>  <td>2.5680</td> \n",
       "</tr>\n",
       "<tr>\n",
       "  <th>class_High</th>    <td>1.9076</td>   <td>0.4090</td>   <td>4.6644</td>  <td>0.0000</td> <td>1.1060</td>  <td>2.7092</td> \n",
       "</tr>\n",
       "<tr>\n",
       "  <th>class_NewCust</th> <td>2.4945</td>   <td>0.3321</td>   <td>7.5117</td>  <td>0.0000</td> <td>1.8436</td>  <td>3.1454</td> \n",
       "</tr>\n",
       "</table>"
      ],
      "text/plain": [
       "<class 'statsmodels.iolib.summary2.Summary'>\n",
       "\"\"\"\n",
       "               Results: Generalized linear model\n",
       "===============================================================\n",
       "Model:              GLM              AIC:            421.9369  \n",
       "Link Function:      logit            BIC:            -4869.5371\n",
       "Dependent Variable: target           Log-Likelihood: -198.97   \n",
       "Date:               2021-10-25 11:49 LL-Null:        -542.20   \n",
       "No. Observations:   800              Deviance:       397.94    \n",
       "Df Model:           11               Pearson chi2:   537.      \n",
       "Df Residuals:       788              Scale:          1.0000    \n",
       "Method:             IRLS                                       \n",
       "---------------------------------------------------------------\n",
       "                Coef.  Std.Err.    z     P>|z|   [0.025  0.975]\n",
       "---------------------------------------------------------------\n",
       "const          -6.6672   0.6258 -10.6541 0.0000 -7.8937 -5.4407\n",
       "Salary          0.0001   0.0000   6.5279 0.0000  0.0000  0.0001\n",
       "Children       -0.8594   0.1728  -4.9738 0.0000 -1.1980 -0.5207\n",
       "Catalogs        0.2105   0.0235   8.9641 0.0000  0.1644  0.2565\n",
       "class_Middle   -1.8586   0.3241  -5.7354 0.0000 -2.4938 -1.2235\n",
       "class_Old      -1.9450   0.3037  -6.4045 0.0000 -2.5403 -1.3498\n",
       "class_Young    -2.8635   0.3569  -8.0225 0.0000 -3.5631 -2.1639\n",
       "class_Female   -0.2970   0.2703  -1.0986 0.2719 -0.8269  0.2329\n",
       "class_Rent     -0.2146   0.2992  -0.7172 0.4733 -0.8010  0.3719\n",
       "class_Married   0.2344   0.3496   0.6703 0.5027 -0.4509  0.9197\n",
       "class_Far       1.8908   0.3455   5.4720 0.0000  1.2135  2.5680\n",
       "class_High      1.9076   0.4090   4.6644 0.0000  1.1060  2.7092\n",
       "class_NewCust   2.4945   0.3321   7.5117 0.0000  1.8436  3.1454\n",
       "===============================================================\n",
       "\n",
       "\"\"\""
      ]
     },
     "execution_count": 34,
     "metadata": {},
     "output_type": "execute_result"
    }
   ],
   "source": [
    "model3 = sm.GLM(ytrain, xtrain, family=sm.families.Binomial()).fit()\n",
    "model3.summary2()"
   ]
  },
  {
   "cell_type": "code",
   "execution_count": 35,
   "id": "6b268ea8",
   "metadata": {},
   "outputs": [
    {
     "data": {
      "text/html": [
       "<table class=\"simpletable\">\n",
       "<tr>\n",
       "        <td>Model:</td>               <td>GLM</td>            <td>AIC:</td>        <td>420.3846</td> \n",
       "</tr>\n",
       "<tr>\n",
       "    <td>Link Function:</td>          <td>logit</td>           <td>BIC:</td>       <td>-4875.7740</td>\n",
       "</tr>\n",
       "<tr>\n",
       "  <td>Dependent Variable:</td>      <td>target</td>      <td>Log-Likelihood:</td>   <td>-199.19</td> \n",
       "</tr>\n",
       "<tr>\n",
       "         <td>Date:</td>        <td>2021-10-25 11:51</td>    <td>LL-Null:</td>       <td>-542.20</td> \n",
       "</tr>\n",
       "<tr>\n",
       "   <td>No. Observations:</td>         <td>800</td>          <td>Deviance:</td>      <td>398.38</td>  \n",
       "</tr>\n",
       "<tr>\n",
       "       <td>Df Model:</td>             <td>10</td>         <td>Pearson chi2:</td>     <td>557.</td>   \n",
       "</tr>\n",
       "<tr>\n",
       "     <td>Df Residuals:</td>           <td>789</td>           <td>Scale:</td>        <td>1.0000</td>  \n",
       "</tr>\n",
       "<tr>\n",
       "        <td>Method:</td>             <td>IRLS</td>              <td></td>              <td></td>     \n",
       "</tr>\n",
       "</table>\n",
       "<table class=\"simpletable\">\n",
       "<tr>\n",
       "        <td></td>         <th>Coef.</th>  <th>Std.Err.</th>     <th>z</th>     <th>P>|z|</th> <th>[0.025</th>  <th>0.975]</th> \n",
       "</tr>\n",
       "<tr>\n",
       "  <th>const</th>         <td>-6.7534</td>  <td>0.6152</td>  <td>-10.9777</td> <td>0.0000</td> <td>-7.9592</td> <td>-5.5476</td>\n",
       "</tr>\n",
       "<tr>\n",
       "  <th>Salary</th>        <td>0.0001</td>   <td>0.0000</td>   <td>8.2763</td>  <td>0.0000</td> <td>0.0001</td>  <td>0.0001</td> \n",
       "</tr>\n",
       "<tr>\n",
       "  <th>Children</th>      <td>-0.8496</td>  <td>0.1718</td>   <td>-4.9464</td> <td>0.0000</td> <td>-1.1863</td> <td>-0.5130</td>\n",
       "</tr>\n",
       "<tr>\n",
       "  <th>Catalogs</th>      <td>0.2112</td>   <td>0.0234</td>   <td>9.0080</td>  <td>0.0000</td> <td>0.1652</td>  <td>0.2572</td> \n",
       "</tr>\n",
       "<tr>\n",
       "  <th>class_Middle</th>  <td>-1.9495</td>  <td>0.2959</td>   <td>-6.5886</td> <td>0.0000</td> <td>-2.5295</td> <td>-1.3696</td>\n",
       "</tr>\n",
       "<tr>\n",
       "  <th>class_Old</th>     <td>-1.9481</td>  <td>0.3034</td>   <td>-6.4198</td> <td>0.0000</td> <td>-2.5428</td> <td>-1.3533</td>\n",
       "</tr>\n",
       "<tr>\n",
       "  <th>class_Young</th>   <td>-2.8558</td>  <td>0.3560</td>   <td>-8.0217</td> <td>0.0000</td> <td>-3.5535</td> <td>-2.1580</td>\n",
       "</tr>\n",
       "<tr>\n",
       "  <th>class_Female</th>  <td>-0.2718</td>  <td>0.2677</td>   <td>-1.0154</td> <td>0.3099</td> <td>-0.7964</td> <td>0.2528</td> \n",
       "</tr>\n",
       "<tr>\n",
       "  <th>class_Rent</th>    <td>-0.1955</td>  <td>0.2973</td>   <td>-0.6574</td> <td>0.5109</td> <td>-0.7782</td> <td>0.3873</td> \n",
       "</tr>\n",
       "<tr>\n",
       "  <th>class_Far</th>     <td>1.8966</td>   <td>0.3453</td>   <td>5.4931</td>  <td>0.0000</td> <td>1.2199</td>  <td>2.5733</td> \n",
       "</tr>\n",
       "<tr>\n",
       "  <th>class_High</th>    <td>1.8963</td>   <td>0.4084</td>   <td>4.6433</td>  <td>0.0000</td> <td>1.0958</td>  <td>2.6967</td> \n",
       "</tr>\n",
       "<tr>\n",
       "  <th>class_NewCust</th> <td>2.4962</td>   <td>0.3322</td>   <td>7.5135</td>  <td>0.0000</td> <td>1.8451</td>  <td>3.1474</td> \n",
       "</tr>\n",
       "</table>"
      ],
      "text/plain": [
       "<class 'statsmodels.iolib.summary2.Summary'>\n",
       "\"\"\"\n",
       "               Results: Generalized linear model\n",
       "===============================================================\n",
       "Model:              GLM              AIC:            420.3846  \n",
       "Link Function:      logit            BIC:            -4875.7740\n",
       "Dependent Variable: target           Log-Likelihood: -199.19   \n",
       "Date:               2021-10-25 11:51 LL-Null:        -542.20   \n",
       "No. Observations:   800              Deviance:       398.38    \n",
       "Df Model:           10               Pearson chi2:   557.      \n",
       "Df Residuals:       789              Scale:          1.0000    \n",
       "Method:             IRLS                                       \n",
       "---------------------------------------------------------------\n",
       "                Coef.  Std.Err.    z     P>|z|   [0.025  0.975]\n",
       "---------------------------------------------------------------\n",
       "const          -6.7534   0.6152 -10.9777 0.0000 -7.9592 -5.5476\n",
       "Salary          0.0001   0.0000   8.2763 0.0000  0.0001  0.0001\n",
       "Children       -0.8496   0.1718  -4.9464 0.0000 -1.1863 -0.5130\n",
       "Catalogs        0.2112   0.0234   9.0080 0.0000  0.1652  0.2572\n",
       "class_Middle   -1.9495   0.2959  -6.5886 0.0000 -2.5295 -1.3696\n",
       "class_Old      -1.9481   0.3034  -6.4198 0.0000 -2.5428 -1.3533\n",
       "class_Young    -2.8558   0.3560  -8.0217 0.0000 -3.5535 -2.1580\n",
       "class_Female   -0.2718   0.2677  -1.0154 0.3099 -0.7964  0.2528\n",
       "class_Rent     -0.1955   0.2973  -0.6574 0.5109 -0.7782  0.3873\n",
       "class_Far       1.8966   0.3453   5.4931 0.0000  1.2199  2.5733\n",
       "class_High      1.8963   0.4084   4.6433 0.0000  1.0958  2.6967\n",
       "class_NewCust   2.4962   0.3322   7.5135 0.0000  1.8451  3.1474\n",
       "===============================================================\n",
       "\n",
       "\"\"\""
      ]
     },
     "execution_count": 35,
     "metadata": {},
     "output_type": "execute_result"
    }
   ],
   "source": [
    "xtrain.drop(['class_Married'], axis=1, inplace=True)\n",
    "xtest.drop(['class_Married'], axis=1, inplace=True)\n",
    "\n",
    "model4 = sm.GLM(ytrain, xtrain, family=sm.families.Binomial()).fit()\n",
    "model4.summary2()"
   ]
  },
  {
   "cell_type": "code",
   "execution_count": 36,
   "id": "c992753e",
   "metadata": {},
   "outputs": [
    {
     "data": {
      "text/html": [
       "<table class=\"simpletable\">\n",
       "<tr>\n",
       "        <td>Model:</td>               <td>GLM</td>            <td>AIC:</td>        <td>418.8162</td> \n",
       "</tr>\n",
       "<tr>\n",
       "    <td>Link Function:</td>          <td>logit</td>           <td>BIC:</td>       <td>-4882.0270</td>\n",
       "</tr>\n",
       "<tr>\n",
       "  <td>Dependent Variable:</td>      <td>target</td>      <td>Log-Likelihood:</td>   <td>-199.41</td> \n",
       "</tr>\n",
       "<tr>\n",
       "         <td>Date:</td>        <td>2021-10-25 11:51</td>    <td>LL-Null:</td>       <td>-542.20</td> \n",
       "</tr>\n",
       "<tr>\n",
       "   <td>No. Observations:</td>         <td>800</td>          <td>Deviance:</td>      <td>398.82</td>  \n",
       "</tr>\n",
       "<tr>\n",
       "       <td>Df Model:</td>              <td>9</td>         <td>Pearson chi2:</td>     <td>553.</td>   \n",
       "</tr>\n",
       "<tr>\n",
       "     <td>Df Residuals:</td>           <td>790</td>           <td>Scale:</td>        <td>1.0000</td>  \n",
       "</tr>\n",
       "<tr>\n",
       "        <td>Method:</td>             <td>IRLS</td>              <td></td>              <td></td>     \n",
       "</tr>\n",
       "</table>\n",
       "<table class=\"simpletable\">\n",
       "<tr>\n",
       "        <td></td>         <th>Coef.</th>  <th>Std.Err.</th>     <th>z</th>     <th>P>|z|</th> <th>[0.025</th>  <th>0.975]</th> \n",
       "</tr>\n",
       "<tr>\n",
       "  <th>const</th>         <td>-6.8722</td>  <td>0.5913</td>  <td>-11.6228</td> <td>0.0000</td> <td>-8.0310</td> <td>-5.7133</td>\n",
       "</tr>\n",
       "<tr>\n",
       "  <th>Salary</th>        <td>0.0001</td>   <td>0.0000</td>   <td>8.5453</td>  <td>0.0000</td> <td>0.0001</td>  <td>0.0001</td> \n",
       "</tr>\n",
       "<tr>\n",
       "  <th>Children</th>      <td>-0.8446</td>  <td>0.1714</td>   <td>-4.9269</td> <td>0.0000</td> <td>-1.1805</td> <td>-0.5086</td>\n",
       "</tr>\n",
       "<tr>\n",
       "  <th>Catalogs</th>      <td>0.2110</td>   <td>0.0234</td>   <td>9.0175</td>  <td>0.0000</td> <td>0.1652</td>  <td>0.2569</td> \n",
       "</tr>\n",
       "<tr>\n",
       "  <th>class_Middle</th>  <td>-1.9868</td>  <td>0.2908</td>   <td>-6.8328</td> <td>0.0000</td> <td>-2.5568</td> <td>-1.4169</td>\n",
       "</tr>\n",
       "<tr>\n",
       "  <th>class_Old</th>     <td>-1.9382</td>  <td>0.3028</td>   <td>-6.4008</td> <td>0.0000</td> <td>-2.5317</td> <td>-1.3447</td>\n",
       "</tr>\n",
       "<tr>\n",
       "  <th>class_Young</th>   <td>-2.9471</td>  <td>0.3298</td>   <td>-8.9349</td> <td>0.0000</td> <td>-3.5936</td> <td>-2.3006</td>\n",
       "</tr>\n",
       "<tr>\n",
       "  <th>class_Female</th>  <td>-0.2637</td>  <td>0.2672</td>   <td>-0.9870</td> <td>0.3236</td> <td>-0.7875</td> <td>0.2600</td> \n",
       "</tr>\n",
       "<tr>\n",
       "  <th>class_Far</th>     <td>1.8742</td>   <td>0.3435</td>   <td>5.4570</td>  <td>0.0000</td> <td>1.2011</td>  <td>2.5474</td> \n",
       "</tr>\n",
       "<tr>\n",
       "  <th>class_High</th>    <td>1.9055</td>   <td>0.4073</td>   <td>4.6783</td>  <td>0.0000</td> <td>1.1072</td>  <td>2.7038</td> \n",
       "</tr>\n",
       "<tr>\n",
       "  <th>class_NewCust</th> <td>2.5085</td>   <td>0.3320</td>   <td>7.5558</td>  <td>0.0000</td> <td>1.8578</td>  <td>3.1593</td> \n",
       "</tr>\n",
       "</table>"
      ],
      "text/plain": [
       "<class 'statsmodels.iolib.summary2.Summary'>\n",
       "\"\"\"\n",
       "               Results: Generalized linear model\n",
       "===============================================================\n",
       "Model:              GLM              AIC:            418.8162  \n",
       "Link Function:      logit            BIC:            -4882.0270\n",
       "Dependent Variable: target           Log-Likelihood: -199.41   \n",
       "Date:               2021-10-25 11:51 LL-Null:        -542.20   \n",
       "No. Observations:   800              Deviance:       398.82    \n",
       "Df Model:           9                Pearson chi2:   553.      \n",
       "Df Residuals:       790              Scale:          1.0000    \n",
       "Method:             IRLS                                       \n",
       "---------------------------------------------------------------\n",
       "                Coef.  Std.Err.    z     P>|z|   [0.025  0.975]\n",
       "---------------------------------------------------------------\n",
       "const          -6.8722   0.5913 -11.6228 0.0000 -8.0310 -5.7133\n",
       "Salary          0.0001   0.0000   8.5453 0.0000  0.0001  0.0001\n",
       "Children       -0.8446   0.1714  -4.9269 0.0000 -1.1805 -0.5086\n",
       "Catalogs        0.2110   0.0234   9.0175 0.0000  0.1652  0.2569\n",
       "class_Middle   -1.9868   0.2908  -6.8328 0.0000 -2.5568 -1.4169\n",
       "class_Old      -1.9382   0.3028  -6.4008 0.0000 -2.5317 -1.3447\n",
       "class_Young    -2.9471   0.3298  -8.9349 0.0000 -3.5936 -2.3006\n",
       "class_Female   -0.2637   0.2672  -0.9870 0.3236 -0.7875  0.2600\n",
       "class_Far       1.8742   0.3435   5.4570 0.0000  1.2011  2.5474\n",
       "class_High      1.9055   0.4073   4.6783 0.0000  1.1072  2.7038\n",
       "class_NewCust   2.5085   0.3320   7.5558 0.0000  1.8578  3.1593\n",
       "===============================================================\n",
       "\n",
       "\"\"\""
      ]
     },
     "execution_count": 36,
     "metadata": {},
     "output_type": "execute_result"
    }
   ],
   "source": [
    "xtrain.drop(['class_Rent'], axis=1, inplace=True)\n",
    "xtest.drop(['class_Rent'], axis=1, inplace=True)\n",
    "\n",
    "model5 = sm.GLM(ytrain, xtrain, family=sm.families.Binomial()).fit()\n",
    "model5.summary2()"
   ]
  },
  {
   "cell_type": "code",
   "execution_count": 37,
   "id": "e4e2b9d3",
   "metadata": {},
   "outputs": [
    {
     "data": {
      "text/html": [
       "<table class=\"simpletable\">\n",
       "<tr>\n",
       "        <td>Model:</td>               <td>GLM</td>            <td>AIC:</td>        <td>417.7897</td> \n",
       "</tr>\n",
       "<tr>\n",
       "    <td>Link Function:</td>          <td>logit</td>           <td>BIC:</td>       <td>-4887.7382</td>\n",
       "</tr>\n",
       "<tr>\n",
       "  <td>Dependent Variable:</td>      <td>target</td>      <td>Log-Likelihood:</td>   <td>-199.89</td> \n",
       "</tr>\n",
       "<tr>\n",
       "         <td>Date:</td>        <td>2021-10-25 11:53</td>    <td>LL-Null:</td>       <td>-542.20</td> \n",
       "</tr>\n",
       "<tr>\n",
       "   <td>No. Observations:</td>         <td>800</td>          <td>Deviance:</td>      <td>399.79</td>  \n",
       "</tr>\n",
       "<tr>\n",
       "       <td>Df Model:</td>              <td>8</td>         <td>Pearson chi2:</td>     <td>581.</td>   \n",
       "</tr>\n",
       "<tr>\n",
       "     <td>Df Residuals:</td>           <td>791</td>           <td>Scale:</td>        <td>1.0000</td>  \n",
       "</tr>\n",
       "<tr>\n",
       "        <td>Method:</td>             <td>IRLS</td>              <td></td>              <td></td>     \n",
       "</tr>\n",
       "</table>\n",
       "<table class=\"simpletable\">\n",
       "<tr>\n",
       "        <td></td>         <th>Coef.</th>  <th>Std.Err.</th>     <th>z</th>     <th>P>|z|</th> <th>[0.025</th>  <th>0.975]</th> \n",
       "</tr>\n",
       "<tr>\n",
       "  <th>const</th>         <td>-6.9945</td>  <td>0.5812</td>  <td>-12.0345</td> <td>0.0000</td> <td>-8.1336</td> <td>-5.8554</td>\n",
       "</tr>\n",
       "<tr>\n",
       "  <th>Salary</th>        <td>0.0001</td>   <td>0.0000</td>   <td>8.7903</td>  <td>0.0000</td> <td>0.0001</td>  <td>0.0001</td> \n",
       "</tr>\n",
       "<tr>\n",
       "  <th>Children</th>      <td>-0.8673</td>  <td>0.1702</td>   <td>-5.0946</td> <td>0.0000</td> <td>-1.2009</td> <td>-0.5336</td>\n",
       "</tr>\n",
       "<tr>\n",
       "  <th>Catalogs</th>      <td>0.2103</td>   <td>0.0233</td>   <td>9.0342</td>  <td>0.0000</td> <td>0.1646</td>  <td>0.2559</td> \n",
       "</tr>\n",
       "<tr>\n",
       "  <th>class_Middle</th>  <td>-2.0123</td>  <td>0.2894</td>   <td>-6.9532</td> <td>0.0000</td> <td>-2.5795</td> <td>-1.4451</td>\n",
       "</tr>\n",
       "<tr>\n",
       "  <th>class_Old</th>     <td>-2.0081</td>  <td>0.2949</td>   <td>-6.8097</td> <td>0.0000</td> <td>-2.5861</td> <td>-1.4302</td>\n",
       "</tr>\n",
       "<tr>\n",
       "  <th>class_Young</th>   <td>-2.9741</td>  <td>0.3311</td>   <td>-8.9832</td> <td>0.0000</td> <td>-3.6230</td> <td>-2.3252</td>\n",
       "</tr>\n",
       "<tr>\n",
       "  <th>class_Far</th>     <td>1.8871</td>   <td>0.3441</td>   <td>5.4850</td>  <td>0.0000</td> <td>1.2128</td>  <td>2.5615</td> \n",
       "</tr>\n",
       "<tr>\n",
       "  <th>class_High</th>    <td>1.8771</td>   <td>0.4057</td>   <td>4.6272</td>  <td>0.0000</td> <td>1.0820</td>  <td>2.6722</td> \n",
       "</tr>\n",
       "<tr>\n",
       "  <th>class_NewCust</th> <td>2.4871</td>   <td>0.3302</td>   <td>7.5313</td>  <td>0.0000</td> <td>1.8399</td>  <td>3.1344</td> \n",
       "</tr>\n",
       "</table>"
      ],
      "text/plain": [
       "<class 'statsmodels.iolib.summary2.Summary'>\n",
       "\"\"\"\n",
       "               Results: Generalized linear model\n",
       "===============================================================\n",
       "Model:              GLM              AIC:            417.7897  \n",
       "Link Function:      logit            BIC:            -4887.7382\n",
       "Dependent Variable: target           Log-Likelihood: -199.89   \n",
       "Date:               2021-10-25 11:53 LL-Null:        -542.20   \n",
       "No. Observations:   800              Deviance:       399.79    \n",
       "Df Model:           8                Pearson chi2:   581.      \n",
       "Df Residuals:       791              Scale:          1.0000    \n",
       "Method:             IRLS                                       \n",
       "---------------------------------------------------------------\n",
       "                Coef.  Std.Err.    z     P>|z|   [0.025  0.975]\n",
       "---------------------------------------------------------------\n",
       "const          -6.9945   0.5812 -12.0345 0.0000 -8.1336 -5.8554\n",
       "Salary          0.0001   0.0000   8.7903 0.0000  0.0001  0.0001\n",
       "Children       -0.8673   0.1702  -5.0946 0.0000 -1.2009 -0.5336\n",
       "Catalogs        0.2103   0.0233   9.0342 0.0000  0.1646  0.2559\n",
       "class_Middle   -2.0123   0.2894  -6.9532 0.0000 -2.5795 -1.4451\n",
       "class_Old      -2.0081   0.2949  -6.8097 0.0000 -2.5861 -1.4302\n",
       "class_Young    -2.9741   0.3311  -8.9832 0.0000 -3.6230 -2.3252\n",
       "class_Far       1.8871   0.3441   5.4850 0.0000  1.2128  2.5615\n",
       "class_High      1.8771   0.4057   4.6272 0.0000  1.0820  2.6722\n",
       "class_NewCust   2.4871   0.3302   7.5313 0.0000  1.8399  3.1344\n",
       "===============================================================\n",
       "\n",
       "\"\"\""
      ]
     },
     "execution_count": 37,
     "metadata": {},
     "output_type": "execute_result"
    }
   ],
   "source": [
    "xtrain.drop(['class_Female'], axis=1, inplace=True)\n",
    "xtest.drop(['class_Female'], axis=1, inplace=True)\n",
    "\n",
    "model6 = sm.GLM(ytrain, xtrain, family=sm.families.Binomial()).fit()\n",
    "model6.summary2()"
   ]
  },
  {
   "cell_type": "code",
   "execution_count": 38,
   "id": "6bef8031",
   "metadata": {},
   "outputs": [],
   "source": [
    "import sklearn.metrics as metrics\n",
    "from sklearn.metrics import confusion_matrix, classification_report"
   ]
  },
  {
   "cell_type": "code",
   "execution_count": 39,
   "id": "49efd12a",
   "metadata": {},
   "outputs": [],
   "source": [
    "predictions = model6.predict(xtest)"
   ]
  },
  {
   "cell_type": "code",
   "execution_count": 40,
   "id": "19a2c07b",
   "metadata": {},
   "outputs": [
    {
     "data": {
      "text/plain": [
       "521    0.002653\n",
       "737    0.041345\n",
       "740    0.019799\n",
       "660    0.000226\n",
       "411    0.253016\n",
       "dtype: float64"
      ]
     },
     "execution_count": 40,
     "metadata": {},
     "output_type": "execute_result"
    }
   ],
   "source": [
    "predictions.head()"
   ]
  },
  {
   "cell_type": "code",
   "execution_count": 41,
   "id": "44075beb",
   "metadata": {},
   "outputs": [],
   "source": [
    "threshold = 0.5\n",
    "predicted_classes = np.where(predictions>threshold, 1, 0)"
   ]
  },
  {
   "cell_type": "code",
   "execution_count": 42,
   "id": "b16c85a0",
   "metadata": {},
   "outputs": [
    {
     "data": {
      "text/plain": [
       "array([0, 0, 0, 0, 0, 0, 0, 1, 1, 0, 1, 0, 0, 1, 1, 1, 1, 0, 1, 0, 0, 1,\n",
       "       0, 0, 1, 1, 1, 1, 0, 0, 0, 0, 0, 0, 1, 0, 0, 1, 1, 0, 0, 1, 0, 0,\n",
       "       0, 0, 1, 0, 1, 1, 1, 0, 0, 0, 0, 0, 0, 0, 1, 1, 1, 0, 0, 0, 1, 0,\n",
       "       0, 0, 0, 0, 0, 0, 0, 0, 1, 0, 1, 0, 1, 1, 1, 1, 1, 1, 0, 0, 0, 0,\n",
       "       0, 0, 0, 0, 0, 0, 0, 0, 0, 0, 0, 0, 0, 1, 0, 0, 0, 0, 1, 0, 1, 1,\n",
       "       0, 0, 1, 0, 0, 0, 0, 1, 1, 0, 1, 0, 0, 0, 0, 0, 1, 0, 0, 0, 0, 1,\n",
       "       1, 0, 1, 1, 0, 1, 0, 1, 0, 0, 1, 0, 1, 0, 0, 0, 0, 0, 0, 0, 1, 1,\n",
       "       0, 1, 1, 0, 0, 0, 0, 1, 0, 1, 1, 1, 0, 1, 1, 0, 1, 0, 1, 1, 1, 1,\n",
       "       1, 0, 1, 0, 0, 0, 0, 0, 0, 0, 0, 0, 1, 1, 0, 1, 0, 0, 0, 0, 1, 0,\n",
       "       0, 0])"
      ]
     },
     "execution_count": 42,
     "metadata": {},
     "output_type": "execute_result"
    }
   ],
   "source": [
    "predicted_classes"
   ]
  },
  {
   "cell_type": "code",
   "execution_count": 43,
   "id": "4fa5e080",
   "metadata": {},
   "outputs": [],
   "source": [
    "from sklearn.metrics import accuracy_score"
   ]
  },
  {
   "cell_type": "code",
   "execution_count": 44,
   "id": "8653fc56",
   "metadata": {},
   "outputs": [
    {
     "data": {
      "text/plain": [
       "0.89"
      ]
     },
     "execution_count": 44,
     "metadata": {},
     "output_type": "execute_result"
    }
   ],
   "source": [
    "accuracy_score(ytest, predicted_classes)"
   ]
  },
  {
   "cell_type": "code",
   "execution_count": 45,
   "id": "0fe6d6b7",
   "metadata": {},
   "outputs": [
    {
     "data": {
      "text/plain": [
       "array([[119,  12],\n",
       "       [ 10,  59]], dtype=int64)"
      ]
     },
     "execution_count": 45,
     "metadata": {},
     "output_type": "execute_result"
    }
   ],
   "source": [
    "confmat = confusion_matrix(ytest, predicted_classes)\n",
    "confmat"
   ]
  },
  {
   "cell_type": "code",
   "execution_count": 46,
   "id": "db48f71c",
   "metadata": {},
   "outputs": [
    {
     "data": {
      "text/html": [
       "<div>\n",
       "<style scoped>\n",
       "    .dataframe tbody tr th:only-of-type {\n",
       "        vertical-align: middle;\n",
       "    }\n",
       "\n",
       "    .dataframe tbody tr th {\n",
       "        vertical-align: top;\n",
       "    }\n",
       "\n",
       "    .dataframe thead th {\n",
       "        text-align: right;\n",
       "    }\n",
       "</style>\n",
       "<table border=\"1\" class=\"dataframe\">\n",
       "  <thead>\n",
       "    <tr style=\"text-align: right;\">\n",
       "      <th></th>\n",
       "      <th>Predicted 0</th>\n",
       "      <th>Predicted 1</th>\n",
       "    </tr>\n",
       "  </thead>\n",
       "  <tbody>\n",
       "    <tr>\n",
       "      <th>Actual 0</th>\n",
       "      <td>119</td>\n",
       "      <td>12</td>\n",
       "    </tr>\n",
       "    <tr>\n",
       "      <th>Actual 1</th>\n",
       "      <td>10</td>\n",
       "      <td>59</td>\n",
       "    </tr>\n",
       "  </tbody>\n",
       "</table>\n",
       "</div>"
      ],
      "text/plain": [
       "          Predicted 0  Predicted 1\n",
       "Actual 0          119           12\n",
       "Actual 1           10           59"
      ]
     },
     "execution_count": 46,
     "metadata": {},
     "output_type": "execute_result"
    }
   ],
   "source": [
    "cf = pd.DataFrame(confmat, index=['Actual 0', 'Actual 1'], columns=['Predicted 0', 'Predicted 1'])\n",
    "cf"
   ]
  },
  {
   "cell_type": "code",
   "execution_count": 48,
   "id": "484c5b0f",
   "metadata": {},
   "outputs": [
    {
     "name": "stdout",
     "output_type": "stream",
     "text": [
      "              precision    recall  f1-score   support\n",
      "\n",
      "           0       0.92      0.91      0.92       131\n",
      "           1       0.83      0.86      0.84        69\n",
      "\n",
      "    accuracy                           0.89       200\n",
      "   macro avg       0.88      0.88      0.88       200\n",
      "weighted avg       0.89      0.89      0.89       200\n",
      "\n"
     ]
    }
   ],
   "source": [
    "print(classification_report(ytest, predicted_classes))"
   ]
  },
  {
   "cell_type": "code",
   "execution_count": 49,
   "id": "c6b99059",
   "metadata": {},
   "outputs": [],
   "source": [
    "from sklearn.metrics import roc_curve, roc_auc_score"
   ]
  },
  {
   "cell_type": "code",
   "execution_count": 50,
   "id": "6dd47ace",
   "metadata": {},
   "outputs": [
    {
     "data": {
      "text/plain": [
       "0.9587343732713796"
      ]
     },
     "execution_count": 50,
     "metadata": {},
     "output_type": "execute_result"
    }
   ],
   "source": [
    "auc = roc_auc_score(ytest, predictions)\n",
    "auc"
   ]
  },
  {
   "cell_type": "code",
   "execution_count": 51,
   "id": "a5afac57",
   "metadata": {},
   "outputs": [],
   "source": [
    "fpr, tpr, threshold = roc_curve(ytest, predictions)"
   ]
  },
  {
   "cell_type": "code",
   "execution_count": 52,
   "id": "7e163a9f",
   "metadata": {},
   "outputs": [
    {
     "data": {
      "text/plain": [
       "array([0.        , 0.        , 0.        , 0.00763359, 0.00763359,\n",
       "       0.02290076, 0.02290076, 0.03053435, 0.03053435, 0.03816794,\n",
       "       0.03816794, 0.05343511, 0.05343511, 0.0610687 , 0.0610687 ,\n",
       "       0.07633588, 0.07633588, 0.08396947, 0.08396947, 0.09160305,\n",
       "       0.09160305, 0.11450382, 0.11450382, 0.15267176, 0.15267176,\n",
       "       0.16030534, 0.16030534, 0.18320611, 0.18320611, 0.22900763,\n",
       "       0.22900763, 0.28244275, 0.28244275, 0.36641221, 0.36641221,\n",
       "       0.47328244, 0.47328244, 1.        ])"
      ]
     },
     "execution_count": 52,
     "metadata": {},
     "output_type": "execute_result"
    }
   ],
   "source": [
    "fpr"
   ]
  },
  {
   "cell_type": "code",
   "execution_count": 53,
   "id": "049d26f6",
   "metadata": {},
   "outputs": [
    {
     "data": {
      "text/plain": [
       "array([0.        , 0.01449275, 0.50724638, 0.50724638, 0.63768116,\n",
       "       0.63768116, 0.69565217, 0.69565217, 0.76811594, 0.76811594,\n",
       "       0.7826087 , 0.7826087 , 0.8115942 , 0.8115942 , 0.82608696,\n",
       "       0.82608696, 0.84057971, 0.84057971, 0.85507246, 0.85507246,\n",
       "       0.86956522, 0.86956522, 0.89855072, 0.89855072, 0.91304348,\n",
       "       0.91304348, 0.92753623, 0.92753623, 0.94202899, 0.94202899,\n",
       "       0.95652174, 0.95652174, 0.97101449, 0.97101449, 0.98550725,\n",
       "       0.98550725, 1.        , 1.        ])"
      ]
     },
     "execution_count": 53,
     "metadata": {},
     "output_type": "execute_result"
    }
   ],
   "source": [
    "tpr"
   ]
  },
  {
   "cell_type": "code",
   "execution_count": 54,
   "id": "c571c37d",
   "metadata": {},
   "outputs": [
    {
     "data": {
      "text/plain": [
       "array([1.99991424e+00, 9.99914243e-01, 9.44236257e-01, 9.41703826e-01,\n",
       "       8.94482933e-01, 8.69065757e-01, 8.45099029e-01, 8.36840135e-01,\n",
       "       7.96489826e-01, 7.96000602e-01, 7.80284298e-01, 7.10934301e-01,\n",
       "       6.85995097e-01, 6.81387539e-01, 6.60705657e-01, 6.06387742e-01,\n",
       "       5.98318377e-01, 5.79919915e-01, 5.26267796e-01, 5.05470757e-01,\n",
       "       4.77372292e-01, 4.60893690e-01, 4.43023265e-01, 3.77449599e-01,\n",
       "       3.66703246e-01, 3.29050701e-01, 3.10105675e-01, 2.74759386e-01,\n",
       "       2.61493160e-01, 2.09374641e-01, 2.09177618e-01, 1.62016411e-01,\n",
       "       1.61027208e-01, 8.29807984e-02, 8.12487592e-02, 4.21481984e-02,\n",
       "       4.15875564e-02, 1.11178269e-04])"
      ]
     },
     "execution_count": 54,
     "metadata": {},
     "output_type": "execute_result"
    }
   ],
   "source": [
    "threshold"
   ]
  },
  {
   "cell_type": "code",
   "execution_count": 56,
   "id": "5040a82a",
   "metadata": {},
   "outputs": [
    {
     "data": {
      "text/plain": [
       "Text(0.5, 1.0, 'Receiver Operating Characteristic (ROC)')"
      ]
     },
     "execution_count": 56,
     "metadata": {},
     "output_type": "execute_result"
    },
    {
     "data": {
      "image/png": "[encoded data removed]",
      "text/plain": [
       "<Figure size 432x288 with 1 Axes>"
      ]
     },
     "metadata": {
      "needs_background": "light"
     },
     "output_type": "display_data"
    }
   ],
   "source": [
    "plt.plot(fpr, tpr, 'b', label = 'AUC = %0.2f' % auc)\n",
    "plt.plot([0,1],[0,1],'r--')\n",
    "plt.xlim([0,1])\n",
    "plt.ylim([0,1])\n",
    "plt.legend(loc='lower right')\n",
    "plt.ylabel('True Positive Rate')\n",
    "plt.xlabel('False Positive Rate')\n",
    "plt.title('Receiver Operating Characteristic (ROC)')"
   ]
  },
  {
   "cell_type": "code",
   "execution_count": 58,
   "id": "9a10ab73",
   "metadata": {},
   "outputs": [
    {
     "data": {
      "text/plain": [
       "0.44302326482928883"
      ]
     },
     "execution_count": 58,
     "metadata": {},
     "output_type": "execute_result"
    }
   ],
   "source": [
    "optimal_idx = np.argmax(tpr - fpr)\n",
    "optimal_threshold = threshold[optimal_idx]\n",
    "optimal_threshold"
   ]
  },
  {
   "cell_type": "code",
   "execution_count": 59,
   "id": "6882c186",
   "metadata": {},
   "outputs": [],
   "source": [
    "predicted_classes = np.where(predictions>optimal_threshold, 1, 0)"
   ]
  },
  {
   "cell_type": "code",
   "execution_count": 60,
   "id": "d9f36999",
   "metadata": {},
   "outputs": [
    {
     "data": {
      "text/plain": [
       "0.885"
      ]
     },
     "execution_count": 60,
     "metadata": {},
     "output_type": "execute_result"
    }
   ],
   "source": [
    "accuracy_score(ytest, predicted_classes)"
   ]
  },
  {
   "cell_type": "code",
   "execution_count": 61,
   "id": "c5fa60f4",
   "metadata": {},
   "outputs": [
    {
     "data": {
      "text/html": [
       "<div>\n",
       "<style scoped>\n",
       "    .dataframe tbody tr th:only-of-type {\n",
       "        vertical-align: middle;\n",
       "    }\n",
       "\n",
       "    .dataframe tbody tr th {\n",
       "        vertical-align: top;\n",
       "    }\n",
       "\n",
       "    .dataframe thead th {\n",
       "        text-align: right;\n",
       "    }\n",
       "</style>\n",
       "<table border=\"1\" class=\"dataframe\">\n",
       "  <thead>\n",
       "    <tr style=\"text-align: right;\">\n",
       "      <th></th>\n",
       "      <th>Predicted 0</th>\n",
       "      <th>Predicted 1</th>\n",
       "    </tr>\n",
       "  </thead>\n",
       "  <tbody>\n",
       "    <tr>\n",
       "      <th>Actual 0</th>\n",
       "      <td>116</td>\n",
       "      <td>15</td>\n",
       "    </tr>\n",
       "    <tr>\n",
       "      <th>Actual 1</th>\n",
       "      <td>8</td>\n",
       "      <td>61</td>\n",
       "    </tr>\n",
       "  </tbody>\n",
       "</table>\n",
       "</div>"
      ],
      "text/plain": [
       "          Predicted 0  Predicted 1\n",
       "Actual 0          116           15\n",
       "Actual 1            8           61"
      ]
     },
     "execution_count": 61,
     "metadata": {},
     "output_type": "execute_result"
    }
   ],
   "source": [
    "confmat = confusion_matrix(ytest, predicted_classes)\n",
    "cf = pd.DataFrame(confmat, index=['Actual 0', 'Actual 1'], columns=['Predicted 0', 'Predicted 1'])\n",
    "cf"
   ]
  },
  {
   "cell_type": "code",
   "execution_count": 62,
   "id": "e6a0bd40",
   "metadata": {},
   "outputs": [
    {
     "name": "stdout",
     "output_type": "stream",
     "text": [
      "              precision    recall  f1-score   support\n",
      "\n",
      "           0       0.94      0.89      0.91       131\n",
      "           1       0.80      0.88      0.84        69\n",
      "\n",
      "    accuracy                           0.89       200\n",
      "   macro avg       0.87      0.88      0.88       200\n",
      "weighted avg       0.89      0.89      0.89       200\n",
      "\n"
     ]
    }
   ],
   "source": [
    "print(classification_report(ytest, predicted_classes))"
   ]
  },
  {
   "cell_type": "code",
   "execution_count": null,
   "id": "440f8b97",
   "metadata": {},
   "outputs": [],
   "source": []
  },
  {
   "cell_type": "code",
   "execution_count": 64,
   "id": "786ca1f5",
   "metadata": {},
   "outputs": [],
   "source": [
    "from sklearn.linear_model import LogisticRegression"
   ]
  },
  {
   "cell_type": "code",
   "execution_count": 80,
   "id": "65a18f83",
   "metadata": {},
   "outputs": [],
   "source": [
    "xtrain, xtest, ytrain, ytest = train_test_split(data.drop('target',axis=1), data['target'], test_size=0.2, random_state=42)"
   ]
  },
  {
   "cell_type": "code",
   "execution_count": 81,
   "id": "c6ef442d",
   "metadata": {},
   "outputs": [],
   "source": [
    "xtrain.drop(['class_Medium','class_Low','class_Married','class_Rent','class_Female'], axis=1, inplace=True)\n",
    "xtest.drop(['class_Medium','class_Low','class_Married','class_Rent','class_Female'], axis=1, inplace=True)"
   ]
  },
  {
   "cell_type": "code",
   "execution_count": 82,
   "id": "fa20e64a",
   "metadata": {},
   "outputs": [],
   "source": [
    "logreg_model = LogisticRegression().fit(xtrain, ytrain)"
   ]
  },
  {
   "cell_type": "code",
   "execution_count": 83,
   "id": "e341a295",
   "metadata": {},
   "outputs": [],
   "source": [
    "logreg_pred_classes = logreg_model.predict(xtest)"
   ]
  },
  {
   "cell_type": "code",
   "execution_count": 84,
   "id": "ca108d3a",
   "metadata": {},
   "outputs": [
    {
     "data": {
      "text/plain": [
       "array([1, 0, 0, 0, 0, 0, 0, 1, 1, 0, 1, 0, 1, 1, 0, 1, 1, 0, 1, 0, 1, 1,\n",
       "       0, 0, 1, 1, 1, 1, 0, 0, 0, 0, 1, 1, 0, 0, 1, 1, 1, 0, 0, 0, 1, 1,\n",
       "       0, 1, 1, 0, 0, 1, 1, 0, 0, 0, 0, 1, 0, 0, 1, 0, 0, 1, 0, 0, 1, 1,\n",
       "       0, 0, 0, 0, 0, 0, 1, 0, 1, 0, 1, 0, 1, 0, 0, 1, 1, 0, 0, 0, 0, 0,\n",
       "       1, 0, 1, 0, 0, 0, 1, 0, 0, 1, 0, 0, 0, 1, 1, 0, 0, 0, 1, 0, 1, 1,\n",
       "       0, 1, 1, 0, 0, 1, 1, 0, 0, 0, 1, 0, 1, 0, 1, 0, 1, 0, 0, 0, 1, 0,\n",
       "       1, 0, 1, 1, 0, 1, 0, 1, 0, 0, 1, 1, 1, 0, 1, 1, 0, 0, 0, 0, 1, 1,\n",
       "       0, 1, 1, 0, 0, 0, 0, 1, 0, 1, 1, 0, 1, 1, 1, 0, 1, 0, 1, 1, 1, 1,\n",
       "       1, 0, 1, 0, 0, 0, 0, 1, 1, 0, 0, 0, 1, 1, 0, 1, 0, 0, 0, 0, 1, 1,\n",
       "       1, 0], dtype=int64)"
      ]
     },
     "execution_count": 84,
     "metadata": {},
     "output_type": "execute_result"
    }
   ],
   "source": [
    "logreg_pred_classes"
   ]
  },
  {
   "cell_type": "code",
   "execution_count": 85,
   "id": "4846bd2b",
   "metadata": {},
   "outputs": [],
   "source": [
    "logreg_pred = logreg_model.predict_proba(xtest)"
   ]
  },
  {
   "cell_type": "code",
   "execution_count": 77,
   "id": "3fd686af",
   "metadata": {
    "scrolled": true
   },
   "outputs": [
    {
     "data": {
      "text/plain": [
       "array([[0.48716999, 0.51283001],\n",
       "       [0.72489328, 0.27510672],\n",
       "       [0.67564502, 0.32435498],\n",
       "       [0.63000568, 0.36999432],\n",
       "       [0.41860392, 0.58139608],\n",
       "       [0.75301255, 0.24698745],\n",
       "       [0.69672416, 0.30327584],\n",
       "       [0.58110614, 0.41889386],\n",
       "       [0.44892124, 0.55107876],\n",
       "       [0.5116837 , 0.4883163 ],\n",
       "       [0.34114445, 0.65885555],\n",
       "       [0.43690141, 0.56309859],\n",
       "       [0.365489  , 0.634511  ],\n",
       "       [0.51354331, 0.48645669],\n",
       "       [0.53421074, 0.46578926],\n",
       "       [0.42799686, 0.57200314],\n",
       "       [0.52559365, 0.47440635],\n",
       "       [0.27499913, 0.72500087],\n",
       "       [0.23735465, 0.76264535],\n",
       "       [0.48907598, 0.51092402],\n",
       "       [0.37831328, 0.62168672],\n",
       "       [0.33871007, 0.66128993],\n",
       "       [0.54454297, 0.45545703],\n",
       "       [0.67141456, 0.32858544],\n",
       "       [0.58862046, 0.41137954],\n",
       "       [0.54192218, 0.45807782],\n",
       "       [0.57339099, 0.42660901],\n",
       "       [0.5615932 , 0.4384068 ],\n",
       "       [0.53535983, 0.46464017],\n",
       "       [0.56806131, 0.43193869],\n",
       "       [0.38437042, 0.61562958],\n",
       "       [0.59348349, 0.40651651],\n",
       "       [0.58950408, 0.41049592],\n",
       "       [0.54640368, 0.45359632],\n",
       "       [0.25851866, 0.74148134],\n",
       "       [0.52542669, 0.47457331],\n",
       "       [0.52450728, 0.47549272],\n",
       "       [0.60425291, 0.39574709],\n",
       "       [0.31116461, 0.68883539],\n",
       "       [0.45030914, 0.54969086],\n",
       "       [0.32480829, 0.67519171],\n",
       "       [0.39160394, 0.60839606],\n",
       "       [0.61517853, 0.38482147],\n",
       "       [0.4051325 , 0.5948675 ],\n",
       "       [0.39275615, 0.60724385],\n",
       "       [0.39322108, 0.60677892],\n",
       "       [0.36868119, 0.63131881],\n",
       "       [0.59315228, 0.40684772],\n",
       "       [0.61880628, 0.38119372],\n",
       "       [0.44811091, 0.55188909],\n",
       "       [0.59876312, 0.40123688],\n",
       "       [0.71160924, 0.28839076],\n",
       "       [0.62587555, 0.37412445],\n",
       "       [0.39568919, 0.60431081],\n",
       "       [0.49433306, 0.50566694],\n",
       "       [0.50569574, 0.49430426],\n",
       "       [0.35029871, 0.64970129],\n",
       "       [0.49296244, 0.50703756],\n",
       "       [0.3473633 , 0.6526367 ],\n",
       "       [0.29999269, 0.70000731],\n",
       "       [0.50348619, 0.49651381],\n",
       "       [0.63211836, 0.36788164],\n",
       "       [0.66850146, 0.33149854],\n",
       "       [0.49640038, 0.50359962],\n",
       "       [0.47200979, 0.52799021],\n",
       "       [0.61809668, 0.38190332],\n",
       "       [0.63888285, 0.36111715],\n",
       "       [0.23328429, 0.76671571],\n",
       "       [0.60231859, 0.39768141],\n",
       "       [0.61229904, 0.38770096],\n",
       "       [0.62820869, 0.37179131],\n",
       "       [0.66838239, 0.33161761],\n",
       "       [0.3022883 , 0.6977117 ],\n",
       "       [0.47843483, 0.52156517],\n",
       "       [0.59478312, 0.40521688],\n",
       "       [0.53499768, 0.46500232],\n",
       "       [0.45742204, 0.54257796],\n",
       "       [0.72472133, 0.27527867],\n",
       "       [0.47997205, 0.52002795],\n",
       "       [0.15294828, 0.84705172],\n",
       "       [0.42091713, 0.57908287],\n",
       "       [0.52626414, 0.47373586],\n",
       "       [0.40423122, 0.59576878],\n",
       "       [0.74662394, 0.25337606],\n",
       "       [0.36785077, 0.63214923],\n",
       "       [0.6085103 , 0.3914897 ],\n",
       "       [0.4309218 , 0.5690782 ],\n",
       "       [0.54322881, 0.45677119],\n",
       "       [0.53042506, 0.46957494],\n",
       "       [0.502178  , 0.497822  ],\n",
       "       [0.50405118, 0.49594882],\n",
       "       [0.51553861, 0.48446139],\n",
       "       [0.40783755, 0.59216245],\n",
       "       [0.41887686, 0.58112314],\n",
       "       [0.50833806, 0.49166194],\n",
       "       [0.47638596, 0.52361404],\n",
       "       [0.4489983 , 0.5510017 ],\n",
       "       [0.42842774, 0.57157226],\n",
       "       [0.74009831, 0.25990169],\n",
       "       [0.48811576, 0.51188424],\n",
       "       [0.58953201, 0.41046799],\n",
       "       [0.4252942 , 0.5747058 ],\n",
       "       [0.63606566, 0.36393434],\n",
       "       [0.73029612, 0.26970388],\n",
       "       [0.40990062, 0.59009938],\n",
       "       [0.36844046, 0.63155954],\n",
       "       [0.28781906, 0.71218094],\n",
       "       [0.59211432, 0.40788568],\n",
       "       [0.40234038, 0.59765962],\n",
       "       [0.50396722, 0.49603278],\n",
       "       [0.71163596, 0.28836404],\n",
       "       [0.54860489, 0.45139511],\n",
       "       [0.36047816, 0.63952184],\n",
       "       [0.54187198, 0.45812802],\n",
       "       [0.4763841 , 0.5236159 ],\n",
       "       [0.52104387, 0.47895613],\n",
       "       [0.40397547, 0.59602453],\n",
       "       [0.2453115 , 0.7546885 ],\n",
       "       [0.17312535, 0.82687465],\n",
       "       [0.50330546, 0.49669454],\n",
       "       [0.36518182, 0.63481818],\n",
       "       [0.48648517, 0.51351483],\n",
       "       [0.41527848, 0.58472152],\n",
       "       [0.67461484, 0.32538516],\n",
       "       [0.67829433, 0.32170567],\n",
       "       [0.61811865, 0.38188135],\n",
       "       [0.36269774, 0.63730226],\n",
       "       [0.60753491, 0.39246509],\n",
       "       [0.39126418, 0.60873582],\n",
       "       [0.56417098, 0.43582902],\n",
       "       [0.45816852, 0.54183148],\n",
       "       [0.72549578, 0.27450422],\n",
       "       [0.28548087, 0.71451913],\n",
       "       [0.66460297, 0.33539703],\n",
       "       [0.53035728, 0.46964272],\n",
       "       [0.53746476, 0.46253524],\n",
       "       [0.75123491, 0.24876509],\n",
       "       [0.41617854, 0.58382146],\n",
       "       [0.3859381 , 0.6140619 ],\n",
       "       [0.30611595, 0.69388405],\n",
       "       [0.46813683, 0.53186317],\n",
       "       [0.53588455, 0.46411545],\n",
       "       [0.45638675, 0.54361325],\n",
       "       [0.26082233, 0.73917767],\n",
       "       [0.46482725, 0.53517275],\n",
       "       [0.21366384, 0.78633616],\n",
       "       [0.70085008, 0.29914992],\n",
       "       [0.42777584, 0.57222416],\n",
       "       [0.37292727, 0.62707273],\n",
       "       [0.29784077, 0.70215923],\n",
       "       [0.35990541, 0.64009459],\n",
       "       [0.54533703, 0.45466297],\n",
       "       [0.48072449, 0.51927551],\n",
       "       [0.36932529, 0.63067471],\n",
       "       [0.28062519, 0.71937481],\n",
       "       [0.24736271, 0.75263729],\n",
       "       [0.22458121, 0.77541879],\n",
       "       [0.46012025, 0.53987975],\n",
       "       [0.41839834, 0.58160166],\n",
       "       [0.57557804, 0.42442196],\n",
       "       [0.29422694, 0.70577306],\n",
       "       [0.40745901, 0.59254099],\n",
       "       [0.33754678, 0.66245322],\n",
       "       [0.36386489, 0.63613511],\n",
       "       [0.22774357, 0.77225643],\n",
       "       [0.4016109 , 0.5983891 ],\n",
       "       [0.60247287, 0.39752713],\n",
       "       [0.34901086, 0.65098914],\n",
       "       [0.4445    , 0.5555    ],\n",
       "       [0.64574963, 0.35425037],\n",
       "       [0.40389227, 0.59610773],\n",
       "       [0.45214038, 0.54785962],\n",
       "       [0.43549489, 0.56450511],\n",
       "       [0.33543686, 0.66456314],\n",
       "       [0.49189588, 0.50810412],\n",
       "       [0.32653078, 0.67346922],\n",
       "       [0.47511373, 0.52488627],\n",
       "       [0.48535445, 0.51464555],\n",
       "       [0.28875024, 0.71124976],\n",
       "       [0.65909489, 0.34090511],\n",
       "       [0.57063694, 0.42936306],\n",
       "       [0.3481801 , 0.6518199 ],\n",
       "       [0.5886939 , 0.4113061 ],\n",
       "       [0.573916  , 0.426084  ],\n",
       "       [0.465331  , 0.534669  ],\n",
       "       [0.46042227, 0.53957773],\n",
       "       [0.65944128, 0.34055872],\n",
       "       [0.55867576, 0.44132424],\n",
       "       [0.53274554, 0.46725446],\n",
       "       [0.49954588, 0.50045412],\n",
       "       [0.57331658, 0.42668342],\n",
       "       [0.24115892, 0.75884108],\n",
       "       [0.5972935 , 0.4027065 ],\n",
       "       [0.53858055, 0.46141945],\n",
       "       [0.72718515, 0.27281485],\n",
       "       [0.49251033, 0.50748967],\n",
       "       [0.57493872, 0.42506128],\n",
       "       [0.51975927, 0.48024073],\n",
       "       [0.50801017, 0.49198983],\n",
       "       [0.49303369, 0.50696631]])"
      ]
     },
     "execution_count": 77,
     "metadata": {},
     "output_type": "execute_result"
    }
   ],
   "source": [
    "logreg_pred"
   ]
  },
  {
   "cell_type": "code",
   "execution_count": 86,
   "id": "051d65d8",
   "metadata": {},
   "outputs": [
    {
     "data": {
      "text/plain": [
       "0.775"
      ]
     },
     "execution_count": 86,
     "metadata": {},
     "output_type": "execute_result"
    }
   ],
   "source": [
    "accuracy_score(ytest, logreg_pred_classes)"
   ]
  },
  {
   "cell_type": "code",
   "execution_count": 87,
   "id": "d1799d39",
   "metadata": {},
   "outputs": [],
   "source": [
    "## Different dataset"
   ]
  },
  {
   "cell_type": "code",
   "execution_count": 90,
   "id": "6562b18b",
   "metadata": {},
   "outputs": [],
   "source": [
    "review = pd.read_table('movie_reviews.tsv', sep='\\t')"
   ]
  },
  {
   "cell_type": "code",
   "execution_count": 91,
   "id": "3e200b5a",
   "metadata": {},
   "outputs": [
    {
     "data": {
      "text/html": [
       "<div>\n",
       "<style scoped>\n",
       "    .dataframe tbody tr th:only-of-type {\n",
       "        vertical-align: middle;\n",
       "    }\n",
       "\n",
       "    .dataframe tbody tr th {\n",
       "        vertical-align: top;\n",
       "    }\n",
       "\n",
       "    .dataframe thead th {\n",
       "        text-align: right;\n",
       "    }\n",
       "</style>\n",
       "<table border=\"1\" class=\"dataframe\">\n",
       "  <thead>\n",
       "    <tr style=\"text-align: right;\">\n",
       "      <th></th>\n",
       "      <th>id</th>\n",
       "      <th>sentiment</th>\n",
       "      <th>review</th>\n",
       "    </tr>\n",
       "  </thead>\n",
       "  <tbody>\n",
       "    <tr>\n",
       "      <th>0</th>\n",
       "      <td>5814_8</td>\n",
       "      <td>1</td>\n",
       "      <td>With all this stuff going down at the moment w...</td>\n",
       "    </tr>\n",
       "    <tr>\n",
       "      <th>1</th>\n",
       "      <td>2381_9</td>\n",
       "      <td>1</td>\n",
       "      <td>\\The Classic War of the Worlds\\\" by Timothy Hi...</td>\n",
       "    </tr>\n",
       "    <tr>\n",
       "      <th>2</th>\n",
       "      <td>7759_3</td>\n",
       "      <td>0</td>\n",
       "      <td>The film starts with a manager (Nicholas Bell)...</td>\n",
       "    </tr>\n",
       "    <tr>\n",
       "      <th>3</th>\n",
       "      <td>3630_4</td>\n",
       "      <td>0</td>\n",
       "      <td>It must be assumed that those who praised this...</td>\n",
       "    </tr>\n",
       "    <tr>\n",
       "      <th>4</th>\n",
       "      <td>9495_8</td>\n",
       "      <td>1</td>\n",
       "      <td>Superbly trashy and wondrously unpretentious 8...</td>\n",
       "    </tr>\n",
       "  </tbody>\n",
       "</table>\n",
       "</div>"
      ],
      "text/plain": [
       "       id  sentiment                                             review\n",
       "0  5814_8          1  With all this stuff going down at the moment w...\n",
       "1  2381_9          1  \\The Classic War of the Worlds\\\" by Timothy Hi...\n",
       "2  7759_3          0  The film starts with a manager (Nicholas Bell)...\n",
       "3  3630_4          0  It must be assumed that those who praised this...\n",
       "4  9495_8          1  Superbly trashy and wondrously unpretentious 8..."
      ]
     },
     "execution_count": 91,
     "metadata": {},
     "output_type": "execute_result"
    }
   ],
   "source": [
    "review.head()"
   ]
  },
  {
   "cell_type": "code",
   "execution_count": 92,
   "id": "139ab191",
   "metadata": {},
   "outputs": [
    {
     "data": {
      "text/plain": [
       "id           0\n",
       "sentiment    0\n",
       "review       0\n",
       "dtype: int64"
      ]
     },
     "execution_count": 92,
     "metadata": {},
     "output_type": "execute_result"
    }
   ],
   "source": [
    "review.isnull().sum()"
   ]
  },
  {
   "cell_type": "code",
   "execution_count": 93,
   "id": "96f597c3",
   "metadata": {},
   "outputs": [],
   "source": [
    "review.drop(['id'], axis=1, inplace=True)"
   ]
  },
  {
   "cell_type": "code",
   "execution_count": 94,
   "id": "2d2374ba",
   "metadata": {},
   "outputs": [
    {
     "data": {
      "text/html": [
       "<div>\n",
       "<style scoped>\n",
       "    .dataframe tbody tr th:only-of-type {\n",
       "        vertical-align: middle;\n",
       "    }\n",
       "\n",
       "    .dataframe tbody tr th {\n",
       "        vertical-align: top;\n",
       "    }\n",
       "\n",
       "    .dataframe thead th {\n",
       "        text-align: right;\n",
       "    }\n",
       "</style>\n",
       "<table border=\"1\" class=\"dataframe\">\n",
       "  <thead>\n",
       "    <tr style=\"text-align: right;\">\n",
       "      <th></th>\n",
       "      <th>sentiment</th>\n",
       "      <th>review</th>\n",
       "    </tr>\n",
       "  </thead>\n",
       "  <tbody>\n",
       "    <tr>\n",
       "      <th>0</th>\n",
       "      <td>1</td>\n",
       "      <td>With all this stuff going down at the moment w...</td>\n",
       "    </tr>\n",
       "    <tr>\n",
       "      <th>1</th>\n",
       "      <td>1</td>\n",
       "      <td>\\The Classic War of the Worlds\\\" by Timothy Hi...</td>\n",
       "    </tr>\n",
       "    <tr>\n",
       "      <th>2</th>\n",
       "      <td>0</td>\n",
       "      <td>The film starts with a manager (Nicholas Bell)...</td>\n",
       "    </tr>\n",
       "    <tr>\n",
       "      <th>3</th>\n",
       "      <td>0</td>\n",
       "      <td>It must be assumed that those who praised this...</td>\n",
       "    </tr>\n",
       "    <tr>\n",
       "      <th>4</th>\n",
       "      <td>1</td>\n",
       "      <td>Superbly trashy and wondrously unpretentious 8...</td>\n",
       "    </tr>\n",
       "  </tbody>\n",
       "</table>\n",
       "</div>"
      ],
      "text/plain": [
       "   sentiment                                             review\n",
       "0          1  With all this stuff going down at the moment w...\n",
       "1          1  \\The Classic War of the Worlds\\\" by Timothy Hi...\n",
       "2          0  The film starts with a manager (Nicholas Bell)...\n",
       "3          0  It must be assumed that those who praised this...\n",
       "4          1  Superbly trashy and wondrously unpretentious 8..."
      ]
     },
     "execution_count": 94,
     "metadata": {},
     "output_type": "execute_result"
    }
   ],
   "source": [
    "review.head()"
   ]
  },
  {
   "cell_type": "code",
   "execution_count": 98,
   "id": "73ef8ca0",
   "metadata": {},
   "outputs": [
    {
     "data": {
      "text/plain": [
       "count    25000.00000\n",
       "mean         0.50000\n",
       "std          0.50001\n",
       "min          0.00000\n",
       "25%          0.00000\n",
       "50%          0.50000\n",
       "75%          1.00000\n",
       "max          1.00000\n",
       "Name: sentiment, dtype: float64"
      ]
     },
     "execution_count": 98,
     "metadata": {},
     "output_type": "execute_result"
    }
   ],
   "source": [
    "review['sentiment'].describe()"
   ]
  },
  {
   "cell_type": "code",
   "execution_count": null,
   "id": "44cbec6b",
   "metadata": {},
   "outputs": [],
   "source": [
    "#demo of creating text features"
   ]
  },
  {
   "cell_type": "code",
   "execution_count": 99,
   "id": "3f7d38b9",
   "metadata": {},
   "outputs": [
    {
     "data": {
      "text/plain": [
       "['This is sentence one',\n",
       " 'This is sentence two',\n",
       " 'This is a very very long sentence three']"
      ]
     },
     "execution_count": 99,
     "metadata": {},
     "output_type": "execute_result"
    }
   ],
   "source": [
    "demo_text = ['This is sentence one',\n",
    "            'This is sentence two',\n",
    "            'This is a very very long sentence three']\n",
    "demo_text"
   ]
  },
  {
   "cell_type": "code",
   "execution_count": 100,
   "id": "a4e2c626",
   "metadata": {},
   "outputs": [],
   "source": [
    "import sklearn.feature_extraction.text as text"
   ]
  },
  {
   "cell_type": "code",
   "execution_count": 101,
   "id": "22f4318f",
   "metadata": {},
   "outputs": [
    {
     "data": {
      "text/plain": [
       "<3x8 sparse matrix of type '<class 'numpy.int64'>'\n",
       "\twith 14 stored elements in Compressed Sparse Row format>"
      ]
     },
     "execution_count": 101,
     "metadata": {},
     "output_type": "execute_result"
    }
   ],
   "source": [
    "cv = text.CountVectorizer()\n",
    "count_matrix = cv.fit_transform(demo_text)\n",
    "count_matrix"
   ]
  },
  {
   "cell_type": "code",
   "execution_count": 102,
   "id": "da7275f0",
   "metadata": {},
   "outputs": [
    {
     "data": {
      "text/plain": [
       "['is', 'long', 'one', 'sentence', 'this', 'three', 'two', 'very']"
      ]
     },
     "execution_count": 102,
     "metadata": {},
     "output_type": "execute_result"
    }
   ],
   "source": [
    "cv.get_feature_names()"
   ]
  },
  {
   "cell_type": "code",
   "execution_count": 103,
   "id": "8458f732",
   "metadata": {},
   "outputs": [
    {
     "data": {
      "text/plain": [
       "array([[1, 0, 1, 1, 1, 0, 0, 0],\n",
       "       [1, 0, 0, 1, 1, 0, 1, 0],\n",
       "       [1, 1, 0, 1, 1, 1, 0, 2]], dtype=int64)"
      ]
     },
     "execution_count": 103,
     "metadata": {},
     "output_type": "execute_result"
    }
   ],
   "source": [
    "count_matrix.toarray()"
   ]
  },
  {
   "cell_type": "code",
   "execution_count": 104,
   "id": "0ba94d92",
   "metadata": {},
   "outputs": [
    {
     "data": {
      "text/html": [
       "<div>\n",
       "<style scoped>\n",
       "    .dataframe tbody tr th:only-of-type {\n",
       "        vertical-align: middle;\n",
       "    }\n",
       "\n",
       "    .dataframe tbody tr th {\n",
       "        vertical-align: top;\n",
       "    }\n",
       "\n",
       "    .dataframe thead th {\n",
       "        text-align: right;\n",
       "    }\n",
       "</style>\n",
       "<table border=\"1\" class=\"dataframe\">\n",
       "  <thead>\n",
       "    <tr style=\"text-align: right;\">\n",
       "      <th></th>\n",
       "      <th>is</th>\n",
       "      <th>long</th>\n",
       "      <th>one</th>\n",
       "      <th>sentence</th>\n",
       "      <th>this</th>\n",
       "      <th>three</th>\n",
       "      <th>two</th>\n",
       "      <th>very</th>\n",
       "    </tr>\n",
       "  </thead>\n",
       "  <tbody>\n",
       "    <tr>\n",
       "      <th>0</th>\n",
       "      <td>1</td>\n",
       "      <td>0</td>\n",
       "      <td>1</td>\n",
       "      <td>1</td>\n",
       "      <td>1</td>\n",
       "      <td>0</td>\n",
       "      <td>0</td>\n",
       "      <td>0</td>\n",
       "    </tr>\n",
       "    <tr>\n",
       "      <th>1</th>\n",
       "      <td>1</td>\n",
       "      <td>0</td>\n",
       "      <td>0</td>\n",
       "      <td>1</td>\n",
       "      <td>1</td>\n",
       "      <td>0</td>\n",
       "      <td>1</td>\n",
       "      <td>0</td>\n",
       "    </tr>\n",
       "    <tr>\n",
       "      <th>2</th>\n",
       "      <td>1</td>\n",
       "      <td>1</td>\n",
       "      <td>0</td>\n",
       "      <td>1</td>\n",
       "      <td>1</td>\n",
       "      <td>1</td>\n",
       "      <td>0</td>\n",
       "      <td>2</td>\n",
       "    </tr>\n",
       "  </tbody>\n",
       "</table>\n",
       "</div>"
      ],
      "text/plain": [
       "   is  long  one  sentence  this  three  two  very\n",
       "0   1     0    1         1     1      0    0     0\n",
       "1   1     0    0         1     1      0    1     0\n",
       "2   1     1    0         1     1      1    0     2"
      ]
     },
     "execution_count": 104,
     "metadata": {},
     "output_type": "execute_result"
    }
   ],
   "source": [
    "pd.DataFrame(count_matrix.toarray(), columns=cv.get_feature_names())"
   ]
  },
  {
   "cell_type": "code",
   "execution_count": 106,
   "id": "9c840c1e",
   "metadata": {},
   "outputs": [
    {
     "data": {
      "text/plain": [
       "(25000, 2)"
      ]
     },
     "execution_count": 106,
     "metadata": {},
     "output_type": "execute_result"
    }
   ],
   "source": [
    "review.shape"
   ]
  },
  {
   "cell_type": "code",
   "execution_count": 153,
   "id": "c69edffb",
   "metadata": {},
   "outputs": [
    {
     "name": "stderr",
     "output_type": "stream",
     "text": [
      "IOPub data rate exceeded.\n",
      "The notebook server will temporarily stop sending output\n",
      "to the client in order to avoid crashing it.\n",
      "To change this limit, set the config variable\n",
      "`--NotebookApp.iopub_data_rate_limit`.\n",
      "\n",
      "Current values:\n",
      "NotebookApp.iopub_data_rate_limit=1000000.0 (bytes/sec)\n",
      "NotebookApp.rate_limit_window=3.0 (secs)\n",
      "\n"
     ]
    },
    {
     "data": {
      "text/plain": [
       "(25000, 5000)"
      ]
     },
     "execution_count": 153,
     "metadata": {},
     "output_type": "execute_result"
    }
   ],
   "source": [
    "cv = text.CountVectorizer(review['review'].tolist(), max_features=5000)\n",
    "X = cv.fit_transform(review['review'])\n",
    "X.shape"
   ]
  },
  {
   "cell_type": "code",
   "execution_count": 154,
   "id": "50a91ef7",
   "metadata": {},
   "outputs": [],
   "source": [
    "y = review['sentiment']"
   ]
  },
  {
   "cell_type": "code",
   "execution_count": 108,
   "id": "29227584",
   "metadata": {},
   "outputs": [
    {
     "data": {
      "text/plain": [
       "<25000x5000 sparse matrix of type '<class 'numpy.int64'>'\n",
       "\twith 2956225 stored elements in Compressed Sparse Row format>"
      ]
     },
     "execution_count": 108,
     "metadata": {},
     "output_type": "execute_result"
    }
   ],
   "source": [
    "X"
   ]
  },
  {
   "cell_type": "code",
   "execution_count": 164,
   "id": "4ce4e4a6",
   "metadata": {},
   "outputs": [
    {
     "data": {
      "text/plain": [
       "array([[0, 0, 0, ..., 0, 0, 0],\n",
       "       [0, 0, 0, ..., 0, 0, 0],\n",
       "       [0, 1, 1, ..., 0, 0, 0],\n",
       "       ...,\n",
       "       [0, 0, 1, ..., 0, 0, 0],\n",
       "       [0, 0, 0, ..., 0, 0, 0],\n",
       "       [0, 0, 0, ..., 0, 0, 0]], dtype=int64)"
      ]
     },
     "execution_count": 164,
     "metadata": {},
     "output_type": "execute_result"
    }
   ],
   "source": [
    "X.toarray()"
   ]
  },
  {
   "cell_type": "code",
   "execution_count": 109,
   "id": "71b3830c",
   "metadata": {},
   "outputs": [
    {
     "data": {
      "text/html": [
       "<div>\n",
       "<style scoped>\n",
       "    .dataframe tbody tr th:only-of-type {\n",
       "        vertical-align: middle;\n",
       "    }\n",
       "\n",
       "    .dataframe tbody tr th {\n",
       "        vertical-align: top;\n",
       "    }\n",
       "\n",
       "    .dataframe thead th {\n",
       "        text-align: right;\n",
       "    }\n",
       "</style>\n",
       "<table border=\"1\" class=\"dataframe\">\n",
       "  <thead>\n",
       "    <tr style=\"text-align: right;\">\n",
       "      <th></th>\n",
       "      <th>00</th>\n",
       "      <th>000</th>\n",
       "      <th>10</th>\n",
       "      <th>100</th>\n",
       "      <th>11</th>\n",
       "      <th>12</th>\n",
       "      <th>13</th>\n",
       "      <th>13th</th>\n",
       "      <th>14</th>\n",
       "      <th>15</th>\n",
       "      <th>...</th>\n",
       "      <th>young</th>\n",
       "      <th>younger</th>\n",
       "      <th>your</th>\n",
       "      <th>yourself</th>\n",
       "      <th>youth</th>\n",
       "      <th>zero</th>\n",
       "      <th>zizek</th>\n",
       "      <th>zombie</th>\n",
       "      <th>zombies</th>\n",
       "      <th>zone</th>\n",
       "    </tr>\n",
       "  </thead>\n",
       "  <tbody>\n",
       "    <tr>\n",
       "      <th>0</th>\n",
       "      <td>0</td>\n",
       "      <td>0</td>\n",
       "      <td>0</td>\n",
       "      <td>0</td>\n",
       "      <td>0</td>\n",
       "      <td>0</td>\n",
       "      <td>0</td>\n",
       "      <td>0</td>\n",
       "      <td>0</td>\n",
       "      <td>0</td>\n",
       "      <td>...</td>\n",
       "      <td>0</td>\n",
       "      <td>0</td>\n",
       "      <td>0</td>\n",
       "      <td>0</td>\n",
       "      <td>0</td>\n",
       "      <td>0</td>\n",
       "      <td>0</td>\n",
       "      <td>0</td>\n",
       "      <td>0</td>\n",
       "      <td>0</td>\n",
       "    </tr>\n",
       "    <tr>\n",
       "      <th>1</th>\n",
       "      <td>0</td>\n",
       "      <td>0</td>\n",
       "      <td>0</td>\n",
       "      <td>0</td>\n",
       "      <td>0</td>\n",
       "      <td>0</td>\n",
       "      <td>0</td>\n",
       "      <td>0</td>\n",
       "      <td>0</td>\n",
       "      <td>0</td>\n",
       "      <td>...</td>\n",
       "      <td>0</td>\n",
       "      <td>0</td>\n",
       "      <td>0</td>\n",
       "      <td>0</td>\n",
       "      <td>0</td>\n",
       "      <td>0</td>\n",
       "      <td>0</td>\n",
       "      <td>0</td>\n",
       "      <td>0</td>\n",
       "      <td>0</td>\n",
       "    </tr>\n",
       "    <tr>\n",
       "      <th>2</th>\n",
       "      <td>0</td>\n",
       "      <td>1</td>\n",
       "      <td>1</td>\n",
       "      <td>0</td>\n",
       "      <td>0</td>\n",
       "      <td>0</td>\n",
       "      <td>0</td>\n",
       "      <td>0</td>\n",
       "      <td>0</td>\n",
       "      <td>0</td>\n",
       "      <td>...</td>\n",
       "      <td>0</td>\n",
       "      <td>0</td>\n",
       "      <td>0</td>\n",
       "      <td>0</td>\n",
       "      <td>0</td>\n",
       "      <td>0</td>\n",
       "      <td>0</td>\n",
       "      <td>0</td>\n",
       "      <td>0</td>\n",
       "      <td>0</td>\n",
       "    </tr>\n",
       "    <tr>\n",
       "      <th>3</th>\n",
       "      <td>0</td>\n",
       "      <td>0</td>\n",
       "      <td>0</td>\n",
       "      <td>0</td>\n",
       "      <td>0</td>\n",
       "      <td>0</td>\n",
       "      <td>0</td>\n",
       "      <td>0</td>\n",
       "      <td>0</td>\n",
       "      <td>0</td>\n",
       "      <td>...</td>\n",
       "      <td>0</td>\n",
       "      <td>0</td>\n",
       "      <td>0</td>\n",
       "      <td>0</td>\n",
       "      <td>0</td>\n",
       "      <td>0</td>\n",
       "      <td>0</td>\n",
       "      <td>0</td>\n",
       "      <td>0</td>\n",
       "      <td>0</td>\n",
       "    </tr>\n",
       "    <tr>\n",
       "      <th>4</th>\n",
       "      <td>0</td>\n",
       "      <td>0</td>\n",
       "      <td>0</td>\n",
       "      <td>0</td>\n",
       "      <td>0</td>\n",
       "      <td>0</td>\n",
       "      <td>0</td>\n",
       "      <td>0</td>\n",
       "      <td>0</td>\n",
       "      <td>0</td>\n",
       "      <td>...</td>\n",
       "      <td>0</td>\n",
       "      <td>0</td>\n",
       "      <td>1</td>\n",
       "      <td>0</td>\n",
       "      <td>0</td>\n",
       "      <td>0</td>\n",
       "      <td>0</td>\n",
       "      <td>0</td>\n",
       "      <td>0</td>\n",
       "      <td>0</td>\n",
       "    </tr>\n",
       "    <tr>\n",
       "      <th>...</th>\n",
       "      <td>...</td>\n",
       "      <td>...</td>\n",
       "      <td>...</td>\n",
       "      <td>...</td>\n",
       "      <td>...</td>\n",
       "      <td>...</td>\n",
       "      <td>...</td>\n",
       "      <td>...</td>\n",
       "      <td>...</td>\n",
       "      <td>...</td>\n",
       "      <td>...</td>\n",
       "      <td>...</td>\n",
       "      <td>...</td>\n",
       "      <td>...</td>\n",
       "      <td>...</td>\n",
       "      <td>...</td>\n",
       "      <td>...</td>\n",
       "      <td>...</td>\n",
       "      <td>...</td>\n",
       "      <td>...</td>\n",
       "      <td>...</td>\n",
       "    </tr>\n",
       "    <tr>\n",
       "      <th>24995</th>\n",
       "      <td>0</td>\n",
       "      <td>0</td>\n",
       "      <td>0</td>\n",
       "      <td>0</td>\n",
       "      <td>0</td>\n",
       "      <td>0</td>\n",
       "      <td>0</td>\n",
       "      <td>0</td>\n",
       "      <td>0</td>\n",
       "      <td>0</td>\n",
       "      <td>...</td>\n",
       "      <td>0</td>\n",
       "      <td>0</td>\n",
       "      <td>1</td>\n",
       "      <td>0</td>\n",
       "      <td>0</td>\n",
       "      <td>0</td>\n",
       "      <td>0</td>\n",
       "      <td>0</td>\n",
       "      <td>0</td>\n",
       "      <td>0</td>\n",
       "    </tr>\n",
       "    <tr>\n",
       "      <th>24996</th>\n",
       "      <td>0</td>\n",
       "      <td>0</td>\n",
       "      <td>0</td>\n",
       "      <td>0</td>\n",
       "      <td>0</td>\n",
       "      <td>0</td>\n",
       "      <td>0</td>\n",
       "      <td>0</td>\n",
       "      <td>0</td>\n",
       "      <td>0</td>\n",
       "      <td>...</td>\n",
       "      <td>0</td>\n",
       "      <td>0</td>\n",
       "      <td>0</td>\n",
       "      <td>0</td>\n",
       "      <td>0</td>\n",
       "      <td>0</td>\n",
       "      <td>0</td>\n",
       "      <td>0</td>\n",
       "      <td>0</td>\n",
       "      <td>0</td>\n",
       "    </tr>\n",
       "    <tr>\n",
       "      <th>24997</th>\n",
       "      <td>0</td>\n",
       "      <td>0</td>\n",
       "      <td>1</td>\n",
       "      <td>0</td>\n",
       "      <td>0</td>\n",
       "      <td>0</td>\n",
       "      <td>0</td>\n",
       "      <td>0</td>\n",
       "      <td>0</td>\n",
       "      <td>0</td>\n",
       "      <td>...</td>\n",
       "      <td>0</td>\n",
       "      <td>0</td>\n",
       "      <td>0</td>\n",
       "      <td>0</td>\n",
       "      <td>0</td>\n",
       "      <td>0</td>\n",
       "      <td>0</td>\n",
       "      <td>0</td>\n",
       "      <td>0</td>\n",
       "      <td>0</td>\n",
       "    </tr>\n",
       "    <tr>\n",
       "      <th>24998</th>\n",
       "      <td>0</td>\n",
       "      <td>0</td>\n",
       "      <td>0</td>\n",
       "      <td>0</td>\n",
       "      <td>0</td>\n",
       "      <td>0</td>\n",
       "      <td>0</td>\n",
       "      <td>0</td>\n",
       "      <td>0</td>\n",
       "      <td>0</td>\n",
       "      <td>...</td>\n",
       "      <td>0</td>\n",
       "      <td>0</td>\n",
       "      <td>0</td>\n",
       "      <td>0</td>\n",
       "      <td>0</td>\n",
       "      <td>0</td>\n",
       "      <td>0</td>\n",
       "      <td>0</td>\n",
       "      <td>0</td>\n",
       "      <td>0</td>\n",
       "    </tr>\n",
       "    <tr>\n",
       "      <th>24999</th>\n",
       "      <td>0</td>\n",
       "      <td>0</td>\n",
       "      <td>0</td>\n",
       "      <td>0</td>\n",
       "      <td>0</td>\n",
       "      <td>0</td>\n",
       "      <td>0</td>\n",
       "      <td>0</td>\n",
       "      <td>0</td>\n",
       "      <td>0</td>\n",
       "      <td>...</td>\n",
       "      <td>0</td>\n",
       "      <td>0</td>\n",
       "      <td>0</td>\n",
       "      <td>0</td>\n",
       "      <td>0</td>\n",
       "      <td>0</td>\n",
       "      <td>0</td>\n",
       "      <td>0</td>\n",
       "      <td>0</td>\n",
       "      <td>0</td>\n",
       "    </tr>\n",
       "  </tbody>\n",
       "</table>\n",
       "<p>25000 rows × 5000 columns</p>\n",
       "</div>"
      ],
      "text/plain": [
       "       00  000  10  100  11  12  13  13th  14  15  ...  young  younger  your  \\\n",
       "0       0    0   0    0   0   0   0     0   0   0  ...      0        0     0   \n",
       "1       0    0   0    0   0   0   0     0   0   0  ...      0        0     0   \n",
       "2       0    1   1    0   0   0   0     0   0   0  ...      0        0     0   \n",
       "3       0    0   0    0   0   0   0     0   0   0  ...      0        0     0   \n",
       "4       0    0   0    0   0   0   0     0   0   0  ...      0        0     1   \n",
       "...    ..  ...  ..  ...  ..  ..  ..   ...  ..  ..  ...    ...      ...   ...   \n",
       "24995   0    0   0    0   0   0   0     0   0   0  ...      0        0     1   \n",
       "24996   0    0   0    0   0   0   0     0   0   0  ...      0        0     0   \n",
       "24997   0    0   1    0   0   0   0     0   0   0  ...      0        0     0   \n",
       "24998   0    0   0    0   0   0   0     0   0   0  ...      0        0     0   \n",
       "24999   0    0   0    0   0   0   0     0   0   0  ...      0        0     0   \n",
       "\n",
       "       yourself  youth  zero  zizek  zombie  zombies  zone  \n",
       "0             0      0     0      0       0        0     0  \n",
       "1             0      0     0      0       0        0     0  \n",
       "2             0      0     0      0       0        0     0  \n",
       "3             0      0     0      0       0        0     0  \n",
       "4             0      0     0      0       0        0     0  \n",
       "...         ...    ...   ...    ...     ...      ...   ...  \n",
       "24995         0      0     0      0       0        0     0  \n",
       "24996         0      0     0      0       0        0     0  \n",
       "24997         0      0     0      0       0        0     0  \n",
       "24998         0      0     0      0       0        0     0  \n",
       "24999         0      0     0      0       0        0     0  \n",
       "\n",
       "[25000 rows x 5000 columns]"
      ]
     },
     "execution_count": 109,
     "metadata": {},
     "output_type": "execute_result"
    }
   ],
   "source": [
    "pd.DataFrame(X.toarray(), columns=cv.get_feature_names())"
   ]
  },
  {
   "cell_type": "code",
   "execution_count": 110,
   "id": "fd127a5a",
   "metadata": {},
   "outputs": [
    {
     "data": {
      "text/plain": [
       "['00',\n",
       " '000',\n",
       " '10',\n",
       " '100',\n",
       " '11',\n",
       " '12',\n",
       " '13',\n",
       " '13th',\n",
       " '14',\n",
       " '15',\n",
       " '16',\n",
       " '17',\n",
       " '18',\n",
       " '1930',\n",
       " '1930s',\n",
       " '1933',\n",
       " '1940',\n",
       " '1950',\n",
       " '1950s',\n",
       " '1960',\n",
       " '1960s',\n",
       " '1968',\n",
       " '1970',\n",
       " '1970s',\n",
       " '1972',\n",
       " '1973',\n",
       " '1980',\n",
       " '1980s',\n",
       " '1983',\n",
       " '1984',\n",
       " '1987',\n",
       " '1990',\n",
       " '1996',\n",
       " '1997',\n",
       " '1999',\n",
       " '1st',\n",
       " '20',\n",
       " '2000',\n",
       " '2001',\n",
       " '2002',\n",
       " '2003',\n",
       " '2004',\n",
       " '2005',\n",
       " '2006',\n",
       " '2007',\n",
       " '20th',\n",
       " '24',\n",
       " '25',\n",
       " '2nd',\n",
       " '30',\n",
       " '30s',\n",
       " '35',\n",
       " '3d',\n",
       " '3rd',\n",
       " '40',\n",
       " '45',\n",
       " '50',\n",
       " '50s',\n",
       " '60',\n",
       " '60s',\n",
       " '70',\n",
       " '70s',\n",
       " '80',\n",
       " '80s',\n",
       " '90',\n",
       " '90s',\n",
       " '99',\n",
       " 'abandoned',\n",
       " 'abc',\n",
       " 'abilities',\n",
       " 'ability',\n",
       " 'able',\n",
       " 'about',\n",
       " 'above',\n",
       " 'abraham',\n",
       " 'absence',\n",
       " 'absent',\n",
       " 'absolute',\n",
       " 'absolutely',\n",
       " 'absurd',\n",
       " 'abuse',\n",
       " 'abusive',\n",
       " 'abysmal',\n",
       " 'academy',\n",
       " 'accent',\n",
       " 'accents',\n",
       " 'accept',\n",
       " 'acceptable',\n",
       " 'accepted',\n",
       " 'access',\n",
       " 'accident',\n",
       " 'accidentally',\n",
       " 'accompanied',\n",
       " 'accomplished',\n",
       " 'according',\n",
       " 'account',\n",
       " 'accurate',\n",
       " 'accused',\n",
       " 'achieve',\n",
       " 'achieved',\n",
       " 'achievement',\n",
       " 'acid',\n",
       " 'across',\n",
       " 'act',\n",
       " 'acted',\n",
       " 'acting',\n",
       " 'action',\n",
       " 'actions',\n",
       " 'activities',\n",
       " 'actor',\n",
       " 'actors',\n",
       " 'actress',\n",
       " 'actresses',\n",
       " 'acts',\n",
       " 'actual',\n",
       " 'actually',\n",
       " 'ad',\n",
       " 'adam',\n",
       " 'adams',\n",
       " 'adaptation',\n",
       " 'adapted',\n",
       " 'add',\n",
       " 'added',\n",
       " 'adding',\n",
       " 'addition',\n",
       " 'adds',\n",
       " 'adequate',\n",
       " 'admire',\n",
       " 'admit',\n",
       " 'admittedly',\n",
       " 'adorable',\n",
       " 'adult',\n",
       " 'adults',\n",
       " 'advance',\n",
       " 'advanced',\n",
       " 'advantage',\n",
       " 'adventure',\n",
       " 'adventures',\n",
       " 'advertising',\n",
       " 'advice',\n",
       " 'advise',\n",
       " 'affair',\n",
       " 'affect',\n",
       " 'affected',\n",
       " 'afford',\n",
       " 'aforementioned',\n",
       " 'afraid',\n",
       " 'africa',\n",
       " 'african',\n",
       " 'after',\n",
       " 'afternoon',\n",
       " 'afterwards',\n",
       " 'again',\n",
       " 'against',\n",
       " 'age',\n",
       " 'aged',\n",
       " 'agent',\n",
       " 'agents',\n",
       " 'ages',\n",
       " 'aging',\n",
       " 'ago',\n",
       " 'agree',\n",
       " 'agreed',\n",
       " 'agrees',\n",
       " 'ah',\n",
       " 'ahead',\n",
       " 'aid',\n",
       " 'aids',\n",
       " 'aimed',\n",
       " 'ain',\n",
       " 'air',\n",
       " 'aired',\n",
       " 'airplane',\n",
       " 'airport',\n",
       " 'aka',\n",
       " 'akshay',\n",
       " 'al',\n",
       " 'alan',\n",
       " 'alas',\n",
       " 'albeit',\n",
       " 'albert',\n",
       " 'album',\n",
       " 'alcohol',\n",
       " 'alcoholic',\n",
       " 'alert',\n",
       " 'alex',\n",
       " 'alexander',\n",
       " 'alfred',\n",
       " 'alice',\n",
       " 'alien',\n",
       " 'aliens',\n",
       " 'alike',\n",
       " 'alison',\n",
       " 'alive',\n",
       " 'all',\n",
       " 'allen',\n",
       " 'allow',\n",
       " 'allowed',\n",
       " 'allowing',\n",
       " 'allows',\n",
       " 'almost',\n",
       " 'alone',\n",
       " 'along',\n",
       " 'alongside',\n",
       " 'already',\n",
       " 'alright',\n",
       " 'also',\n",
       " 'alternate',\n",
       " 'although',\n",
       " 'altman',\n",
       " 'altogether',\n",
       " 'always',\n",
       " 'am',\n",
       " 'amanda',\n",
       " 'amateur',\n",
       " 'amateurish',\n",
       " 'amazed',\n",
       " 'amazing',\n",
       " 'amazingly',\n",
       " 'ambitious',\n",
       " 'america',\n",
       " 'american',\n",
       " 'americans',\n",
       " 'amitabh',\n",
       " 'among',\n",
       " 'amongst',\n",
       " 'amount',\n",
       " 'amounts',\n",
       " 'amusing',\n",
       " 'amy',\n",
       " 'an',\n",
       " 'analysis',\n",
       " 'ancient',\n",
       " 'and',\n",
       " 'anderson',\n",
       " 'andrew',\n",
       " 'andrews',\n",
       " 'andy',\n",
       " 'angel',\n",
       " 'angela',\n",
       " 'angeles',\n",
       " 'angels',\n",
       " 'anger',\n",
       " 'angle',\n",
       " 'angles',\n",
       " 'angry',\n",
       " 'animal',\n",
       " 'animals',\n",
       " 'animated',\n",
       " 'animation',\n",
       " 'anime',\n",
       " 'ann',\n",
       " 'anna',\n",
       " 'anne',\n",
       " 'annie',\n",
       " 'annoyed',\n",
       " 'annoying',\n",
       " 'another',\n",
       " 'answer',\n",
       " 'answers',\n",
       " 'anthony',\n",
       " 'anti',\n",
       " 'antics',\n",
       " 'antwone',\n",
       " 'any',\n",
       " 'anybody',\n",
       " 'anymore',\n",
       " 'anyone',\n",
       " 'anything',\n",
       " 'anyway',\n",
       " 'anyways',\n",
       " 'anywhere',\n",
       " 'apart',\n",
       " 'apartment',\n",
       " 'ape',\n",
       " 'apes',\n",
       " 'appalling',\n",
       " 'apparent',\n",
       " 'apparently',\n",
       " 'appeal',\n",
       " 'appealing',\n",
       " 'appear',\n",
       " 'appearance',\n",
       " 'appearances',\n",
       " 'appeared',\n",
       " 'appearing',\n",
       " 'appears',\n",
       " 'appreciate',\n",
       " 'appreciated',\n",
       " 'appreciation',\n",
       " 'approach',\n",
       " 'appropriate',\n",
       " 'april',\n",
       " 'are',\n",
       " 'area',\n",
       " 'areas',\n",
       " 'aren',\n",
       " 'arguably',\n",
       " 'argue',\n",
       " 'argument',\n",
       " 'arm',\n",
       " 'armed',\n",
       " 'arms',\n",
       " 'army',\n",
       " 'arnold',\n",
       " 'around',\n",
       " 'arrested',\n",
       " 'arrival',\n",
       " 'arrive',\n",
       " 'arrived',\n",
       " 'arrives',\n",
       " 'arrogant',\n",
       " 'art',\n",
       " 'arthur',\n",
       " 'artificial',\n",
       " 'artist',\n",
       " 'artistic',\n",
       " 'artists',\n",
       " 'arts',\n",
       " 'as',\n",
       " 'ashamed',\n",
       " 'ashley',\n",
       " 'asian',\n",
       " 'aside',\n",
       " 'ask',\n",
       " 'asked',\n",
       " 'asking',\n",
       " 'asks',\n",
       " 'asleep',\n",
       " 'aspect',\n",
       " 'aspects',\n",
       " 'ass',\n",
       " 'assassin',\n",
       " 'assault',\n",
       " 'assigned',\n",
       " 'assistant',\n",
       " 'associated',\n",
       " 'assume',\n",
       " 'astaire',\n",
       " 'at',\n",
       " 'atlantis',\n",
       " 'atmosphere',\n",
       " 'atmospheric',\n",
       " 'atrocious',\n",
       " 'attached',\n",
       " 'attack',\n",
       " 'attacked',\n",
       " 'attacks',\n",
       " 'attempt',\n",
       " 'attempted',\n",
       " 'attempting',\n",
       " 'attempts',\n",
       " 'attend',\n",
       " 'attention',\n",
       " 'attitude',\n",
       " 'attitudes',\n",
       " 'attorney',\n",
       " 'attracted',\n",
       " 'attraction',\n",
       " 'attractive',\n",
       " 'audience',\n",
       " 'audiences',\n",
       " 'audio',\n",
       " 'aunt',\n",
       " 'austen',\n",
       " 'australia',\n",
       " 'australian',\n",
       " 'authentic',\n",
       " 'author',\n",
       " 'authority',\n",
       " 'available',\n",
       " 'average',\n",
       " 'avoid',\n",
       " 'avoided',\n",
       " 'awake',\n",
       " 'award',\n",
       " 'awards',\n",
       " 'aware',\n",
       " 'away',\n",
       " 'awe',\n",
       " 'awesome',\n",
       " 'awful',\n",
       " 'awfully',\n",
       " 'awkward',\n",
       " 'babe',\n",
       " 'baby',\n",
       " 'bacall',\n",
       " 'back',\n",
       " 'backdrop',\n",
       " 'background',\n",
       " 'backgrounds',\n",
       " 'bad',\n",
       " 'badly',\n",
       " 'bag',\n",
       " 'baker',\n",
       " 'bakshi',\n",
       " 'balance',\n",
       " 'ball',\n",
       " 'ballet',\n",
       " 'balls',\n",
       " 'band',\n",
       " 'bands',\n",
       " 'bang',\n",
       " 'bank',\n",
       " 'banned',\n",
       " 'bar',\n",
       " 'barbara',\n",
       " 'bare',\n",
       " 'barely',\n",
       " 'bargain',\n",
       " 'barry',\n",
       " 'barrymore',\n",
       " 'base',\n",
       " 'baseball',\n",
       " 'based',\n",
       " 'basement',\n",
       " 'basic',\n",
       " 'basically',\n",
       " 'basis',\n",
       " 'basketball',\n",
       " 'bat',\n",
       " 'bath',\n",
       " 'bathroom',\n",
       " 'batman',\n",
       " 'battle',\n",
       " 'battles',\n",
       " 'bay',\n",
       " 'bbc',\n",
       " 'be',\n",
       " 'beach',\n",
       " 'bear',\n",
       " 'bears',\n",
       " 'beast',\n",
       " 'beat',\n",
       " 'beaten',\n",
       " 'beating',\n",
       " 'beats',\n",
       " 'beatty',\n",
       " 'beautiful',\n",
       " 'beautifully',\n",
       " 'beauty',\n",
       " 'became',\n",
       " 'because',\n",
       " 'become',\n",
       " 'becomes',\n",
       " 'becoming',\n",
       " 'bed',\n",
       " 'bedroom',\n",
       " 'been',\n",
       " 'beer',\n",
       " 'before',\n",
       " 'began',\n",
       " 'begin',\n",
       " 'beginning',\n",
       " 'begins',\n",
       " 'behave',\n",
       " 'behavior',\n",
       " 'behind',\n",
       " 'being',\n",
       " 'beings',\n",
       " 'bela',\n",
       " 'belief',\n",
       " 'beliefs',\n",
       " 'believable',\n",
       " 'believe',\n",
       " 'believed',\n",
       " 'believes',\n",
       " 'believing',\n",
       " 'bell',\n",
       " 'belong',\n",
       " 'belongs',\n",
       " 'beloved',\n",
       " 'below',\n",
       " 'belushi',\n",
       " 'ben',\n",
       " 'beneath',\n",
       " 'benefit',\n",
       " 'bergman',\n",
       " 'berlin',\n",
       " 'besides',\n",
       " 'best',\n",
       " 'bet',\n",
       " 'bette',\n",
       " 'better',\n",
       " 'bettie',\n",
       " 'betty',\n",
       " 'between',\n",
       " 'beyond',\n",
       " 'bible',\n",
       " 'big',\n",
       " 'bigger',\n",
       " 'biggest',\n",
       " 'biko',\n",
       " 'bill',\n",
       " 'billy',\n",
       " 'bin',\n",
       " 'bird',\n",
       " 'birds',\n",
       " 'birth',\n",
       " 'birthday',\n",
       " 'bit',\n",
       " 'bite',\n",
       " 'bits',\n",
       " 'bitter',\n",
       " 'bizarre',\n",
       " 'black',\n",
       " 'blade',\n",
       " 'blah',\n",
       " 'blair',\n",
       " 'blake',\n",
       " 'blame',\n",
       " 'bland',\n",
       " 'blank',\n",
       " 'blatant',\n",
       " 'bleak',\n",
       " 'blend',\n",
       " 'blew',\n",
       " 'blind',\n",
       " 'blob',\n",
       " 'block',\n",
       " 'blockbuster',\n",
       " 'blond',\n",
       " 'blonde',\n",
       " 'blood',\n",
       " 'bloody',\n",
       " 'blow',\n",
       " 'blowing',\n",
       " 'blown',\n",
       " 'blows',\n",
       " 'blue',\n",
       " 'blues',\n",
       " 'blunt',\n",
       " 'bo',\n",
       " 'board',\n",
       " 'boat',\n",
       " 'bob',\n",
       " 'bobby',\n",
       " 'bodies',\n",
       " 'body',\n",
       " 'bold',\n",
       " 'boll',\n",
       " 'bollywood',\n",
       " 'bomb',\n",
       " 'bond',\n",
       " 'bone',\n",
       " 'bonus',\n",
       " 'book',\n",
       " 'books',\n",
       " 'boom',\n",
       " 'boot',\n",
       " 'border',\n",
       " 'bore',\n",
       " 'bored',\n",
       " 'boredom',\n",
       " 'boring',\n",
       " 'born',\n",
       " 'borrowed',\n",
       " 'boss',\n",
       " 'both',\n",
       " 'bother',\n",
       " 'bothered',\n",
       " 'bottle',\n",
       " 'bottom',\n",
       " 'bought',\n",
       " 'bound',\n",
       " 'bourne',\n",
       " 'box',\n",
       " 'boxing',\n",
       " 'boy',\n",
       " 'boyfriend',\n",
       " 'boys',\n",
       " 'br',\n",
       " 'brad',\n",
       " 'brady',\n",
       " 'brain',\n",
       " 'brains',\n",
       " 'branagh',\n",
       " 'brand',\n",
       " 'brando',\n",
       " 'brave',\n",
       " 'brazil',\n",
       " 'break',\n",
       " 'breaking',\n",
       " 'breaks',\n",
       " 'breasts',\n",
       " 'breath',\n",
       " 'breathtaking',\n",
       " 'brenda',\n",
       " 'brian',\n",
       " 'bride',\n",
       " 'bridge',\n",
       " 'brief',\n",
       " 'briefly',\n",
       " 'bright',\n",
       " 'brilliance',\n",
       " 'brilliant',\n",
       " 'brilliantly',\n",
       " 'bring',\n",
       " 'bringing',\n",
       " 'brings',\n",
       " 'britain',\n",
       " 'british',\n",
       " 'broad',\n",
       " 'broadcast',\n",
       " 'broadway',\n",
       " 'broke',\n",
       " 'broken',\n",
       " 'brooklyn',\n",
       " 'brooks',\n",
       " 'brosnan',\n",
       " 'brother',\n",
       " 'brothers',\n",
       " 'brought',\n",
       " 'brown',\n",
       " 'bruce',\n",
       " 'brutal',\n",
       " 'brutally',\n",
       " 'buck',\n",
       " 'bucks',\n",
       " 'bud',\n",
       " 'buddies',\n",
       " 'buddy',\n",
       " 'budget',\n",
       " 'buff',\n",
       " 'buffs',\n",
       " 'bug',\n",
       " 'bugs',\n",
       " 'build',\n",
       " 'building',\n",
       " 'buildings',\n",
       " 'builds',\n",
       " 'built',\n",
       " 'bull',\n",
       " 'bullet',\n",
       " 'bullets',\n",
       " 'bumbling',\n",
       " 'bunch',\n",
       " 'buried',\n",
       " 'burn',\n",
       " 'burned',\n",
       " 'burning',\n",
       " 'burns',\n",
       " 'burt',\n",
       " 'burton',\n",
       " 'bus',\n",
       " 'bush',\n",
       " 'business',\n",
       " 'businessman',\n",
       " 'busy',\n",
       " 'but',\n",
       " 'butler',\n",
       " 'butt',\n",
       " 'button',\n",
       " 'buy',\n",
       " 'buying',\n",
       " 'by',\n",
       " 'cabin',\n",
       " 'cable',\n",
       " 'cage',\n",
       " 'cagney',\n",
       " 'caine',\n",
       " 'cake',\n",
       " 'caliber',\n",
       " 'california',\n",
       " 'call',\n",
       " 'called',\n",
       " 'calling',\n",
       " 'calls',\n",
       " 'calm',\n",
       " 'came',\n",
       " 'cameo',\n",
       " 'cameos',\n",
       " 'camera',\n",
       " 'cameras',\n",
       " 'cameron',\n",
       " 'camp',\n",
       " 'campbell',\n",
       " 'campy',\n",
       " 'can',\n",
       " 'canada',\n",
       " 'canadian',\n",
       " 'candy',\n",
       " 'cannibal',\n",
       " 'cannot',\n",
       " 'cant',\n",
       " 'capable',\n",
       " 'capital',\n",
       " 'captain',\n",
       " 'captivating',\n",
       " 'capture',\n",
       " 'captured',\n",
       " 'captures',\n",
       " 'capturing',\n",
       " 'car',\n",
       " 'card',\n",
       " 'cardboard',\n",
       " 'cards',\n",
       " 'care',\n",
       " 'cared',\n",
       " 'career',\n",
       " 'careers',\n",
       " 'careful',\n",
       " 'carefully',\n",
       " 'carell',\n",
       " 'cares',\n",
       " 'caring',\n",
       " 'carl',\n",
       " 'carla',\n",
       " 'carol',\n",
       " 'carpenter',\n",
       " 'carradine',\n",
       " 'carrey',\n",
       " 'carrie',\n",
       " 'carried',\n",
       " 'carries',\n",
       " 'carry',\n",
       " 'carrying',\n",
       " 'cars',\n",
       " 'carter',\n",
       " 'cartoon',\n",
       " 'cartoons',\n",
       " 'cary',\n",
       " 'case',\n",
       " 'cases',\n",
       " 'cash',\n",
       " 'cassidy',\n",
       " 'cast',\n",
       " 'casting',\n",
       " 'castle',\n",
       " 'cat',\n",
       " 'catch',\n",
       " 'catches',\n",
       " 'catching',\n",
       " 'catchy',\n",
       " 'category',\n",
       " 'catherine',\n",
       " 'catholic',\n",
       " 'cats',\n",
       " 'caught',\n",
       " 'cause',\n",
       " 'caused',\n",
       " 'causes',\n",
       " 'causing',\n",
       " 'cave',\n",
       " 'cd',\n",
       " 'celebrity',\n",
       " 'cell',\n",
       " 'celluloid',\n",
       " 'center',\n",
       " 'centered',\n",
       " 'centers',\n",
       " 'central',\n",
       " 'century',\n",
       " 'certain',\n",
       " 'certainly',\n",
       " 'cg',\n",
       " 'cgi',\n",
       " 'chain',\n",
       " 'chair',\n",
       " 'challenge',\n",
       " 'challenging',\n",
       " 'championship',\n",
       " 'chan',\n",
       " 'chance',\n",
       " 'chances',\n",
       " 'change',\n",
       " 'changed',\n",
       " 'changes',\n",
       " 'changing',\n",
       " 'channel',\n",
       " 'channels',\n",
       " 'chaos',\n",
       " 'chaplin',\n",
       " 'chapter',\n",
       " 'character',\n",
       " 'characterization',\n",
       " 'characters',\n",
       " 'charge',\n",
       " 'charisma',\n",
       " 'charismatic',\n",
       " 'charles',\n",
       " 'charlie',\n",
       " 'charlotte',\n",
       " 'charm',\n",
       " 'charming',\n",
       " 'chase',\n",
       " 'chased',\n",
       " 'chases',\n",
       " 'chasing',\n",
       " 'che',\n",
       " 'cheap',\n",
       " 'cheated',\n",
       " 'cheating',\n",
       " 'check',\n",
       " 'checking',\n",
       " 'cheek',\n",
       " 'cheese',\n",
       " 'cheesy',\n",
       " 'chemistry',\n",
       " 'chess',\n",
       " 'chest',\n",
       " 'chicago',\n",
       " 'chick',\n",
       " 'chicks',\n",
       " 'chief',\n",
       " 'child',\n",
       " 'childhood',\n",
       " 'childish',\n",
       " 'children',\n",
       " 'chilling',\n",
       " 'china',\n",
       " 'chinese',\n",
       " 'choice',\n",
       " 'choices',\n",
       " 'choose',\n",
       " 'chooses',\n",
       " 'choreographed',\n",
       " 'choreography',\n",
       " 'chorus',\n",
       " 'chose',\n",
       " 'chosen',\n",
       " 'chris',\n",
       " 'christ',\n",
       " 'christian',\n",
       " 'christians',\n",
       " 'christmas',\n",
       " 'christopher',\n",
       " 'christy',\n",
       " 'chuck',\n",
       " 'church',\n",
       " 'cia',\n",
       " 'cinderella',\n",
       " 'cinema',\n",
       " 'cinematic',\n",
       " 'cinematographer',\n",
       " 'cinematography',\n",
       " 'circle',\n",
       " 'circumstances',\n",
       " 'cities',\n",
       " 'citizen',\n",
       " 'city',\n",
       " 'civil',\n",
       " 'civilization',\n",
       " 'claim',\n",
       " 'claimed',\n",
       " 'claims',\n",
       " 'claire',\n",
       " 'clark',\n",
       " 'class',\n",
       " 'classes',\n",
       " 'classic',\n",
       " 'classical',\n",
       " 'classics',\n",
       " 'clean',\n",
       " 'clear',\n",
       " 'clearly',\n",
       " 'clever',\n",
       " 'cleverly',\n",
       " 'cliche',\n",
       " 'cliché',\n",
       " 'clichéd',\n",
       " 'clichés',\n",
       " 'cliff',\n",
       " 'climactic',\n",
       " 'climax',\n",
       " 'clint',\n",
       " 'clip',\n",
       " 'clips',\n",
       " 'clock',\n",
       " 'close',\n",
       " 'closed',\n",
       " 'closely',\n",
       " 'closer',\n",
       " 'closest',\n",
       " 'closet',\n",
       " 'closing',\n",
       " 'clothes',\n",
       " 'clothing',\n",
       " 'clown',\n",
       " 'club',\n",
       " 'clue',\n",
       " 'clues',\n",
       " 'clumsy',\n",
       " 'co',\n",
       " 'coach',\n",
       " 'code',\n",
       " 'coffee',\n",
       " 'coherent',\n",
       " 'cold',\n",
       " 'cole',\n",
       " 'collection',\n",
       " 'college',\n",
       " 'colonel',\n",
       " 'color',\n",
       " 'colorful',\n",
       " 'colors',\n",
       " 'colour',\n",
       " 'columbo',\n",
       " 'com',\n",
       " 'combat',\n",
       " 'combination',\n",
       " 'combine',\n",
       " 'combined',\n",
       " 'come',\n",
       " 'comedian',\n",
       " 'comedic',\n",
       " 'comedies',\n",
       " 'comedy',\n",
       " 'comes',\n",
       " 'comfortable',\n",
       " 'comic',\n",
       " 'comical',\n",
       " 'comics',\n",
       " 'coming',\n",
       " 'command',\n",
       " 'comment',\n",
       " 'commentary',\n",
       " 'commented',\n",
       " 'comments',\n",
       " 'commercial',\n",
       " 'commercials',\n",
       " 'commit',\n",
       " 'committed',\n",
       " 'common',\n",
       " 'communist',\n",
       " 'community',\n",
       " 'companion',\n",
       " 'company',\n",
       " 'compare',\n",
       " 'compared',\n",
       " 'comparing',\n",
       " 'comparison',\n",
       " 'compelled',\n",
       " 'compelling',\n",
       " 'competent',\n",
       " 'competition',\n",
       " 'complain',\n",
       " 'complaint',\n",
       " 'complete',\n",
       " 'completely',\n",
       " 'complex',\n",
       " 'complexity',\n",
       " 'complicated',\n",
       " 'composed',\n",
       " 'computer',\n",
       " 'con',\n",
       " 'conceived',\n",
       " 'concept',\n",
       " 'concern',\n",
       " 'concerned',\n",
       " 'concerning',\n",
       " 'concerns',\n",
       " 'concert',\n",
       " 'conclusion',\n",
       " 'condition',\n",
       " 'confidence',\n",
       " 'conflict',\n",
       " 'conflicts',\n",
       " 'confused',\n",
       " 'confusing',\n",
       " 'confusion',\n",
       " 'connect',\n",
       " 'connected',\n",
       " 'connection',\n",
       " 'connery',\n",
       " 'consequences',\n",
       " 'conservative',\n",
       " 'consider',\n",
       " 'considerable',\n",
       " 'considered',\n",
       " 'considering',\n",
       " 'consistent',\n",
       " 'consistently',\n",
       " 'consists',\n",
       " 'conspiracy',\n",
       " 'constant',\n",
       " 'constantly',\n",
       " 'constructed',\n",
       " 'construction',\n",
       " 'contact',\n",
       " 'contain',\n",
       " 'contained',\n",
       " 'contains',\n",
       " 'contemporary',\n",
       " 'content',\n",
       " 'contest',\n",
       " 'context',\n",
       " 'continue',\n",
       " 'continued',\n",
       " 'continues',\n",
       " 'continuity',\n",
       " 'contract',\n",
       " 'contrary',\n",
       " 'contrast',\n",
       " 'contrived',\n",
       " 'control',\n",
       " 'controversial',\n",
       " 'conventional',\n",
       " 'conversation',\n",
       " 'conversations',\n",
       " ...]"
      ]
     },
     "execution_count": 110,
     "metadata": {},
     "output_type": "execute_result"
    }
   ],
   "source": [
    "cv.get_feature_names()"
   ]
  },
  {
   "cell_type": "code",
   "execution_count": 116,
   "id": "c7197a06",
   "metadata": {},
   "outputs": [],
   "source": [
    "X_train, X_test, y_train, y_test = train_test_split(X, y, test_size=0.2, random_state=123)"
   ]
  },
  {
   "cell_type": "code",
   "execution_count": 117,
   "id": "f8169c1a",
   "metadata": {},
   "outputs": [],
   "source": [
    "clf = LogisticRegression()"
   ]
  },
  {
   "cell_type": "code",
   "execution_count": 118,
   "id": "6a93053e",
   "metadata": {},
   "outputs": [
    {
     "name": "stderr",
     "output_type": "stream",
     "text": [
      "C:\\Users\\Swastik\\anaconda3\\lib\\site-packages\\sklearn\\linear_model\\_logistic.py:763: ConvergenceWarning: lbfgs failed to converge (status=1):\n",
      "STOP: TOTAL NO. of ITERATIONS REACHED LIMIT.\n",
      "\n",
      "Increase the number of iterations (max_iter) or scale the data as shown in:\n",
      "    https://scikit-learn.org/stable/modules/preprocessing.html\n",
      "Please also refer to the documentation for alternative solver options:\n",
      "    https://scikit-learn.org/stable/modules/linear_model.html#logistic-regression\n",
      "  n_iter_i = _check_optimize_result(\n"
     ]
    }
   ],
   "source": [
    "mod = clf.fit(X_train,y_train)"
   ]
  },
  {
   "cell_type": "code",
   "execution_count": 119,
   "id": "480b421a",
   "metadata": {},
   "outputs": [
    {
     "data": {
      "text/plain": [
       "array([[1.45314957e-01, 8.54685043e-01],\n",
       "       [9.66634127e-02, 9.03336587e-01],\n",
       "       [9.99887017e-01, 1.12982861e-04],\n",
       "       ...,\n",
       "       [2.96945447e-04, 9.99703055e-01],\n",
       "       [3.03349764e-02, 9.69665024e-01],\n",
       "       [5.58485624e-03, 9.94415144e-01]])"
      ]
     },
     "execution_count": 119,
     "metadata": {},
     "output_type": "execute_result"
    }
   ],
   "source": [
    "mod.predict_proba(X_test)"
   ]
  },
  {
   "cell_type": "code",
   "execution_count": 120,
   "id": "bdcf451a",
   "metadata": {},
   "outputs": [
    {
     "data": {
      "text/plain": [
       "array([0, 1], dtype=int64)"
      ]
     },
     "execution_count": 120,
     "metadata": {},
     "output_type": "execute_result"
    }
   ],
   "source": [
    "mod.classes_"
   ]
  },
  {
   "cell_type": "code",
   "execution_count": 124,
   "id": "8a26da36",
   "metadata": {},
   "outputs": [],
   "source": [
    "from sklearn.model_selection import GridSearchCV"
   ]
  },
  {
   "cell_type": "code",
   "execution_count": 131,
   "id": "c422ea6d",
   "metadata": {
    "scrolled": true
   },
   "outputs": [
    {
     "name": "stderr",
     "output_type": "stream",
     "text": [
      "C:\\Users\\Swastik\\anaconda3\\lib\\site-packages\\sklearn\\linear_model\\_logistic.py:763: ConvergenceWarning: lbfgs failed to converge (status=1):\n",
      "STOP: TOTAL NO. of ITERATIONS REACHED LIMIT.\n",
      "\n",
      "Increase the number of iterations (max_iter) or scale the data as shown in:\n",
      "    https://scikit-learn.org/stable/modules/preprocessing.html\n",
      "Please also refer to the documentation for alternative solver options:\n",
      "    https://scikit-learn.org/stable/modules/linear_model.html#logistic-regression\n",
      "  n_iter_i = _check_optimize_result(\n",
      "C:\\Users\\Swastik\\anaconda3\\lib\\site-packages\\sklearn\\linear_model\\_logistic.py:763: ConvergenceWarning: lbfgs failed to converge (status=1):\n",
      "STOP: TOTAL NO. of ITERATIONS REACHED LIMIT.\n",
      "\n",
      "Increase the number of iterations (max_iter) or scale the data as shown in:\n",
      "    https://scikit-learn.org/stable/modules/preprocessing.html\n",
      "Please also refer to the documentation for alternative solver options:\n",
      "    https://scikit-learn.org/stable/modules/linear_model.html#logistic-regression\n",
      "  n_iter_i = _check_optimize_result(\n",
      "C:\\Users\\Swastik\\anaconda3\\lib\\site-packages\\sklearn\\linear_model\\_logistic.py:763: ConvergenceWarning: lbfgs failed to converge (status=1):\n",
      "STOP: TOTAL NO. of ITERATIONS REACHED LIMIT.\n",
      "\n",
      "Increase the number of iterations (max_iter) or scale the data as shown in:\n",
      "    https://scikit-learn.org/stable/modules/preprocessing.html\n",
      "Please also refer to the documentation for alternative solver options:\n",
      "    https://scikit-learn.org/stable/modules/linear_model.html#logistic-regression\n",
      "  n_iter_i = _check_optimize_result(\n",
      "C:\\Users\\Swastik\\anaconda3\\lib\\site-packages\\sklearn\\linear_model\\_logistic.py:763: ConvergenceWarning: lbfgs failed to converge (status=1):\n",
      "STOP: TOTAL NO. of ITERATIONS REACHED LIMIT.\n",
      "\n",
      "Increase the number of iterations (max_iter) or scale the data as shown in:\n",
      "    https://scikit-learn.org/stable/modules/preprocessing.html\n",
      "Please also refer to the documentation for alternative solver options:\n",
      "    https://scikit-learn.org/stable/modules/linear_model.html#logistic-regression\n",
      "  n_iter_i = _check_optimize_result(\n",
      "C:\\Users\\Swastik\\anaconda3\\lib\\site-packages\\sklearn\\linear_model\\_logistic.py:763: ConvergenceWarning: lbfgs failed to converge (status=1):\n",
      "STOP: TOTAL NO. of ITERATIONS REACHED LIMIT.\n",
      "\n",
      "Increase the number of iterations (max_iter) or scale the data as shown in:\n",
      "    https://scikit-learn.org/stable/modules/preprocessing.html\n",
      "Please also refer to the documentation for alternative solver options:\n",
      "    https://scikit-learn.org/stable/modules/linear_model.html#logistic-regression\n",
      "  n_iter_i = _check_optimize_result(\n",
      "C:\\Users\\Swastik\\anaconda3\\lib\\site-packages\\sklearn\\linear_model\\_logistic.py:763: ConvergenceWarning: lbfgs failed to converge (status=1):\n",
      "STOP: TOTAL NO. of ITERATIONS REACHED LIMIT.\n",
      "\n",
      "Increase the number of iterations (max_iter) or scale the data as shown in:\n",
      "    https://scikit-learn.org/stable/modules/preprocessing.html\n",
      "Please also refer to the documentation for alternative solver options:\n",
      "    https://scikit-learn.org/stable/modules/linear_model.html#logistic-regression\n",
      "  n_iter_i = _check_optimize_result(\n",
      "C:\\Users\\Swastik\\anaconda3\\lib\\site-packages\\sklearn\\linear_model\\_logistic.py:763: ConvergenceWarning: lbfgs failed to converge (status=1):\n",
      "STOP: TOTAL NO. of ITERATIONS REACHED LIMIT.\n",
      "\n",
      "Increase the number of iterations (max_iter) or scale the data as shown in:\n",
      "    https://scikit-learn.org/stable/modules/preprocessing.html\n",
      "Please also refer to the documentation for alternative solver options:\n",
      "    https://scikit-learn.org/stable/modules/linear_model.html#logistic-regression\n",
      "  n_iter_i = _check_optimize_result(\n",
      "C:\\Users\\Swastik\\anaconda3\\lib\\site-packages\\sklearn\\linear_model\\_logistic.py:763: ConvergenceWarning: lbfgs failed to converge (status=1):\n",
      "STOP: TOTAL NO. of ITERATIONS REACHED LIMIT.\n",
      "\n",
      "Increase the number of iterations (max_iter) or scale the data as shown in:\n",
      "    https://scikit-learn.org/stable/modules/preprocessing.html\n",
      "Please also refer to the documentation for alternative solver options:\n",
      "    https://scikit-learn.org/stable/modules/linear_model.html#logistic-regression\n",
      "  n_iter_i = _check_optimize_result(\n",
      "C:\\Users\\Swastik\\anaconda3\\lib\\site-packages\\sklearn\\linear_model\\_logistic.py:763: ConvergenceWarning: lbfgs failed to converge (status=1):\n",
      "STOP: TOTAL NO. of ITERATIONS REACHED LIMIT.\n",
      "\n",
      "Increase the number of iterations (max_iter) or scale the data as shown in:\n",
      "    https://scikit-learn.org/stable/modules/preprocessing.html\n",
      "Please also refer to the documentation for alternative solver options:\n",
      "    https://scikit-learn.org/stable/modules/linear_model.html#logistic-regression\n",
      "  n_iter_i = _check_optimize_result(\n",
      "C:\\Users\\Swastik\\anaconda3\\lib\\site-packages\\sklearn\\linear_model\\_logistic.py:763: ConvergenceWarning: lbfgs failed to converge (status=1):\n",
      "STOP: TOTAL NO. of ITERATIONS REACHED LIMIT.\n",
      "\n",
      "Increase the number of iterations (max_iter) or scale the data as shown in:\n",
      "    https://scikit-learn.org/stable/modules/preprocessing.html\n",
      "Please also refer to the documentation for alternative solver options:\n",
      "    https://scikit-learn.org/stable/modules/linear_model.html#logistic-regression\n",
      "  n_iter_i = _check_optimize_result(\n",
      "C:\\Users\\Swastik\\anaconda3\\lib\\site-packages\\sklearn\\linear_model\\_logistic.py:763: ConvergenceWarning: lbfgs failed to converge (status=1):\n",
      "STOP: TOTAL NO. of ITERATIONS REACHED LIMIT.\n",
      "\n",
      "Increase the number of iterations (max_iter) or scale the data as shown in:\n",
      "    https://scikit-learn.org/stable/modules/preprocessing.html\n",
      "Please also refer to the documentation for alternative solver options:\n",
      "    https://scikit-learn.org/stable/modules/linear_model.html#logistic-regression\n",
      "  n_iter_i = _check_optimize_result(\n"
     ]
    },
    {
     "data": {
      "text/plain": [
       "GridSearchCV(estimator=LogisticRegression(),\n",
       "             param_grid={'C': array([54.13470824, 26.52268101]),\n",
       "                         'penalty': ['l2']})"
      ]
     },
     "execution_count": 131,
     "metadata": {},
     "output_type": "execute_result"
    }
   ],
   "source": [
    "np.random.seed(300)\n",
    "mod = GridSearchCV(clf, param_grid={'penalty':['l2'],\n",
    "                                  'C':np.random.uniform(0,120,2)})\n",
    "mod.fit(X_train,y_train)"
   ]
  },
  {
   "cell_type": "code",
   "execution_count": 132,
   "id": "cab90308",
   "metadata": {},
   "outputs": [
    {
     "data": {
      "text/plain": [
       "LogisticRegression(C=26.522681005625447)"
      ]
     },
     "execution_count": 132,
     "metadata": {},
     "output_type": "execute_result"
    }
   ],
   "source": [
    "mod.best_estimator_"
   ]
  },
  {
   "cell_type": "code",
   "execution_count": 133,
   "id": "afe2c50b",
   "metadata": {},
   "outputs": [
    {
     "data": {
      "text/plain": [
       "0.85885"
      ]
     },
     "execution_count": 133,
     "metadata": {},
     "output_type": "execute_result"
    }
   ],
   "source": [
    "mod.best_score_"
   ]
  },
  {
   "cell_type": "code",
   "execution_count": 134,
   "id": "6569e530",
   "metadata": {},
   "outputs": [
    {
     "data": {
      "text/plain": [
       "array([[2.74501148e-02, 9.72549885e-01],\n",
       "       [6.29009080e-02, 9.37099092e-01],\n",
       "       [9.99989018e-01, 1.09820923e-05],\n",
       "       ...,\n",
       "       [7.79798787e-06, 9.99992202e-01],\n",
       "       [1.12178385e-02, 9.88782161e-01],\n",
       "       [3.33860468e-03, 9.96661395e-01]])"
      ]
     },
     "execution_count": 134,
     "metadata": {},
     "output_type": "execute_result"
    }
   ],
   "source": [
    "mod.predict_proba(X_test)"
   ]
  },
  {
   "cell_type": "code",
   "execution_count": 137,
   "id": "61ba183e",
   "metadata": {},
   "outputs": [],
   "source": [
    "auc = roc_auc_score(y_test, mod.predict_proba(X_test)[:,1])"
   ]
  },
  {
   "cell_type": "code",
   "execution_count": 138,
   "id": "a44233ec",
   "metadata": {},
   "outputs": [
    {
     "data": {
      "text/plain": [
       "0.9395838614198551"
      ]
     },
     "execution_count": 138,
     "metadata": {},
     "output_type": "execute_result"
    }
   ],
   "source": [
    "auc"
   ]
  },
  {
   "cell_type": "code",
   "execution_count": 136,
   "id": "3af91dd4",
   "metadata": {},
   "outputs": [],
   "source": [
    "fpr, tpr, threshold = roc_curve(y_test, mod.predict_proba(X_test)[:,1])"
   ]
  },
  {
   "cell_type": "code",
   "execution_count": 139,
   "id": "bf745de3",
   "metadata": {},
   "outputs": [
    {
     "data": {
      "text/plain": [
       "Text(0.5, 1.0, 'Receiver Operating Characteristic (ROC)')"
      ]
     },
     "execution_count": 139,
     "metadata": {},
     "output_type": "execute_result"
    },
    {
     "data": {
      "image/png": "[encoded data removed]",
      "text/plain": [
       "<Figure size 432x288 with 1 Axes>"
      ]
     },
     "metadata": {
      "needs_background": "light"
     },
     "output_type": "display_data"
    }
   ],
   "source": [
    "plt.plot(fpr, tpr, 'b', label = 'AUC = %0.2f' % auc)\n",
    "plt.plot([0,1],[0,1],'r--')\n",
    "plt.xlim([0,1])\n",
    "plt.ylim([0,1])\n",
    "plt.legend(loc='lower right')\n",
    "plt.ylabel('True Positive Rate')\n",
    "plt.xlabel('False Positive Rate')\n",
    "plt.title('Receiver Operating Characteristic (ROC)')"
   ]
  },
  {
   "cell_type": "code",
   "execution_count": 140,
   "id": "a6c07486",
   "metadata": {},
   "outputs": [
    {
     "data": {
      "text/plain": [
       "array([1, 1, 0, ..., 1, 1, 1], dtype=int64)"
      ]
     },
     "execution_count": 140,
     "metadata": {},
     "output_type": "execute_result"
    }
   ],
   "source": [
    "mod.predict(X_test)"
   ]
  },
  {
   "cell_type": "code",
   "execution_count": 142,
   "id": "37e59e13",
   "metadata": {},
   "outputs": [],
   "source": [
    "confmat=confusion_matrix(y_test, mod.predict(X_test))"
   ]
  },
  {
   "cell_type": "code",
   "execution_count": 143,
   "id": "d862ef4b",
   "metadata": {},
   "outputs": [
    {
     "data": {
      "text/html": [
       "<div>\n",
       "<style scoped>\n",
       "    .dataframe tbody tr th:only-of-type {\n",
       "        vertical-align: middle;\n",
       "    }\n",
       "\n",
       "    .dataframe tbody tr th {\n",
       "        vertical-align: top;\n",
       "    }\n",
       "\n",
       "    .dataframe thead th {\n",
       "        text-align: right;\n",
       "    }\n",
       "</style>\n",
       "<table border=\"1\" class=\"dataframe\">\n",
       "  <thead>\n",
       "    <tr style=\"text-align: right;\">\n",
       "      <th></th>\n",
       "      <th>Predicted 0</th>\n",
       "      <th>Predicted 1</th>\n",
       "    </tr>\n",
       "  </thead>\n",
       "  <tbody>\n",
       "    <tr>\n",
       "      <th>Actual 0</th>\n",
       "      <td>2164</td>\n",
       "      <td>304</td>\n",
       "    </tr>\n",
       "    <tr>\n",
       "      <th>Actual 1</th>\n",
       "      <td>326</td>\n",
       "      <td>2206</td>\n",
       "    </tr>\n",
       "  </tbody>\n",
       "</table>\n",
       "</div>"
      ],
      "text/plain": [
       "          Predicted 0  Predicted 1\n",
       "Actual 0         2164          304\n",
       "Actual 1          326         2206"
      ]
     },
     "execution_count": 143,
     "metadata": {},
     "output_type": "execute_result"
    }
   ],
   "source": [
    "pd.DataFrame(confmat, index=['Actual 0', 'Actual 1'], columns=['Predicted 0', 'Predicted 1'])"
   ]
  },
  {
   "cell_type": "code",
   "execution_count": 145,
   "id": "eb223846",
   "metadata": {
    "scrolled": true
   },
   "outputs": [
    {
     "name": "stdout",
     "output_type": "stream",
     "text": [
      "              precision    recall  f1-score   support\n",
      "\n",
      "           0       0.87      0.88      0.87      2468\n",
      "           1       0.88      0.87      0.88      2532\n",
      "\n",
      "    accuracy                           0.87      5000\n",
      "   macro avg       0.87      0.87      0.87      5000\n",
      "weighted avg       0.87      0.87      0.87      5000\n",
      "\n"
     ]
    }
   ],
   "source": [
    "print(classification_report(y_test, mod.predict(X_test)))"
   ]
  },
  {
   "cell_type": "code",
   "execution_count": 162,
   "id": "eaa439f8",
   "metadata": {},
   "outputs": [],
   "source": [
    "demo_text = ['for starters , it was created by alan moore ( and eddie campbell ) , who brought the medium to a whole new level in the mid 80s with a 12-part series called the watchmen .   ',\n",
    "            \"in other words , don't dismiss this film because of its source .\",\n",
    "            'Must watch',\n",
    "            'if you can get past the whole comic book thing , you might find another stumbling block in from hells directors , albert and allen hughes',\n",
    "            \"'it's a quick , straight shot to the movie's end'\",\n",
    "            'negative',\n",
    "            \"'after watching _a_night_at_the_roxbury_ , you'll be left with exactly the same'\"]"
   ]
  },
  {
   "cell_type": "code",
   "execution_count": 163,
   "id": "182662f3",
   "metadata": {},
   "outputs": [
    {
     "data": {
      "text/plain": [
       "array([1, 0, 1, 0, 1, 1, 0], dtype=int64)"
      ]
     },
     "execution_count": 163,
     "metadata": {},
     "output_type": "execute_result"
    }
   ],
   "source": [
    "mod.predict(cv.transform(demo_text))"
   ]
  },
  {
   "cell_type": "code",
   "execution_count": null,
   "id": "784c3b0d",
   "metadata": {},
   "outputs": [],
   "source": []
  },
  {
   "cell_type": "code",
   "execution_count": 165,
   "id": "e39a356f",
   "metadata": {},
   "outputs": [],
   "source": [
    "pixel_values = pd.read_csv('mnist_x.csv')\n",
    "image_labels = pd.read_csv('mnist_y.csv', header=None)"
   ]
  },
  {
   "cell_type": "code",
   "execution_count": 171,
   "id": "403cf4a7",
   "metadata": {},
   "outputs": [
    {
     "data": {
      "text/plain": [
       "(1797, 64)"
      ]
     },
     "execution_count": 171,
     "metadata": {},
     "output_type": "execute_result"
    }
   ],
   "source": [
    "pixel_values.shape"
   ]
  },
  {
   "cell_type": "code",
   "execution_count": 166,
   "id": "818fdba2",
   "metadata": {},
   "outputs": [
    {
     "data": {
      "text/html": [
       "<div>\n",
       "<style scoped>\n",
       "    .dataframe tbody tr th:only-of-type {\n",
       "        vertical-align: middle;\n",
       "    }\n",
       "\n",
       "    .dataframe tbody tr th {\n",
       "        vertical-align: top;\n",
       "    }\n",
       "\n",
       "    .dataframe thead th {\n",
       "        text-align: right;\n",
       "    }\n",
       "</style>\n",
       "<table border=\"1\" class=\"dataframe\">\n",
       "  <thead>\n",
       "    <tr style=\"text-align: right;\">\n",
       "      <th></th>\n",
       "      <th>0</th>\n",
       "      <th>1</th>\n",
       "      <th>2</th>\n",
       "      <th>3</th>\n",
       "      <th>4</th>\n",
       "      <th>5</th>\n",
       "      <th>6</th>\n",
       "      <th>7</th>\n",
       "      <th>8</th>\n",
       "      <th>9</th>\n",
       "      <th>...</th>\n",
       "      <th>54</th>\n",
       "      <th>55</th>\n",
       "      <th>56</th>\n",
       "      <th>57</th>\n",
       "      <th>58</th>\n",
       "      <th>59</th>\n",
       "      <th>60</th>\n",
       "      <th>61</th>\n",
       "      <th>62</th>\n",
       "      <th>63</th>\n",
       "    </tr>\n",
       "  </thead>\n",
       "  <tbody>\n",
       "    <tr>\n",
       "      <th>0</th>\n",
       "      <td>0.0</td>\n",
       "      <td>0.0</td>\n",
       "      <td>5.0</td>\n",
       "      <td>13.0</td>\n",
       "      <td>9.0</td>\n",
       "      <td>1.0</td>\n",
       "      <td>0.0</td>\n",
       "      <td>0.0</td>\n",
       "      <td>0.0</td>\n",
       "      <td>0.0</td>\n",
       "      <td>...</td>\n",
       "      <td>0.0</td>\n",
       "      <td>0.0</td>\n",
       "      <td>0.0</td>\n",
       "      <td>0.0</td>\n",
       "      <td>6.0</td>\n",
       "      <td>13.0</td>\n",
       "      <td>10.0</td>\n",
       "      <td>0.0</td>\n",
       "      <td>0.0</td>\n",
       "      <td>0.0</td>\n",
       "    </tr>\n",
       "    <tr>\n",
       "      <th>1</th>\n",
       "      <td>0.0</td>\n",
       "      <td>0.0</td>\n",
       "      <td>0.0</td>\n",
       "      <td>12.0</td>\n",
       "      <td>13.0</td>\n",
       "      <td>5.0</td>\n",
       "      <td>0.0</td>\n",
       "      <td>0.0</td>\n",
       "      <td>0.0</td>\n",
       "      <td>0.0</td>\n",
       "      <td>...</td>\n",
       "      <td>0.0</td>\n",
       "      <td>0.0</td>\n",
       "      <td>0.0</td>\n",
       "      <td>0.0</td>\n",
       "      <td>0.0</td>\n",
       "      <td>11.0</td>\n",
       "      <td>16.0</td>\n",
       "      <td>10.0</td>\n",
       "      <td>0.0</td>\n",
       "      <td>0.0</td>\n",
       "    </tr>\n",
       "    <tr>\n",
       "      <th>2</th>\n",
       "      <td>0.0</td>\n",
       "      <td>0.0</td>\n",
       "      <td>0.0</td>\n",
       "      <td>4.0</td>\n",
       "      <td>15.0</td>\n",
       "      <td>12.0</td>\n",
       "      <td>0.0</td>\n",
       "      <td>0.0</td>\n",
       "      <td>0.0</td>\n",
       "      <td>0.0</td>\n",
       "      <td>...</td>\n",
       "      <td>5.0</td>\n",
       "      <td>0.0</td>\n",
       "      <td>0.0</td>\n",
       "      <td>0.0</td>\n",
       "      <td>0.0</td>\n",
       "      <td>3.0</td>\n",
       "      <td>11.0</td>\n",
       "      <td>16.0</td>\n",
       "      <td>9.0</td>\n",
       "      <td>0.0</td>\n",
       "    </tr>\n",
       "    <tr>\n",
       "      <th>3</th>\n",
       "      <td>0.0</td>\n",
       "      <td>0.0</td>\n",
       "      <td>7.0</td>\n",
       "      <td>15.0</td>\n",
       "      <td>13.0</td>\n",
       "      <td>1.0</td>\n",
       "      <td>0.0</td>\n",
       "      <td>0.0</td>\n",
       "      <td>0.0</td>\n",
       "      <td>8.0</td>\n",
       "      <td>...</td>\n",
       "      <td>9.0</td>\n",
       "      <td>0.0</td>\n",
       "      <td>0.0</td>\n",
       "      <td>0.0</td>\n",
       "      <td>7.0</td>\n",
       "      <td>13.0</td>\n",
       "      <td>13.0</td>\n",
       "      <td>9.0</td>\n",
       "      <td>0.0</td>\n",
       "      <td>0.0</td>\n",
       "    </tr>\n",
       "    <tr>\n",
       "      <th>4</th>\n",
       "      <td>0.0</td>\n",
       "      <td>0.0</td>\n",
       "      <td>0.0</td>\n",
       "      <td>1.0</td>\n",
       "      <td>11.0</td>\n",
       "      <td>0.0</td>\n",
       "      <td>0.0</td>\n",
       "      <td>0.0</td>\n",
       "      <td>0.0</td>\n",
       "      <td>0.0</td>\n",
       "      <td>...</td>\n",
       "      <td>0.0</td>\n",
       "      <td>0.0</td>\n",
       "      <td>0.0</td>\n",
       "      <td>0.0</td>\n",
       "      <td>0.0</td>\n",
       "      <td>2.0</td>\n",
       "      <td>16.0</td>\n",
       "      <td>4.0</td>\n",
       "      <td>0.0</td>\n",
       "      <td>0.0</td>\n",
       "    </tr>\n",
       "  </tbody>\n",
       "</table>\n",
       "<p>5 rows × 64 columns</p>\n",
       "</div>"
      ],
      "text/plain": [
       "     0    1    2     3     4     5    6    7    8    9  ...   54   55   56  \\\n",
       "0  0.0  0.0  5.0  13.0   9.0   1.0  0.0  0.0  0.0  0.0  ...  0.0  0.0  0.0   \n",
       "1  0.0  0.0  0.0  12.0  13.0   5.0  0.0  0.0  0.0  0.0  ...  0.0  0.0  0.0   \n",
       "2  0.0  0.0  0.0   4.0  15.0  12.0  0.0  0.0  0.0  0.0  ...  5.0  0.0  0.0   \n",
       "3  0.0  0.0  7.0  15.0  13.0   1.0  0.0  0.0  0.0  8.0  ...  9.0  0.0  0.0   \n",
       "4  0.0  0.0  0.0   1.0  11.0   0.0  0.0  0.0  0.0  0.0  ...  0.0  0.0  0.0   \n",
       "\n",
       "    57   58    59    60    61   62   63  \n",
       "0  0.0  6.0  13.0  10.0   0.0  0.0  0.0  \n",
       "1  0.0  0.0  11.0  16.0  10.0  0.0  0.0  \n",
       "2  0.0  0.0   3.0  11.0  16.0  9.0  0.0  \n",
       "3  0.0  7.0  13.0  13.0   9.0  0.0  0.0  \n",
       "4  0.0  0.0   2.0  16.0   4.0  0.0  0.0  \n",
       "\n",
       "[5 rows x 64 columns]"
      ]
     },
     "execution_count": 166,
     "metadata": {},
     "output_type": "execute_result"
    }
   ],
   "source": [
    "pixel_values.head()"
   ]
  },
  {
   "cell_type": "code",
   "execution_count": 167,
   "id": "e374b774",
   "metadata": {},
   "outputs": [
    {
     "data": {
      "text/html": [
       "<div>\n",
       "<style scoped>\n",
       "    .dataframe tbody tr th:only-of-type {\n",
       "        vertical-align: middle;\n",
       "    }\n",
       "\n",
       "    .dataframe tbody tr th {\n",
       "        vertical-align: top;\n",
       "    }\n",
       "\n",
       "    .dataframe thead th {\n",
       "        text-align: right;\n",
       "    }\n",
       "</style>\n",
       "<table border=\"1\" class=\"dataframe\">\n",
       "  <thead>\n",
       "    <tr style=\"text-align: right;\">\n",
       "      <th></th>\n",
       "      <th>0</th>\n",
       "    </tr>\n",
       "  </thead>\n",
       "  <tbody>\n",
       "    <tr>\n",
       "      <th>0</th>\n",
       "      <td>0</td>\n",
       "    </tr>\n",
       "    <tr>\n",
       "      <th>1</th>\n",
       "      <td>1</td>\n",
       "    </tr>\n",
       "    <tr>\n",
       "      <th>2</th>\n",
       "      <td>2</td>\n",
       "    </tr>\n",
       "    <tr>\n",
       "      <th>3</th>\n",
       "      <td>3</td>\n",
       "    </tr>\n",
       "    <tr>\n",
       "      <th>4</th>\n",
       "      <td>4</td>\n",
       "    </tr>\n",
       "  </tbody>\n",
       "</table>\n",
       "</div>"
      ],
      "text/plain": [
       "   0\n",
       "0  0\n",
       "1  1\n",
       "2  2\n",
       "3  3\n",
       "4  4"
      ]
     },
     "execution_count": 167,
     "metadata": {},
     "output_type": "execute_result"
    }
   ],
   "source": [
    "image_labels.head()"
   ]
  },
  {
   "cell_type": "code",
   "execution_count": 172,
   "id": "26b81c5e",
   "metadata": {},
   "outputs": [
    {
     "data": {
      "text/plain": [
       "<matplotlib.image.AxesImage at 0x223dfe4ab50>"
      ]
     },
     "execution_count": 172,
     "metadata": {},
     "output_type": "execute_result"
    },
    {
     "data": {
      "image/png": "[encoded data removed]",
      "text/plain": [
       "<Figure size 432x288 with 1 Axes>"
      ]
     },
     "metadata": {
      "needs_background": "light"
     },
     "output_type": "display_data"
    }
   ],
   "source": [
    "plt.imshow(np.array(pixel_values.iloc[1500]).reshape(8,8), cmap='gray')"
   ]
  },
  {
   "cell_type": "code",
   "execution_count": 173,
   "id": "fff1d8ae",
   "metadata": {},
   "outputs": [],
   "source": [
    "pixel_values = pixel_values/255.0"
   ]
  },
  {
   "cell_type": "code",
   "execution_count": 174,
   "id": "c2f73508",
   "metadata": {},
   "outputs": [],
   "source": [
    "X = pixel_values\n",
    "y = image_labels[0]"
   ]
  },
  {
   "cell_type": "code",
   "execution_count": 175,
   "id": "78e2987b",
   "metadata": {},
   "outputs": [],
   "source": [
    "Xtrain, Xtest, ytrain, ytest = train_test_split(X, y, test_size=0.2, random_state=200)"
   ]
  },
  {
   "cell_type": "code",
   "execution_count": 176,
   "id": "40069769",
   "metadata": {},
   "outputs": [],
   "source": [
    "clf = LogisticRegression(multi_class='ovr', penalty='l2', solver='lbfgs')"
   ]
  },
  {
   "cell_type": "code",
   "execution_count": 177,
   "id": "988d3eec",
   "metadata": {},
   "outputs": [
    {
     "data": {
      "text/plain": [
       "GridSearchCV(estimator=LogisticRegression(multi_class='ovr'),\n",
       "             param_grid={'C': array([9.47684625, 2.27320874, 5.94825724, 4.28880376, 7.64376546,\n",
       "       0.03857731, 3.58066258, 9.09785191, 4.56624904, 9.81820906])})"
      ]
     },
     "execution_count": 177,
     "metadata": {},
     "output_type": "execute_result"
    }
   ],
   "source": [
    "np.random.seed(200)\n",
    "mod = GridSearchCV(clf, param_grid={'C':np.random.uniform(0.01,10,10)})\n",
    "mod.fit(Xtrain,ytrain)"
   ]
  },
  {
   "cell_type": "code",
   "execution_count": 178,
   "id": "d24ceaf1",
   "metadata": {},
   "outputs": [
    {
     "data": {
      "text/plain": [
       "{'C': 9.818209064491702}"
      ]
     },
     "execution_count": 178,
     "metadata": {},
     "output_type": "execute_result"
    }
   ],
   "source": [
    "mod.best_params_"
   ]
  },
  {
   "cell_type": "code",
   "execution_count": 180,
   "id": "f0057447",
   "metadata": {},
   "outputs": [
    {
     "data": {
      "text/plain": [
       "0.9241627951993806"
      ]
     },
     "execution_count": 180,
     "metadata": {},
     "output_type": "execute_result"
    }
   ],
   "source": [
    "mod.best_score_"
   ]
  },
  {
   "cell_type": "code",
   "execution_count": 181,
   "id": "42a4e3d2",
   "metadata": {},
   "outputs": [
    {
     "data": {
      "text/plain": [
       "0.9416666666666667"
      ]
     },
     "execution_count": 181,
     "metadata": {},
     "output_type": "execute_result"
    }
   ],
   "source": [
    "mod.score(Xtest, ytest)"
   ]
  },
  {
   "cell_type": "code",
   "execution_count": 182,
   "id": "15a28972",
   "metadata": {},
   "outputs": [
    {
     "data": {
      "text/plain": [
       "array([[0.        , 0.00784314, 0.04705882, 0.05098039, 0.0627451 ,\n",
       "        0.05882353, 0.00392157, 0.        , 0.        , 0.03137255,\n",
       "        0.0627451 , 0.05490196, 0.04313725, 0.02745098, 0.        ,\n",
       "        0.        , 0.        , 0.03137255, 0.0627451 , 0.02745098,\n",
       "        0.        , 0.        , 0.        , 0.        , 0.        ,\n",
       "        0.02745098, 0.0627451 , 0.0627451 , 0.04313725, 0.00392157,\n",
       "        0.        , 0.        , 0.        , 0.        , 0.00784314,\n",
       "        0.02352941, 0.05882353, 0.03529412, 0.        , 0.        ,\n",
       "        0.        , 0.        , 0.        , 0.        , 0.03529412,\n",
       "        0.05882353, 0.        , 0.        , 0.        , 0.        ,\n",
       "        0.00392157, 0.02745098, 0.0627451 , 0.04313725, 0.        ,\n",
       "        0.        , 0.        , 0.00392157, 0.0627451 , 0.0627451 ,\n",
       "        0.05098039, 0.00392157, 0.        , 0.        ]])"
      ]
     },
     "execution_count": 182,
     "metadata": {},
     "output_type": "execute_result"
    }
   ],
   "source": [
    "Xtest.iloc[0].values.reshape(1,-1)"
   ]
  },
  {
   "cell_type": "code",
   "execution_count": 183,
   "id": "ff1df123",
   "metadata": {},
   "outputs": [
    {
     "data": {
      "text/plain": [
       "array([[0.01435224, 0.03089049, 0.01674947, 0.11443426, 0.01403317,\n",
       "        0.69181214, 0.00932715, 0.01196723, 0.05155476, 0.04487909]])"
      ]
     },
     "execution_count": 183,
     "metadata": {},
     "output_type": "execute_result"
    }
   ],
   "source": [
    "mod.predict_proba(Xtest.iloc[0].values.reshape(1,-1))"
   ]
  },
  {
   "cell_type": "code",
   "execution_count": 184,
   "id": "f97f8275",
   "metadata": {
    "scrolled": true
   },
   "outputs": [
    {
     "data": {
      "text/plain": [
       "5"
      ]
     },
     "execution_count": 184,
     "metadata": {},
     "output_type": "execute_result"
    }
   ],
   "source": [
    "np.argmax(mod.predict_proba(Xtest.iloc[0].values.reshape(1,-1)))"
   ]
  },
  {
   "cell_type": "code",
   "execution_count": 185,
   "id": "61ee5028",
   "metadata": {},
   "outputs": [
    {
     "data": {
      "text/plain": [
       "<matplotlib.image.AxesImage at 0x223dc567f40>"
      ]
     },
     "execution_count": 185,
     "metadata": {},
     "output_type": "execute_result"
    },
    {
     "data": {
      "image/png": "[encoded data removed]",
      "text/plain": [
       "<Figure size 432x288 with 1 Axes>"
      ]
     },
     "metadata": {
      "needs_background": "light"
     },
     "output_type": "display_data"
    }
   ],
   "source": [
    "plt.imshow(np.array(Xtest.iloc[0]).reshape(8,8), cmap='gray')"
   ]
  },
  {
   "cell_type": "code",
   "execution_count": 186,
   "id": "405efaf4",
   "metadata": {},
   "outputs": [
    {
     "name": "stderr",
     "output_type": "stream",
     "text": [
      "C:\\Users\\Swastik\\anaconda3\\lib\\site-packages\\sklearn\\linear_model\\_logistic.py:763: ConvergenceWarning: lbfgs failed to converge (status=1):\n",
      "STOP: TOTAL NO. of ITERATIONS REACHED LIMIT.\n",
      "\n",
      "Increase the number of iterations (max_iter) or scale the data as shown in:\n",
      "    https://scikit-learn.org/stable/modules/preprocessing.html\n",
      "Please also refer to the documentation for alternative solver options:\n",
      "    https://scikit-learn.org/stable/modules/linear_model.html#logistic-regression\n",
      "  n_iter_i = _check_optimize_result(\n"
     ]
    },
    {
     "data": {
      "text/plain": [
       "GridSearchCV(estimator=LogisticRegression(multi_class='multinomial'),\n",
       "             param_grid={'C': array([9.47684625, 2.27320874, 5.94825724, 4.28880376, 7.64376546,\n",
       "       0.03857731, 3.58066258, 9.09785191, 4.56624904, 9.81820906])})"
      ]
     },
     "execution_count": 186,
     "metadata": {},
     "output_type": "execute_result"
    }
   ],
   "source": [
    "clf = LogisticRegression(multi_class='multinomial', penalty='l2', solver='lbfgs')\n",
    "np.random.seed(200)\n",
    "mod = GridSearchCV(clf, param_grid={'C':np.random.uniform(0.01,10,10)})\n",
    "mod.fit(Xtrain,ytrain)"
   ]
  },
  {
   "cell_type": "code",
   "execution_count": 187,
   "id": "cb2867a6",
   "metadata": {},
   "outputs": [
    {
     "data": {
      "text/plain": [
       "{'C': 9.818209064491702}"
      ]
     },
     "execution_count": 187,
     "metadata": {},
     "output_type": "execute_result"
    }
   ],
   "source": [
    "mod.best_params_"
   ]
  },
  {
   "cell_type": "code",
   "execution_count": 188,
   "id": "418f74eb",
   "metadata": {},
   "outputs": [
    {
     "data": {
      "text/plain": [
       "0.9290360046457609"
      ]
     },
     "execution_count": 188,
     "metadata": {},
     "output_type": "execute_result"
    }
   ],
   "source": [
    "mod.best_score_"
   ]
  },
  {
   "cell_type": "code",
   "execution_count": 189,
   "id": "b5c56365",
   "metadata": {},
   "outputs": [
    {
     "data": {
      "text/plain": [
       "0.9472222222222222"
      ]
     },
     "execution_count": 189,
     "metadata": {},
     "output_type": "execute_result"
    }
   ],
   "source": [
    "mod.score(Xtest, ytest)"
   ]
  },
  {
   "cell_type": "code",
   "execution_count": 195,
   "id": "d1d17d9e",
   "metadata": {},
   "outputs": [
    {
     "data": {
      "text/plain": [
       "6"
      ]
     },
     "execution_count": 195,
     "metadata": {},
     "output_type": "execute_result"
    }
   ],
   "source": [
    "np.argmax(mod.predict_proba(Xtest.iloc[50].values.reshape(1,-1)))"
   ]
  },
  {
   "cell_type": "code",
   "execution_count": 196,
   "id": "74989d24",
   "metadata": {},
   "outputs": [
    {
     "data": {
      "text/plain": [
       "<matplotlib.image.AxesImage at 0x223dc94c8e0>"
      ]
     },
     "execution_count": 196,
     "metadata": {},
     "output_type": "execute_result"
    },
    {
     "data": {
      "image/png": "[encoded data removed]",
      "text/plain": [
       "<Figure size 432x288 with 1 Axes>"
      ]
     },
     "metadata": {
      "needs_background": "light"
     },
     "output_type": "display_data"
    }
   ],
   "source": [
    "plt.imshow(np.array(Xtest.iloc[50]).reshape(8,8), cmap='gray')"
   ]
  },
  {
   "cell_type": "code",
   "execution_count": null,
   "id": "19f63fbc",
   "metadata": {},
   "outputs": [],
   "source": []
  },
  {
   "cell_type": "code",
   "execution_count": null,
   "id": "4f66d370",
   "metadata": {},
   "outputs": [],
   "source": []
  }
 ],
 "metadata": {
  "kernelspec": {
   "display_name": "Python 3",
   "language": "python",
   "name": "python3"
  },
  "language_info": {
   "codemirror_mode": {
    "name": "ipython",
    "version": 3
   },
   "file_extension": ".py",
   "mimetype": "text/x-python",
   "name": "python",
   "nbconvert_exporter": "python",
   "pygments_lexer": "ipython3",
   "version": "3.8.8"
  }
 },
 "nbformat": 4,
 "nbformat_minor": 5
}
